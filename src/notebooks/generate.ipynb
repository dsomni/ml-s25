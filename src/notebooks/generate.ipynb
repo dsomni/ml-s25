{
 "cells": [
  {
   "cell_type": "code",
   "execution_count": 20,
   "metadata": {},
   "outputs": [],
   "source": [
    "import asyncio\n",
    "import json\n",
    "import re\n",
    "from typing import Optional\n",
    "\n",
    "import nest_asyncio\n",
    "import pandas as pd\n",
    "import tqdm\n",
    "from g4f.client import AsyncClient\n",
    "from googletrans import Translator\n",
    "from tqdm.asyncio import tqdm_asyncio\n",
    "\n",
    "nest_asyncio.apply()"
   ]
  },
  {
   "cell_type": "markdown",
   "metadata": {},
   "source": [
    "## Refactor and save tasks dict"
   ]
  },
  {
   "cell_type": "code",
   "execution_count": 21,
   "metadata": {},
   "outputs": [],
   "source": [
    "CLEAN_TAGS_R = re.compile(\"<.*?>|&([a-z0-9]+|#[0-9]{1,6}|#x[0-9a-f]{1,6});\")\n",
    "\n",
    "\n",
    "def remove_html_tags(text: str) -> str:\n",
    "    return re.sub(CLEAN_TAGS_R, \"\", text)"
   ]
  },
  {
   "cell_type": "code",
   "execution_count": 22,
   "metadata": {},
   "outputs": [],
   "source": [
    "def batch_list(strings: list[str], batch_size: int) -> list[list[str]]:\n",
    "    return [strings[i : i + batch_size] for i in range(0, len(strings), batch_size)]\n",
    "\n",
    "\n",
    "async def translate_text(text: str, src: str = \"ru\", dest: str = \"en\") -> str:\n",
    "    translator = Translator()\n",
    "    translation = await translator.translate(text, src=src, dest=dest)\n",
    "    return translation.text\n",
    "\n",
    "\n",
    "async def translate_texts_inner(\n",
    "    texts: list[str], src: str = \"ru\", dest: str = \"en\"\n",
    ") -> list[str]:\n",
    "    translator = Translator()\n",
    "    if len(texts) > 1:\n",
    "        return [res.text for res in await translator.translate(texts, src=src, dest=dest)]\n",
    "    res = await translator.translate(texts[0], src=src, dest=dest)\n",
    "    return [res.text]\n",
    "\n",
    "\n",
    "async def translate_texts(texts: list[str]) -> list[str]:\n",
    "    res = await tqdm_asyncio.gather(\n",
    "        *[translate_texts_inner(text_list) for text_list in batch_list(texts, 5)]\n",
    "    )\n",
    "\n",
    "    ans = []\n",
    "    for r in res:\n",
    "        ans.extend(r)\n",
    "    return ans"
   ]
  },
  {
   "cell_type": "code",
   "execution_count": 23,
   "metadata": {},
   "outputs": [],
   "source": [
    "def save_dict(tasks_dict: dict, path: str):\n",
    "    with open(path, \"w\", encoding=\"utf8\") as f:\n",
    "        json.dump(tasks_dict, f, ensure_ascii=False, indent=4)\n",
    "\n",
    "\n",
    "def build_task_str(task: dict) -> str:\n",
    "    return remove_html_tags(\n",
    "        f\"{task['title']}\\n\\n\"\n",
    "        + f\"Теги:{task['tags']}\\n\\n\"\n",
    "        + f\"{task['description']}\\n\\n\"\n",
    "        + f\"Формат входных данных:\\n{task['inputFormat']}\\n\\n\"\n",
    "        + f\"Формат выходных данных:\\n{task['outputFormat']}\\n\\n\"\n",
    "        + f\"Примеры\\n{task['examples']}\"\n",
    "        + (f\"\\n\\nПримечание:\\n{task['remark']}\" if task[\"remark\"] != \"\" else \"\")\n",
    "    )\n",
    "\n",
    "\n",
    "def compile_tasks_dict() -> dict[str, str]:\n",
    "    df = pd.read_csv(\"../../data/db_tasks.csv\")\n",
    "    raw_dict = df.fillna(\"\").set_index(\"spec\").to_dict(orient=\"index\")\n",
    "\n",
    "    return {str(spec): build_task_str(task) for spec, task in raw_dict.items()}\n",
    "\n",
    "\n",
    "async def save_dicts():\n",
    "    tasks_dict = compile_tasks_dict()\n",
    "    save_dict(tasks_dict, \"../../data/generated/db_tasks_ru.json\")\n",
    "\n",
    "    specs, values = zip(*tasks_dict.items())\n",
    "    translated_values = await translate_texts(list(values))\n",
    "    tasks_dict_en = dict(zip(specs, translated_values))\n",
    "    save_dict(tasks_dict_en, \"../../data/generated/db_tasks_en.json\")\n",
    "\n",
    "\n",
    "# await save_dicts()"
   ]
  },
  {
   "cell_type": "markdown",
   "metadata": {},
   "source": [
    "## Load tasks dict"
   ]
  },
  {
   "cell_type": "code",
   "execution_count": 24,
   "metadata": {},
   "outputs": [
    {
     "data": {
      "text/plain": [
       "553"
      ]
     },
     "execution_count": 24,
     "metadata": {},
     "output_type": "execute_result"
    }
   ],
   "source": [
    "def load_dict(path: str) -> dict:\n",
    "    try:\n",
    "        with open(path, \"r\", encoding=\"utf8\") as f:\n",
    "            return json.load(f)\n",
    "    except FileNotFoundError:\n",
    "        return {}\n",
    "\n",
    "\n",
    "tasks_dict: dict[str, str] = load_dict(\"../../data/generated/db_tasks_en.json\")\n",
    "len(tasks_dict)"
   ]
  },
  {
   "cell_type": "markdown",
   "metadata": {},
   "source": [
    "## Generate solutions"
   ]
  },
  {
   "cell_type": "code",
   "execution_count": 25,
   "metadata": {},
   "outputs": [],
   "source": [
    "AVAILABLE_MODELS = [\n",
    "    \"hermes-3\",\n",
    "    \"lfm-40b\",\n",
    "    \"dolphin-2.9\",\n",
    "    \"lzlv-70b\",\n",
    "    \"dolphin-2.6\",\n",
    "    \"airoboros-70b\",\n",
    "    \"wizardlm-2-8x22b\",\n",
    "    \"gemini-2.0-flash-thinking\",\n",
    "    \"llama-3.2-3b\",\n",
    "    \"gemini-2.0\",\n",
    "    \"gemini-2.0-flash\",\n",
    "    \"llama-3.1-70b\",\n",
    "    \"gemini-1.5-pro\",\n",
    "    \"blackboxai\",\n",
    "    \"sonar-pro\",\n",
    "    \"claude-3.5-sonnet\",\n",
    "    # \"gpt-4o\",\n",
    "    \"blackboxai-pro\",\n",
    "    # \"gpt-4\",\n",
    "    \"evil\",\n",
    "    \"qwen-2.5-1m\",\n",
    "    \"glm-4\",\n",
    "    \"qwen-2-72b\",\n",
    "    \"gemini-1.5-flash\",\n",
    "]\n",
    "PROMPTS = [\n",
    "    # lambda task: f\"Please provide python code without any external imports to solve the task below. Provide pure code without any explanations and comments. Make sure that it looks like written by human. Produce correct input/output logic. Here is the task: \\n{task}\",\n",
    "    lambda task: f\"\"\"Write a Python solution for the following task. The code should look like it was written by an intermediate human developer—natural, readable, and practical but not overly optimized or perfect. Follow these guidelines:\n",
    "Variable Names: Use descriptive but not overly long names (e.g., res instead of result or final_output_value).\n",
    "Comments: Include a no comments.\n",
    "Structure: Use simple functions or straightforward logic unless the problem demands complexity.\n",
    "Imperfections: Small stylistic quirks are okay (e.g., mixing single/double quotes, occasional redundant logic).\n",
    "Error Handling: Basic checks (e.g., for edge cases) but no excessive validation unless required.\n",
    "Formatting: Use standard PEP 8 style but allow minor deviations (e.g., inconsistent spacing in one place).\n",
    "Task: \\n{task}.\"\"\",\n",
    "]"
   ]
  },
  {
   "cell_type": "code",
   "execution_count": 26,
   "metadata": {},
   "outputs": [],
   "source": [
    "def extract_python_code(res: str) -> str:\n",
    "    try:\n",
    "        return re.findall(r\"```python(.*)```\", res, re.DOTALL)[0]\n",
    "    except IndexError:\n",
    "        return res\n",
    "\n",
    "\n",
    "async def access_llm(client: AsyncClient, model: str, prompt: str) -> Optional[str]:\n",
    "    try:\n",
    "        response = await client.chat.completions.create(\n",
    "            model=model, messages=[{\"role\": \"user\", \"content\": prompt}], web_search=False\n",
    "        )\n",
    "        return extract_python_code(response.choices[0].message.content), model\n",
    "    except Exception as _:\n",
    "        return None, model"
   ]
  },
  {
   "cell_type": "code",
   "execution_count": 27,
   "metadata": {},
   "outputs": [],
   "source": [
    "async def generate_solutions(\n",
    "    task_dict: dict,\n",
    "    prompt=PROMPTS[0],\n",
    "    models: list[str] = AVAILABLE_MODELS,\n",
    ") -> list:\n",
    "    solutions = []\n",
    "\n",
    "    for spec, task in tqdm.tqdm(task_dict.items()):\n",
    "        client = AsyncClient()\n",
    "\n",
    "        results = [access_llm(client, m, prompt(task)) for m in models]\n",
    "\n",
    "        for coro in asyncio.as_completed(results):\n",
    "            solution, m = await coro\n",
    "            print(f\"{m} Completes!\")\n",
    "            if solution is None or len(solution) == 0:\n",
    "                continue\n",
    "            solutions.append((spec, m, solution))\n",
    "\n",
    "        await asyncio.sleep(1)\n",
    "\n",
    "    return solutions"
   ]
  },
  {
   "cell_type": "code",
   "execution_count": 28,
   "metadata": {},
   "outputs": [
    {
     "name": "stderr",
     "output_type": "stream",
     "text": [
      "  0%|          | 0/2 [00:00<?, ?it/s]"
     ]
    },
    {
     "name": "stdout",
     "output_type": "stream",
     "text": [
      "hermes-3 Completes!\n",
      "lfm-40b Completes!\n",
      "gemini-1.5-pro Completes!\n",
      "gemini-1.5-flash Completes!\n",
      "airoboros-70b Completes!\n",
      "dolphin-2.6 Completes!\n",
      "dolphin-2.9 Completes!\n",
      "lzlv-70b Completes!\n",
      "llama-3.1-70b Completes!\n",
      "wizardlm-2-8x22b Completes!\n",
      "llama-3.2-3b Completes!\n",
      "claude-3.5-sonnet Completes!\n",
      "evil Completes!\n",
      "gemini-2.0-flash-thinking Completes!\n",
      "gemini-2.0 Completes!\n",
      "glm-4 Completes!\n",
      "blackboxai Completes!\n",
      "gemini-2.0-flash Completes!\n",
      "blackboxai-pro Completes!\n",
      "qwen-2.5-1m Completes!\n",
      "qwen-2-72b Completes!\n",
      "sonar-pro Completes!\n"
     ]
    },
    {
     "name": "stderr",
     "output_type": "stream",
     "text": [
      " 50%|█████     | 1/2 [00:16<00:16, 16.60s/it]"
     ]
    },
    {
     "name": "stdout",
     "output_type": "stream",
     "text": [
      "hermes-3 Completes!\n",
      "lfm-40b Completes!\n",
      "lzlv-70b Completes!\n",
      "dolphin-2.6 Completes!\n",
      "dolphin-2.9 Completes!\n",
      "airoboros-70b Completes!\n",
      "wizardlm-2-8x22b Completes!\n",
      "claude-3.5-sonnet Completes!\n",
      "llama-3.2-3b Completes!\n",
      "llama-3.1-70b Completes!\n",
      "gemini-1.5-pro Completes!\n",
      "glm-4 Completes!\n",
      "gemini-1.5-flash Completes!\n",
      "gemini-2.0-flash-thinking Completes!\n",
      "gemini-2.0 Completes!\n",
      "evil Completes!\n",
      "gemini-2.0-flash Completes!\n",
      "blackboxai Completes!\n",
      "blackboxai-pro Completes!\n",
      "qwen-2.5-1m Completes!\n",
      "sonar-pro Completes!\n",
      "qwen-2-72b Completes!\n"
     ]
    },
    {
     "name": "stderr",
     "output_type": "stream",
     "text": [
      "100%|██████████| 2/2 [00:33<00:00, 16.84s/it]\n"
     ]
    }
   ],
   "source": [
    "test_dict = {\n",
    "    k: tasks_dict[k]\n",
    "    for k in [\n",
    "        \"c0df7d49-26f5-451c-b44a-1e0bca60bca5\",\n",
    "        \"4e5b21c0-e86f-4eac-82b6-1a0d00ae4199\",\n",
    "    ]\n",
    "}\n",
    "\n",
    "res = await generate_solutions(test_dict)"
   ]
  },
  {
   "cell_type": "code",
   "execution_count": 29,
   "metadata": {},
   "outputs": [
    {
     "data": {
      "text/plain": [
       "[('c0df7d49-26f5-451c-b44a-1e0bca60bca5',\n",
       "  'hermes-3',\n",
       "  '\\ndef sequence_length():\\n    length = 0\\n    while True:\\n        num = int(input())\\n        if num == 0:\\n            break\\n        length += 1\\n    return length\\n\\nprint(sequence_length())\\n'),\n",
       " ('c0df7d49-26f5-451c-b44a-1e0bca60bca5',\n",
       "  'lfm-40b',\n",
       "  '\\n# Python solution for sequence length task\\ndef sequence_length():\\n    count = 0\\n    # Read input until 0 is encountered\\n    while True:\\n        num = int(input())\\n        if num == 0:\\n            break\\n        count += 1\\n    # Print the count of numbers excluding the final 0\\n    print(count)\\n\\nsequence_length()\\n'),\n",
       " ('c0df7d49-26f5-451c-b44a-1e0bca60bca5',\n",
       "  'gemini-1.5-pro',\n",
       "  '\\ndef sequence_length():\\n    count = 0\\n    while True:\\n        num = int(input())\\n        if num == 0:\\n            break\\n        count += 1\\n    print(count)\\n\\nsequence_length()\\n'),\n",
       " ('c0df7d49-26f5-451c-b44a-1e0bca60bca5',\n",
       "  'gemini-1.5-flash',\n",
       "  '\\ndef sequence_length():\\n    count = 0\\n    while True:\\n        num = int(input())\\n        if num == 0:\\n            break\\n        count += 1\\n    print(count)\\n\\nsequence_length()\\n'),\n",
       " ('c0df7d49-26f5-451c-b44a-1e0bca60bca5',\n",
       "  'llama-3.1-70b',\n",
       "  '\\ndef count_sequence_length():\\n    sequence = []\\n    while True:\\n        num = int(input())\\n        if num == 0:\\n            break\\n        sequence.append(num)\\n    \\n    print(len(sequence))\\n\\ncount_sequence_length()\\n'),\n",
       " ('c0df7d49-26f5-451c-b44a-1e0bca60bca5',\n",
       "  'llama-3.2-3b',\n",
       "  '\\ndef count_sequence_length():\\n    \"\"\"Reads a sequence of non-negative integers from input, counts the number of members, and returns the result.\"\"\"\\n    sequence = []\\n    while True:\\n        # Read the next integer from input\\n        num = int(input())\\n        \\n        # If the number is 0, break the loop\\n        if num == 0:\\n            break\\n        \\n        # Add the number to the sequence\\n        sequence.append(num)\\n\\n    # Return the length of the sequence\\n    return len(sequence)\\n\\n# Call the function and print the result\\nprint(count_sequence_length())\\n'),\n",
       " ('c0df7d49-26f5-451c-b44a-1e0bca60bca5',\n",
       "  'claude-3.5-sonnet',\n",
       "  'You have reached your request limit for the hour'),\n",
       " ('c0df7d49-26f5-451c-b44a-1e0bca60bca5',\n",
       "  'evil',\n",
       "  '\\ndef count_sequence():\\n    count = 0\\n    while True:\\n        num = int(input(\"Enter a number: \"))\\n        if num == 0:\\n            break\\n        count += 1\\n    print(count)\\n\\ncount_sequence()\\n'),\n",
       " ('c0df7d49-26f5-451c-b44a-1e0bca60bca5',\n",
       "  'glm-4',\n",
       "  'The program correctly determined that the sequence length for the input \"1 7 9 0\" is 3.'),\n",
       " ('c0df7d49-26f5-451c-b44a-1e0bca60bca5',\n",
       "  'blackboxai',\n",
       "  '\\ndef count_sequence_length():\\n    count = 0\\n    while True:\\n        num = int(input(\"Enter a non-negative integer (0 to end): \"))\\n        if num == 0:\\n            break\\n        count += 1\\n    print(count)\\n\\ncount_sequence_length()\\n'),\n",
       " ('c0df7d49-26f5-451c-b44a-1e0bca60bca5',\n",
       "  'gemini-2.0-flash',\n",
       "  '\\ndef count_sequence_length():\\n    count = 0\\n    while True:\\n        num_str = input(\"Enter a number: \")\\n        num = int(num_str)\\n        if num == 0:\\n            break\\n        count += 1\\n    print(count)\\n\\ncount_sequence_length()\\n'),\n",
       " ('c0df7d49-26f5-451c-b44a-1e0bca60bca5',\n",
       "  'blackboxai-pro',\n",
       "  '\\ndef count_sequence_length():\\n    count = 0\\n    while True:\\n        num = int(input(\"Enter a non-negative integer (0 to end): \"))\\n        if num == 0:\\n            break\\n        count += 1\\n    print(count)\\n\\ncount_sequence_length()\\n'),\n",
       " ('c0df7d49-26f5-451c-b44a-1e0bca60bca5',\n",
       "  'qwen-2.5-1m',\n",
       "  '\\ndef count_sequence_length():\\n    # Initialize counter for sequence length\\n    count = 0\\n    \\n    # Loop to read input until 0 is encountered\\n    while True:\\n        # Read input from user\\n        num = int(input(\"Enter a number: \"))\\n        \\n        # Check if the number is 0 to break the loop\\n        if num == 0:\\n            break\\n        \\n        # Increment the counter for each valid number\\n        count += 1\\n    \\n    # Print the total count of numbers excluding the final 0\\n    print(count)\\n\\n# Call the function to execute the program\\ncount_sequence_length()\\n'),\n",
       " ('c0df7d49-26f5-451c-b44a-1e0bca60bca5',\n",
       "  'qwen-2-72b',\n",
       "  \"\\nnums = input().split()\\ncount = 0\\nfor num in nums:\\n    if num == '0':\\n        break\\n    count += 1\\nprint(count)\\n\"),\n",
       " ('c0df7d49-26f5-451c-b44a-1e0bca60bca5',\n",
       "  'sonar-pro',\n",
       "  '\\ndef count_sequence():\\n    sequence = input(\"Enter a sequence of non-negative integers ending with 0: \")\\n    numbers = sequence.split()\\n    \\n    count = 0\\n    for num in numbers:\\n        if num == \\'0\\':\\n            break\\n        count += 1\\n    \\n    print(count)\\n\\n# Run the function\\ncount_sequence()\\n'),\n",
       " ('4e5b21c0-e86f-4eac-82b6-1a0d00ae4199',\n",
       "  'hermes-3',\n",
       "  'def main():\\n    nums = [int(i) for i in input().split()]\\n    max_num = max(nums)\\n    count = sum(1 for i in nums if i == max_num)\\n    print(count)\\n\\nif __name__ == \"__main__\":\\n    main()'),\n",
       " ('4e5b21c0-e86f-4eac-82b6-1a0d00ae4199',\n",
       "  'lfm-40b',\n",
       "  \"\\n# This Python program reads a sequence of integers ending with 0,\\n# counts the number of elements equal to the maximum element of the sequence.\\n\\ndef count_max_elements(sequence):\\n    # Initialize variables to keep track of the maximum value and its count\\n    max_value = float('-inf')\\n    max_count = 0\\n    \\n    # Iterate over the sequence\\n    for num in sequence:\\n        # Update max_value if a larger number is found\\n        if num > max_value:\\n            max_value = num\\n        # Increment the count if the current number equals the max_value\\n        if num == max_value:\\n            max_count += 1\\n    \\n    # Return the count of elements equal to the maximum value\\n    return max_count\\n\\n# Read the input sequence\\nsequence = [int(x) for x in input().split()]\\n# Call the function and print the result\\nprint(count_max_elements(sequence))\\n\"),\n",
       " ('4e5b21c0-e86f-4eac-82b6-1a0d00ae4199',\n",
       "  'claude-3.5-sonnet',\n",
       "  'You have reached your request limit for the hour'),\n",
       " ('4e5b21c0-e86f-4eac-82b6-1a0d00ae4199',\n",
       "  'llama-3.2-3b',\n",
       "  '\\ndef elements_equal_to_max(sequence):\\n    max_element = max(int(x) for x in sequence.split())\\n    return sum(1 for x in sequence.split() if int(x) == max_element)\\n\\nsequence = input()\\nprint(elements_equal_to_max(sequence))\\n'),\n",
       " ('4e5b21c0-e86f-4eac-82b6-1a0d00ae4199',\n",
       "  'llama-3.1-70b',\n",
       "  '\\ndef count_max_elements():\\n    max_num = -1\\n    max_count = 0\\n    num = int(input())\\n    \\n    while num != 0:\\n        if num > max_num:\\n            max_num = num\\n            max_count = 1\\n        elif num == max_num:\\n            max_count += 1\\n        num = int(input())\\n    \\n    print(max_count)\\n\\ncount_max_elements()\\n'),\n",
       " ('4e5b21c0-e86f-4eac-82b6-1a0d00ae4199', 'gemini-1.5-pro', '流量异常,请尝试更换网络环境'),\n",
       " ('4e5b21c0-e86f-4eac-82b6-1a0d00ae4199',\n",
       "  'glm-4',\n",
       "  'The function seems to be working correctly for the provided example. The output for the input sequence $[1, 7, 9, 0]$ is $1$, which matches the expected result. The number $9$ is the maximum element in the sequence, and it appears once. \\n\\nWould you like to test the function with additional sequences or proceed with something else?'),\n",
       " ('4e5b21c0-e86f-4eac-82b6-1a0d00ae4199',\n",
       "  'gemini-1.5-flash',\n",
       "  '\\ndef count_max_elements(data):\\n  max_num = data[0]\\n  count = 1 \\n  for num in data[1:]:\\n    if num > max_num:\\n      max_num = num\\n      count = 1\\n    elif num == max_num:\\n      count += 1\\n  return count\\n\\ninput_str = input()\\nnumbers = [int(x) for x in input_str.split()]\\nprint(count_max_elements(numbers))\\n'),\n",
       " ('4e5b21c0-e86f-4eac-82b6-1a0d00ae4199',\n",
       "  'evil',\n",
       "  '\\ndef count_max_elements():\\n    max_val = -1\\n    count = 0\\n    while True:\\n        num = int(input())\\n        if num == 0:\\n            break\\n        if num > max_val:\\n            max_val = num\\n            count = 1\\n        elif num == max_val:\\n            count += 1\\n    print(count)\\n\\ncount_max_elements()\\n'),\n",
       " ('4e5b21c0-e86f-4eac-82b6-1a0d00ae4199',\n",
       "  'gemini-2.0-flash',\n",
       "  '\\ndef count_max_elements():\\n    max_val = 0\\n    count = 0\\n\\n    while True:\\n        num = int(input())\\n        if num == 0:\\n            break\\n\\n        if num > max_val:\\n            max_val = num\\n            count = 1\\n        elif num == max_val:\\n            count += 1\\n\\n    print(count)\\n\\ncount_max_elements()\\n'),\n",
       " ('4e5b21c0-e86f-4eac-82b6-1a0d00ae4199',\n",
       "  'blackboxai',\n",
       "  '\\ndef count_max_elements():\\n    numbers = []\\n    while True:\\n        num = int(input())\\n        if num == 0:\\n            break\\n        numbers.append(num)\\n\\n    if not numbers:\\n        print(0)\\n        return\\n\\n    max_num = max(numbers)\\n    count = 0\\n\\n    for n in numbers:\\n        if n == max_num:\\n            count += 1\\n\\n    print(count)\\n\\nif __name__ == \"__main__\":\\n    count_max_elements()\\n'),\n",
       " ('4e5b21c0-e86f-4eac-82b6-1a0d00ae4199',\n",
       "  'blackboxai-pro',\n",
       "  '\\ndef count_max_elements():\\n    numbers = []\\n    while True:\\n        num = int(input(\"Enter a number (0 to end): \"))\\n        if num == 0:\\n            break\\n        numbers.append(num)\\n\\n    if not numbers:\\n        print(0)\\n        return\\n\\n    max_num = max(numbers)\\n    count = 0\\n\\n    for n in numbers:\\n        if n == max_num:\\n            count += 1\\n\\n    print(count)\\n\\ncount_max_elements()\\n'),\n",
       " ('4e5b21c0-e86f-4eac-82b6-1a0d00ae4199',\n",
       "  'qwen-2.5-1m',\n",
       "  '\\ndef count_max_elements():\\n    # Initialize variables to store the max value and its count\\n    max_val = None\\n    max_count = 0\\n\\n    # Loop to read input until 0 is encountered\\n    while True:\\n        num = int(input(\"Enter a number (0 to stop): \"))\\n        \\n        if num == 0:\\n            break\\n        \\n        # Update max_val and max_count as needed\\n        if max_val is None or num > max_val:\\n            max_val = num\\n            max_count = 1\\n        elif num == max_val:\\n            max_count += 1\\n\\n    # Print the count of elements equal to the max value\\n    print(max_count)\\n\\n# Call the function to execute the logic\\ncount_max_elements()\\n'),\n",
       " ('4e5b21c0-e86f-4eac-82b6-1a0d00ae4199',\n",
       "  'sonar-pro',\n",
       "  \"\\ndef count_max_elements():\\n    max_num = float('-inf')\\n    count = 0\\n    nums = []\\n    \\n    while True:\\n        num = int(input())\\n        if num == 0:\\n            break\\n        nums.append(num)\\n        \\n        if num > max_num:\\n            max_num = num\\n            count = 1\\n        elif num == max_num:\\n            count += 1\\n    \\n    return count\\n\\nres = count_max_elements()\\nprint(res)\\n\"),\n",
       " ('4e5b21c0-e86f-4eac-82b6-1a0d00ae4199',\n",
       "  'qwen-2-72b',\n",
       "  '\\ndef max_elements_count():\\n    if (num := int(input())) == 0:\\n        return 0\\n    max_num = num\\n    count = 1\\n    while (num := int(input())) != 0:\\n        if num > max_num:\\n            max_num = num\\n            count = 1\\n        elif num == max_num:\\n            count += 1\\n    return count\\n\\nprint(max_elements_count())\\n')]"
      ]
     },
     "execution_count": 29,
     "metadata": {},
     "output_type": "execute_result"
    }
   ],
   "source": [
    "res"
   ]
  }
 ],
 "metadata": {
  "kernelspec": {
   "display_name": ".venv",
   "language": "python",
   "name": "python3"
  },
  "language_info": {
   "codemirror_mode": {
    "name": "ipython",
    "version": 3
   },
   "file_extension": ".py",
   "mimetype": "text/x-python",
   "name": "python",
   "nbconvert_exporter": "python",
   "pygments_lexer": "ipython3",
   "version": "3.12.10"
  }
 },
 "nbformat": 4,
 "nbformat_minor": 2
}
