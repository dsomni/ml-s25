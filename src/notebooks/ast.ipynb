{
 "cells": [
  {
   "cell_type": "markdown",
   "id": "58b6999c",
   "metadata": {},
   "source": [
    "# Solution based on AST"
   ]
  },
  {
   "cell_type": "code",
   "execution_count": 132,
   "id": "01c8a306",
   "metadata": {},
   "outputs": [
    {
     "data": {
      "text/plain": [
       "device(type='cuda')"
      ]
     },
     "execution_count": 132,
     "metadata": {},
     "output_type": "execute_result"
    }
   ],
   "source": [
    "from collections import Counter\n",
    "\n",
    "import numpy as np\n",
    "import pandas as pd\n",
    "import torch\n",
    "import torch.nn as nn\n",
    "import torch.optim as optim\n",
    "import tree_sitter_python as tspython\n",
    "from sklearn.metrics import (\n",
    "    f1_score,\n",
    "    mean_absolute_error,\n",
    "    mean_squared_error,\n",
    "    recall_score,\n",
    "    roc_auc_score,\n",
    ")\n",
    "from sklearn.model_selection import train_test_split\n",
    "from torch.utils.data import DataLoader, Dataset\n",
    "from tqdm import tqdm\n",
    "from tree_sitter import Language, Parser\n",
    "\n",
    "PY_LANGUAGE = Language(tspython.language())\n",
    "DEVICE = torch.device(\"cuda\" if torch.cuda.is_available() else \"cpu\")\n",
    "DEVICE"
   ]
  },
  {
   "cell_type": "markdown",
   "id": "580a6318",
   "metadata": {},
   "source": [
    "## Utils"
   ]
  },
  {
   "cell_type": "code",
   "execution_count": 133,
   "id": "55860f72",
   "metadata": {},
   "outputs": [],
   "source": [
    "def set_seed(seed: int = 420):\n",
    "    np.random.seed(seed)\n",
    "    torch.manual_seed(seed)\n",
    "    if torch.cuda.is_available():\n",
    "        torch.cuda.manual_seed_all(seed)"
   ]
  },
  {
   "cell_type": "markdown",
   "id": "978ce47c",
   "metadata": {},
   "source": [
    "## Data Loading"
   ]
  },
  {
   "cell_type": "code",
   "execution_count": 134,
   "id": "bb97800f",
   "metadata": {},
   "outputs": [
    {
     "name": "stdout",
     "output_type": "stream",
     "text": [
      "Total size: 12428\n",
      "\n",
      "Train size: 8699\n",
      "Validation size: 2610\n",
      "Test size: 1119\n"
     ]
    }
   ],
   "source": [
    "set_seed()\n",
    "df = pd.read_csv(\"../../data/generated/dataset_dist.csv\")\n",
    "\n",
    "print(f\"Total size: {len(df)}\\n\")\n",
    "\n",
    "train_df, val_prep = train_test_split(df, test_size=0.3, stratify=df[\"generated\"])\n",
    "valid_df, test_df = train_test_split(\n",
    "    val_prep, test_size=0.3, stratify=val_prep[\"generated\"]\n",
    ")\n",
    "train_df = train_df.reset_index(drop=True)\n",
    "valid_df = valid_df.reset_index(drop=True)\n",
    "test_df = test_df.reset_index(drop=True)\n",
    "\n",
    "print(f\"Train size: {len(train_df)}\")\n",
    "print(f\"Validation size: {len(valid_df)}\")\n",
    "print(f\"Test size: {len(test_df)}\")"
   ]
  },
  {
   "cell_type": "markdown",
   "id": "bf2d8a9d",
   "metadata": {},
   "source": [
    "Check that the data is balanced"
   ]
  },
  {
   "cell_type": "code",
   "execution_count": 135,
   "id": "d43e53df",
   "metadata": {},
   "outputs": [
    {
     "name": "stdout",
     "output_type": "stream",
     "text": [
      "Mean generated (train): 0.5126688125071848\n",
      "Mean generated (validation): 0.512284674329502\n",
      "Mean generated (test): 0.5121599642537981\n"
     ]
    }
   ],
   "source": [
    "print(f\"Mean generated (train): {train_df['generated'].mean()}\")\n",
    "print(f\"Mean generated (validation): {valid_df['generated'].mean()}\")\n",
    "print(f\"Mean generated (test): {test_df['generated'].mean()}\")"
   ]
  },
  {
   "cell_type": "markdown",
   "id": "066cb0c6",
   "metadata": {},
   "source": [
    "## Dataset building"
   ]
  },
  {
   "cell_type": "code",
   "execution_count": 136,
   "id": "9f4e1a40ef64f9cb",
   "metadata": {},
   "outputs": [],
   "source": [
    "parser = Parser(PY_LANGUAGE)\n",
    "node_types = set()\n",
    "\n",
    "\n",
    "def walk_tree(node, types):\n",
    "    types.append(node.type)\n",
    "    for child in node.children:\n",
    "        walk_tree(child, types)\n",
    "\n",
    "\n",
    "def code_to_feature_vector(code: bytes, device=DEVICE) -> torch.Tensor:\n",
    "    tree = parser.parse(code)\n",
    "    types = []\n",
    "    walk_tree(tree.root_node, types)\n",
    "    counts = Counter(types)\n",
    "    feature_vector = [counts.get(typ, 0) for typ in node_types]\n",
    "    return torch.tensor(feature_vector, dtype=torch.float32, device=device)\n",
    "\n",
    "\n",
    "# Gather all node types\n",
    "for _, row in train_df.iterrows():\n",
    "    tree = parser.parse(str.encode(row[\"code\"]))\n",
    "    types = []\n",
    "    walk_tree(tree.root_node, types)\n",
    "    node_types.update(types)\n",
    "\n",
    "node_types = sorted(node_types)\n",
    "type_to_idx = {typ: i for i, typ in enumerate(node_types)}"
   ]
  },
  {
   "cell_type": "markdown",
   "id": "3f7c9788",
   "metadata": {},
   "source": [
    "Save node types for inference"
   ]
  },
  {
   "cell_type": "code",
   "execution_count": 137,
   "id": "1db913e2",
   "metadata": {},
   "outputs": [],
   "source": [
    "with open(\"../../data/ast/node_types.txt\", \"w\", encoding=\"utf-8\") as f:\n",
    "    f.write(\"\\n\".join(node_types))"
   ]
  },
  {
   "cell_type": "code",
   "execution_count": 138,
   "id": "6474104a",
   "metadata": {},
   "outputs": [],
   "source": [
    "class ASTDataset(Dataset):\n",
    "    def __init__(self, dataframe):\n",
    "        self.dataframe = dataframe\n",
    "\n",
    "    def __getitem__(self, index) -> tuple[str, torch.Tensor, float]:\n",
    "        raw_code = self.dataframe[\"code\"].iloc[index]\n",
    "        return (\n",
    "            raw_code,\n",
    "            code_to_feature_vector(raw_code.encode(\"utf-8\")),\n",
    "            float(self.dataframe[\"generated\"].iloc[index]),\n",
    "        )\n",
    "\n",
    "    def __len__(self):\n",
    "        return len(self.dataframe)\n",
    "\n",
    "\n",
    "data_train = ASTDataset(dataframe=train_df)\n",
    "dataloader_train = DataLoader(data_train, batch_size=64)\n",
    "data_val = ASTDataset(dataframe=valid_df)\n",
    "dataloader_val = DataLoader(data_val, batch_size=128)\n",
    "data_test = ASTDataset(dataframe=test_df)\n",
    "dataloader_test = DataLoader(data_test, batch_size=128)"
   ]
  },
  {
   "cell_type": "markdown",
   "id": "b8911781",
   "metadata": {},
   "source": [
    "## Model definition"
   ]
  },
  {
   "cell_type": "code",
   "execution_count": 139,
   "id": "c390f5d6",
   "metadata": {},
   "outputs": [],
   "source": [
    "class AIDetector(nn.Module):\n",
    "    def __init__(self, input_dim: int, hidden_dim1: int = 64, hidden_dim2: int = 32):\n",
    "        super().__init__()\n",
    "        self.layers = nn.Sequential(\n",
    "            nn.Linear(input_dim, hidden_dim1),\n",
    "            nn.LeakyReLU(),\n",
    "            nn.Linear(hidden_dim1, hidden_dim2),\n",
    "            nn.LeakyReLU(),\n",
    "            nn.Linear(hidden_dim2, 1),\n",
    "            nn.Sigmoid(),\n",
    "        )\n",
    "\n",
    "    def forward(self, x: torch.Tensor) -> torch.Tensor:\n",
    "        return self.layers(x)"
   ]
  },
  {
   "cell_type": "markdown",
   "id": "32630637",
   "metadata": {},
   "source": [
    "## Training"
   ]
  },
  {
   "cell_type": "code",
   "execution_count": null,
   "id": "1dde22ae",
   "metadata": {},
   "outputs": [
    {
     "name": "stdout",
     "output_type": "stream",
     "text": [
      "Epoch 1/50\n"
     ]
    },
    {
     "name": "stderr",
     "output_type": "stream",
     "text": [
      "Training: 100%|██████████| 136/136 [00:08<00:00, 15.18it/s]\n",
      "Validation: 100%|██████████| 21/21 [00:01<00:00, 15.79it/s]\n"
     ]
    },
    {
     "name": "stdout",
     "output_type": "stream",
     "text": [
      "\n",
      "RECALL: 0.4721 | ROC_AUC: 0.6176 | F1: 0.5587 | MAE: 0.3745 | MSE: 0.2153\n",
      "\n",
      "Epoch 2/50\n"
     ]
    },
    {
     "name": "stderr",
     "output_type": "stream",
     "text": [
      "Training: 100%|██████████| 136/136 [00:04<00:00, 29.73it/s]\n",
      "Validation: 100%|██████████| 21/21 [00:01<00:00, 15.78it/s]\n"
     ]
    },
    {
     "name": "stdout",
     "output_type": "stream",
     "text": [
      "\n",
      "RECALL: 0.6390 | ROC_AUC: 0.6615 | F1: 0.6623 | MAE: 0.3323 | MSE: 0.1977\n",
      "\n",
      "Epoch 3/50\n"
     ]
    },
    {
     "name": "stderr",
     "output_type": "stream",
     "text": [
      "Training: 100%|██████████| 136/136 [00:05<00:00, 25.62it/s]\n",
      "Validation: 100%|██████████| 21/21 [00:01<00:00, 12.21it/s]\n"
     ]
    },
    {
     "name": "stdout",
     "output_type": "stream",
     "text": [
      "\n",
      "RECALL: 0.6243 | ROC_AUC: 0.6785 | F1: 0.6677 | MAE: 0.3218 | MSE: 0.1961\n",
      "\n",
      "Epoch 4/50\n"
     ]
    },
    {
     "name": "stderr",
     "output_type": "stream",
     "text": [
      "Training: 100%|██████████| 136/136 [00:05<00:00, 26.49it/s]\n",
      "Validation: 100%|██████████| 21/21 [00:01<00:00, 17.02it/s]\n"
     ]
    },
    {
     "name": "stdout",
     "output_type": "stream",
     "text": [
      "\n",
      "RECALL: 0.4860 | ROC_AUC: 0.6702 | F1: 0.6001 | MAE: 0.3311 | MSE: 0.2152\n",
      "\n",
      "Epoch 5/50\n"
     ]
    },
    {
     "name": "stderr",
     "output_type": "stream",
     "text": [
      "Training: 100%|██████████| 136/136 [00:04<00:00, 27.88it/s]\n",
      "Validation: 100%|██████████| 21/21 [00:01<00:00, 16.02it/s]\n"
     ]
    },
    {
     "name": "stdout",
     "output_type": "stream",
     "text": [
      "\n",
      "RECALL: 0.5522 | ROC_AUC: 0.6849 | F1: 0.6422 | MAE: 0.3130 | MSE: 0.1999\n",
      "\n",
      "Epoch 6/50\n"
     ]
    },
    {
     "name": "stderr",
     "output_type": "stream",
     "text": [
      "Training: 100%|██████████| 136/136 [00:04<00:00, 27.98it/s]\n",
      "Validation: 100%|██████████| 21/21 [00:01<00:00, 14.35it/s]\n"
     ]
    },
    {
     "name": "stdout",
     "output_type": "stream",
     "text": [
      "\n",
      "RECALL: 0.6096 | ROC_AUC: 0.6916 | F1: 0.6707 | MAE: 0.3007 | MSE: 0.1902\n",
      "\n",
      "Epoch 7/50\n"
     ]
    },
    {
     "name": "stderr",
     "output_type": "stream",
     "text": [
      "Training: 100%|██████████| 136/136 [00:05<00:00, 24.79it/s]\n",
      "Validation: 100%|██████████| 21/21 [00:01<00:00, 16.36it/s]\n"
     ]
    },
    {
     "name": "stdout",
     "output_type": "stream",
     "text": [
      "\n",
      "RECALL: 0.6213 | ROC_AUC: 0.7019 | F1: 0.6823 | MAE: 0.2944 | MSE: 0.1872\n",
      "\n",
      "Epoch 8/50\n"
     ]
    },
    {
     "name": "stderr",
     "output_type": "stream",
     "text": [
      "Training: 100%|██████████| 136/136 [00:04<00:00, 28.56it/s]\n",
      "Validation: 100%|██████████| 21/21 [00:01<00:00, 14.98it/s]\n"
     ]
    },
    {
     "name": "stdout",
     "output_type": "stream",
     "text": [
      "\n",
      "RECALL: 0.6449 | ROC_AUC: 0.7064 | F1: 0.6941 | MAE: 0.2894 | MSE: 0.1844\n",
      "\n",
      "Epoch 9/50\n"
     ]
    },
    {
     "name": "stderr",
     "output_type": "stream",
     "text": [
      "Training: 100%|██████████| 136/136 [00:05<00:00, 24.87it/s]\n",
      "Validation: 100%|██████████| 21/21 [00:01<00:00, 15.45it/s]\n"
     ]
    },
    {
     "name": "stdout",
     "output_type": "stream",
     "text": [
      "\n",
      "RECALL: 0.6566 | ROC_AUC: 0.7103 | F1: 0.7009 | MAE: 0.2850 | MSE: 0.1817\n",
      "\n",
      "Epoch 10/50\n"
     ]
    },
    {
     "name": "stderr",
     "output_type": "stream",
     "text": [
      "Training: 100%|██████████| 136/136 [00:05<00:00, 26.40it/s]\n",
      "Validation: 100%|██████████| 21/21 [00:01<00:00, 15.66it/s]\n"
     ]
    },
    {
     "name": "stdout",
     "output_type": "stream",
     "text": [
      "\n",
      "RECALL: 0.6551 | ROC_AUC: 0.7144 | F1: 0.7032 | MAE: 0.2813 | MSE: 0.1803\n",
      "\n",
      "Epoch 11/50\n"
     ]
    },
    {
     "name": "stderr",
     "output_type": "stream",
     "text": [
      "Training: 100%|██████████| 136/136 [00:04<00:00, 29.35it/s]\n",
      "Validation: 100%|██████████| 21/21 [00:01<00:00, 17.74it/s]\n"
     ]
    },
    {
     "name": "stdout",
     "output_type": "stream",
     "text": [
      "\n",
      "RECALL: 0.6860 | ROC_AUC: 0.7186 | F1: 0.7166 | MAE: 0.2771 | MSE: 0.1765\n",
      "\n",
      "Epoch 12/50\n"
     ]
    },
    {
     "name": "stderr",
     "output_type": "stream",
     "text": [
      "Training: 100%|██████████| 136/136 [00:04<00:00, 29.38it/s]\n",
      "Validation: 100%|██████████| 21/21 [00:01<00:00, 17.54it/s]\n"
     ]
    },
    {
     "name": "stdout",
     "output_type": "stream",
     "text": [
      "\n",
      "RECALL: 0.6904 | ROC_AUC: 0.7280 | F1: 0.7245 | MAE: 0.2752 | MSE: 0.1762\n",
      "\n",
      "Epoch 13/50\n"
     ]
    },
    {
     "name": "stderr",
     "output_type": "stream",
     "text": [
      "Training: 100%|██████████| 136/136 [00:04<00:00, 28.27it/s]\n",
      "Validation: 100%|██████████| 21/21 [00:01<00:00, 17.41it/s]\n"
     ]
    },
    {
     "name": "stdout",
     "output_type": "stream",
     "text": [
      "\n",
      "RECALL: 0.7044 | ROC_AUC: 0.7350 | F1: 0.7338 | MAE: 0.2712 | MSE: 0.1742\n",
      "\n",
      "Epoch 14/50\n"
     ]
    },
    {
     "name": "stderr",
     "output_type": "stream",
     "text": [
      "Training: 100%|██████████| 136/136 [00:04<00:00, 32.61it/s]\n",
      "Validation: 100%|██████████| 21/21 [00:01<00:00, 16.50it/s]\n"
     ]
    },
    {
     "name": "stdout",
     "output_type": "stream",
     "text": [
      "\n",
      "RECALL: 0.6978 | ROC_AUC: 0.7373 | F1: 0.7334 | MAE: 0.2697 | MSE: 0.1751\n",
      "\n",
      "Epoch 15/50\n"
     ]
    },
    {
     "name": "stderr",
     "output_type": "stream",
     "text": [
      "Training: 100%|██████████| 136/136 [00:04<00:00, 27.83it/s]\n",
      "Validation: 100%|██████████| 21/21 [00:01<00:00, 15.58it/s]\n"
     ]
    },
    {
     "name": "stdout",
     "output_type": "stream",
     "text": [
      "\n",
      "RECALL: 0.7007 | ROC_AUC: 0.7388 | F1: 0.7353 | MAE: 0.2682 | MSE: 0.1772\n",
      "\n",
      "Epoch 16/50\n"
     ]
    },
    {
     "name": "stderr",
     "output_type": "stream",
     "text": [
      "Training: 100%|██████████| 136/136 [00:04<00:00, 28.12it/s]\n",
      "Validation: 100%|██████████| 21/21 [00:01<00:00, 14.68it/s]\n"
     ]
    },
    {
     "name": "stdout",
     "output_type": "stream",
     "text": [
      "\n",
      "RECALL: 0.6868 | ROC_AUC: 0.7374 | F1: 0.7300 | MAE: 0.2678 | MSE: 0.1752\n",
      "\n",
      "Epoch 17/50\n"
     ]
    },
    {
     "name": "stderr",
     "output_type": "stream",
     "text": [
      "Training: 100%|██████████| 136/136 [00:05<00:00, 23.90it/s]\n",
      "Validation: 100%|██████████| 21/21 [00:01<00:00, 13.97it/s]\n"
     ]
    },
    {
     "name": "stdout",
     "output_type": "stream",
     "text": [
      "\n",
      "RECALL: 0.6956 | ROC_AUC: 0.7458 | F1: 0.7388 | MAE: 0.2644 | MSE: 0.1722\n",
      "\n",
      "Epoch 18/50\n"
     ]
    },
    {
     "name": "stderr",
     "output_type": "stream",
     "text": [
      "Training: 100%|██████████| 136/136 [00:04<00:00, 27.54it/s]\n",
      "Validation: 100%|██████████| 21/21 [00:02<00:00,  7.76it/s]\n"
     ]
    },
    {
     "name": "stdout",
     "output_type": "stream",
     "text": [
      "\n",
      "RECALL: 0.6669 | ROC_AUC: 0.7443 | F1: 0.7285 | MAE: 0.2683 | MSE: 0.1759\n",
      "\n",
      "Epoch 19/50\n"
     ]
    },
    {
     "name": "stderr",
     "output_type": "stream",
     "text": [
      "Training: 100%|██████████| 136/136 [00:08<00:00, 16.32it/s]\n",
      "Validation: 100%|██████████| 21/21 [00:01<00:00, 13.03it/s]\n"
     ]
    },
    {
     "name": "stdout",
     "output_type": "stream",
     "text": [
      "\n",
      "RECALL: 0.6684 | ROC_AUC: 0.7442 | F1: 0.7289 | MAE: 0.2645 | MSE: 0.1748\n",
      "\n",
      "Epoch 20/50\n"
     ]
    },
    {
     "name": "stderr",
     "output_type": "stream",
     "text": [
      "Training: 100%|██████████| 136/136 [00:05<00:00, 24.01it/s]\n",
      "Validation: 100%|██████████| 21/21 [00:01<00:00, 15.73it/s]\n"
     ]
    },
    {
     "name": "stdout",
     "output_type": "stream",
     "text": [
      "\n",
      "RECALL: 0.6787 | ROC_AUC: 0.7465 | F1: 0.7340 | MAE: 0.2620 | MSE: 0.1729\n",
      "\n",
      "Epoch 21/50\n"
     ]
    },
    {
     "name": "stderr",
     "output_type": "stream",
     "text": [
      "Training: 100%|██████████| 136/136 [00:05<00:00, 26.57it/s]\n",
      "Validation: 100%|██████████| 21/21 [00:01<00:00, 13.11it/s]\n"
     ]
    },
    {
     "name": "stdout",
     "output_type": "stream",
     "text": [
      "\n",
      "RECALL: 0.6890 | ROC_AUC: 0.7477 | F1: 0.7381 | MAE: 0.2607 | MSE: 0.1717\n",
      "\n",
      "Epoch 22/50\n"
     ]
    },
    {
     "name": "stderr",
     "output_type": "stream",
     "text": [
      "Training: 100%|██████████| 136/136 [00:08<00:00, 15.73it/s]\n",
      "Validation: 100%|██████████| 21/21 [00:01<00:00, 15.52it/s]\n"
     ]
    },
    {
     "name": "stdout",
     "output_type": "stream",
     "text": [
      "\n",
      "RECALL: 0.6860 | ROC_AUC: 0.7498 | F1: 0.7387 | MAE: 0.2592 | MSE: 0.1715\n",
      "\n",
      "Epoch 23/50\n"
     ]
    },
    {
     "name": "stderr",
     "output_type": "stream",
     "text": [
      "Training: 100%|██████████| 136/136 [00:04<00:00, 27.30it/s]\n",
      "Validation: 100%|██████████| 21/21 [00:01<00:00, 14.17it/s]\n"
     ]
    },
    {
     "name": "stdout",
     "output_type": "stream",
     "text": [
      "\n",
      "RECALL: 0.7125 | ROC_AUC: 0.7574 | F1: 0.7523 | MAE: 0.2514 | MSE: 0.1657\n",
      "\n",
      "Epoch 24/50\n"
     ]
    },
    {
     "name": "stderr",
     "output_type": "stream",
     "text": [
      "Training: 100%|██████████| 136/136 [00:05<00:00, 26.06it/s]\n",
      "Validation: 100%|██████████| 21/21 [00:01<00:00, 14.44it/s]\n"
     ]
    },
    {
     "name": "stdout",
     "output_type": "stream",
     "text": [
      "\n",
      "RECALL: 0.6721 | ROC_AUC: 0.7480 | F1: 0.7330 | MAE: 0.2591 | MSE: 0.1719\n",
      "\n",
      "Epoch 25/50\n"
     ]
    },
    {
     "name": "stderr",
     "output_type": "stream",
     "text": [
      "Training: 100%|██████████| 136/136 [00:05<00:00, 26.99it/s]\n",
      "Validation: 100%|██████████| 21/21 [00:01<00:00, 14.27it/s]\n"
     ]
    },
    {
     "name": "stdout",
     "output_type": "stream",
     "text": [
      "\n",
      "RECALL: 0.7449 | ROC_AUC: 0.7592 | F1: 0.7628 | MAE: 0.2498 | MSE: 0.1665\n",
      "\n",
      "Epoch 26/50\n"
     ]
    },
    {
     "name": "stderr",
     "output_type": "stream",
     "text": [
      "Training: 100%|██████████| 136/136 [00:04<00:00, 28.52it/s]\n",
      "Validation: 100%|██████████| 21/21 [00:01<00:00, 16.97it/s]\n"
     ]
    },
    {
     "name": "stdout",
     "output_type": "stream",
     "text": [
      "\n",
      "RECALL: 0.7066 | ROC_AUC: 0.7601 | F1: 0.7525 | MAE: 0.2533 | MSE: 0.1694\n",
      "\n",
      "Epoch 27/50\n"
     ]
    },
    {
     "name": "stderr",
     "output_type": "stream",
     "text": [
      "Training: 100%|██████████| 136/136 [00:04<00:00, 28.45it/s]\n",
      "Validation: 100%|██████████| 21/21 [00:01<00:00, 18.11it/s]\n"
     ]
    },
    {
     "name": "stdout",
     "output_type": "stream",
     "text": [
      "\n",
      "RECALL: 0.7206 | ROC_AUC: 0.7595 | F1: 0.7562 | MAE: 0.2518 | MSE: 0.1678\n",
      "\n",
      "Epoch 28/50\n"
     ]
    },
    {
     "name": "stderr",
     "output_type": "stream",
     "text": [
      "Training: 100%|██████████| 136/136 [00:04<00:00, 30.15it/s]\n",
      "Validation: 100%|██████████| 21/21 [00:01<00:00, 15.91it/s]\n"
     ]
    },
    {
     "name": "stdout",
     "output_type": "stream",
     "text": [
      "\n",
      "RECALL: 0.7221 | ROC_AUC: 0.7630 | F1: 0.7592 | MAE: 0.2465 | MSE: 0.1642\n",
      "\n",
      "Epoch 29/50\n"
     ]
    },
    {
     "name": "stderr",
     "output_type": "stream",
     "text": [
      "Training: 100%|██████████| 136/136 [00:04<00:00, 29.63it/s]\n",
      "Validation: 100%|██████████| 21/21 [00:01<00:00, 15.65it/s]\n"
     ]
    },
    {
     "name": "stdout",
     "output_type": "stream",
     "text": [
      "\n",
      "RECALL: 0.7324 | ROC_AUC: 0.7626 | F1: 0.7618 | MAE: 0.2461 | MSE: 0.1643\n",
      "\n",
      "Epoch 30/50\n"
     ]
    },
    {
     "name": "stderr",
     "output_type": "stream",
     "text": [
      "Training: 100%|██████████| 136/136 [00:04<00:00, 30.61it/s]\n",
      "Validation: 100%|██████████| 21/21 [00:01<00:00, 15.10it/s]\n"
     ]
    },
    {
     "name": "stdout",
     "output_type": "stream",
     "text": [
      "\n",
      "RECALL: 0.7390 | ROC_AUC: 0.7595 | F1: 0.7614 | MAE: 0.2470 | MSE: 0.1658\n",
      "\n",
      "Epoch 31/50\n"
     ]
    },
    {
     "name": "stderr",
     "output_type": "stream",
     "text": [
      "Training: 100%|██████████| 136/136 [00:05<00:00, 26.64it/s]\n",
      "Validation: 100%|██████████| 21/21 [00:01<00:00, 16.79it/s]\n"
     ]
    },
    {
     "name": "stdout",
     "output_type": "stream",
     "text": [
      "\n",
      "RECALL: 0.6926 | ROC_AUC: 0.7611 | F1: 0.7491 | MAE: 0.2526 | MSE: 0.1670\n",
      "\n",
      "Epoch 32/50\n"
     ]
    },
    {
     "name": "stderr",
     "output_type": "stream",
     "text": [
      "Training: 100%|██████████| 136/136 [00:04<00:00, 27.40it/s]\n",
      "Validation: 100%|██████████| 21/21 [00:01<00:00, 16.94it/s]\n"
     ]
    },
    {
     "name": "stdout",
     "output_type": "stream",
     "text": [
      "\n",
      "RECALL: 0.7331 | ROC_AUC: 0.7657 | F1: 0.7643 | MAE: 0.2454 | MSE: 0.1628\n",
      "\n",
      "Epoch 33/50\n"
     ]
    },
    {
     "name": "stderr",
     "output_type": "stream",
     "text": [
      "Training: 100%|██████████| 136/136 [00:05<00:00, 26.93it/s]\n",
      "Validation: 100%|██████████| 21/21 [00:01<00:00, 16.69it/s]\n"
     ]
    },
    {
     "name": "stdout",
     "output_type": "stream",
     "text": [
      "\n",
      "RECALL: 0.7176 | ROC_AUC: 0.7656 | F1: 0.7598 | MAE: 0.2451 | MSE: 0.1636\n",
      "\n",
      "Epoch 34/50\n"
     ]
    },
    {
     "name": "stderr",
     "output_type": "stream",
     "text": [
      "Training: 100%|██████████| 136/136 [00:04<00:00, 30.14it/s]\n",
      "Validation: 100%|██████████| 21/21 [00:01<00:00, 16.22it/s]\n"
     ]
    },
    {
     "name": "stdout",
     "output_type": "stream",
     "text": [
      "\n",
      "RECALL: 0.6934 | ROC_AUC: 0.7667 | F1: 0.7535 | MAE: 0.2511 | MSE: 0.1686\n",
      "\n",
      "Epoch 35/50\n"
     ]
    },
    {
     "name": "stderr",
     "output_type": "stream",
     "text": [
      "Training: 100%|██████████| 136/136 [00:04<00:00, 29.09it/s]\n",
      "Validation: 100%|██████████| 21/21 [00:01<00:00, 15.52it/s]\n"
     ]
    },
    {
     "name": "stdout",
     "output_type": "stream",
     "text": [
      "\n",
      "RECALL: 0.7132 | ROC_AUC: 0.7598 | F1: 0.7543 | MAE: 0.2503 | MSE: 0.1678\n",
      "\n",
      "Epoch 36/50\n"
     ]
    },
    {
     "name": "stderr",
     "output_type": "stream",
     "text": [
      "Training: 100%|██████████| 136/136 [00:04<00:00, 29.72it/s]\n",
      "Validation: 100%|██████████| 21/21 [00:01<00:00, 17.17it/s]\n"
     ]
    },
    {
     "name": "stdout",
     "output_type": "stream",
     "text": [
      "\n",
      "RECALL: 0.7647 | ROC_AUC: 0.7672 | F1: 0.7738 | MAE: 0.2429 | MSE: 0.1628\n",
      "\n",
      "Epoch 37/50\n"
     ]
    },
    {
     "name": "stderr",
     "output_type": "stream",
     "text": [
      "Training: 100%|██████████| 136/136 [00:04<00:00, 31.28it/s]\n",
      "Validation: 100%|██████████| 21/21 [00:01<00:00, 17.73it/s]\n"
     ]
    },
    {
     "name": "stdout",
     "output_type": "stream",
     "text": [
      "\n",
      "RECALL: 0.7941 | ROC_AUC: 0.7687 | F1: 0.7823 | MAE: 0.2401 | MSE: 0.1627\n",
      "\n",
      "Epoch 38/50\n"
     ]
    },
    {
     "name": "stderr",
     "output_type": "stream",
     "text": [
      "Training: 100%|██████████| 136/136 [00:04<00:00, 31.02it/s]\n",
      "Validation: 100%|██████████| 21/21 [00:01<00:00, 18.11it/s]\n"
     ]
    },
    {
     "name": "stdout",
     "output_type": "stream",
     "text": [
      "\n",
      "RECALL: 0.8103 | ROC_AUC: 0.7675 | F1: 0.7855 | MAE: 0.2382 | MSE: 0.1596\n",
      "\n",
      "Epoch 39/50\n"
     ]
    },
    {
     "name": "stderr",
     "output_type": "stream",
     "text": [
      "Training: 100%|██████████| 136/136 [00:04<00:00, 29.10it/s]\n",
      "Validation: 100%|██████████| 21/21 [00:01<00:00, 17.91it/s]\n"
     ]
    },
    {
     "name": "stdout",
     "output_type": "stream",
     "text": [
      "\n",
      "RECALL: 0.7919 | ROC_AUC: 0.7720 | F1: 0.7841 | MAE: 0.2365 | MSE: 0.1587\n",
      "\n",
      "Epoch 40/50\n"
     ]
    },
    {
     "name": "stderr",
     "output_type": "stream",
     "text": [
      "Training: 100%|██████████| 136/136 [00:04<00:00, 29.71it/s]\n",
      "Validation: 100%|██████████| 21/21 [00:01<00:00, 17.29it/s]\n"
     ]
    },
    {
     "name": "stdout",
     "output_type": "stream",
     "text": [
      "\n",
      "RECALL: 0.7757 | ROC_AUC: 0.7715 | F1: 0.7797 | MAE: 0.2354 | MSE: 0.1584\n",
      "\n",
      "Epoch 41/50\n"
     ]
    },
    {
     "name": "stderr",
     "output_type": "stream",
     "text": [
      "Training: 100%|██████████| 136/136 [00:04<00:00, 29.98it/s]\n",
      "Validation: 100%|██████████| 21/21 [00:01<00:00, 17.23it/s]\n"
     ]
    },
    {
     "name": "stdout",
     "output_type": "stream",
     "text": [
      "\n",
      "RECALL: 0.7941 | ROC_AUC: 0.7775 | F1: 0.7886 | MAE: 0.2328 | MSE: 0.1556\n",
      "\n",
      "Epoch 42/50\n"
     ]
    },
    {
     "name": "stderr",
     "output_type": "stream",
     "text": [
      "Training: 100%|██████████| 136/136 [00:04<00:00, 30.96it/s]\n",
      "Validation: 100%|██████████| 21/21 [00:01<00:00, 17.23it/s]\n"
     ]
    },
    {
     "name": "stdout",
     "output_type": "stream",
     "text": [
      "\n",
      "RECALL: 0.8154 | ROC_AUC: 0.7785 | F1: 0.7944 | MAE: 0.2296 | MSE: 0.1531\n",
      "\n",
      "Epoch 43/50\n"
     ]
    },
    {
     "name": "stderr",
     "output_type": "stream",
     "text": [
      "Training: 100%|██████████| 136/136 [00:04<00:00, 31.93it/s]\n",
      "Validation: 100%|██████████| 21/21 [00:01<00:00, 17.37it/s]\n"
     ]
    },
    {
     "name": "stdout",
     "output_type": "stream",
     "text": [
      "\n",
      "RECALL: 0.8316 | ROC_AUC: 0.7786 | F1: 0.7982 | MAE: 0.2314 | MSE: 0.1558\n",
      "\n",
      "Epoch 44/50\n"
     ]
    },
    {
     "name": "stderr",
     "output_type": "stream",
     "text": [
      "Training: 100%|██████████| 136/136 [00:04<00:00, 31.82it/s]\n",
      "Validation: 100%|██████████| 21/21 [00:01<00:00, 17.52it/s]\n"
     ]
    },
    {
     "name": "stdout",
     "output_type": "stream",
     "text": [
      "\n",
      "RECALL: 0.8404 | ROC_AUC: 0.7802 | F1: 0.8013 | MAE: 0.2299 | MSE: 0.1569\n",
      "\n",
      "Epoch 45/50\n"
     ]
    },
    {
     "name": "stderr",
     "output_type": "stream",
     "text": [
      "Training: 100%|██████████| 136/136 [00:04<00:00, 31.45it/s]\n",
      "Validation: 100%|██████████| 21/21 [00:01<00:00, 17.95it/s]\n"
     ]
    },
    {
     "name": "stdout",
     "output_type": "stream",
     "text": [
      "\n",
      "RECALL: 0.8287 | ROC_AUC: 0.7811 | F1: 0.7993 | MAE: 0.2292 | MSE: 0.1548\n",
      "\n",
      "Epoch 46/50\n"
     ]
    },
    {
     "name": "stderr",
     "output_type": "stream",
     "text": [
      "Training: 100%|██████████| 136/136 [00:04<00:00, 30.39it/s]\n",
      "Validation: 100%|██████████| 21/21 [00:01<00:00, 16.55it/s]\n"
     ]
    },
    {
     "name": "stdout",
     "output_type": "stream",
     "text": [
      "\n",
      "RECALL: 0.8382 | ROC_AUC: 0.7859 | F1: 0.8048 | MAE: 0.2270 | MSE: 0.1543\n",
      "\n",
      "Epoch 47/50\n"
     ]
    },
    {
     "name": "stderr",
     "output_type": "stream",
     "text": [
      "Training: 100%|██████████| 136/136 [00:04<00:00, 29.29it/s]\n",
      "Validation: 100%|██████████| 21/21 [00:01<00:00, 17.41it/s]\n"
     ]
    },
    {
     "name": "stdout",
     "output_type": "stream",
     "text": [
      "\n",
      "RECALL: 0.7978 | ROC_AUC: 0.7857 | F1: 0.7955 | MAE: 0.2272 | MSE: 0.1519\n",
      "\n",
      "Epoch 48/50\n"
     ]
    },
    {
     "name": "stderr",
     "output_type": "stream",
     "text": [
      "Training: 100%|██████████| 136/136 [00:04<00:00, 32.20it/s]\n",
      "Validation: 100%|██████████| 21/21 [00:01<00:00, 17.28it/s]\n"
     ]
    },
    {
     "name": "stdout",
     "output_type": "stream",
     "text": [
      "\n",
      "RECALL: 0.8206 | ROC_AUC: 0.7867 | F1: 0.8014 | MAE: 0.2232 | MSE: 0.1488\n",
      "\n",
      "Epoch 49/50\n"
     ]
    },
    {
     "name": "stderr",
     "output_type": "stream",
     "text": [
      "Training: 100%|██████████| 136/136 [00:04<00:00, 31.16it/s]\n",
      "Validation: 100%|██████████| 21/21 [00:01<00:00, 17.06it/s]\n"
     ]
    },
    {
     "name": "stdout",
     "output_type": "stream",
     "text": [
      "\n",
      "RECALL: 0.8213 | ROC_AUC: 0.7859 | F1: 0.8010 | MAE: 0.2249 | MSE: 0.1511\n",
      "\n",
      "Epoch 50/50\n"
     ]
    },
    {
     "name": "stderr",
     "output_type": "stream",
     "text": [
      "Training: 100%|██████████| 136/136 [00:04<00:00, 30.20it/s]\n",
      "Validation: 100%|██████████| 21/21 [00:01<00:00, 17.29it/s]"
     ]
    },
    {
     "name": "stdout",
     "output_type": "stream",
     "text": [
      "\n",
      "RECALL: 0.8309 | ROC_AUC: 0.7854 | F1: 0.8028 | MAE: 0.2235 | MSE: 0.1505\n",
      "\n"
     ]
    },
    {
     "name": "stderr",
     "output_type": "stream",
     "text": [
      "\n"
     ]
    }
   ],
   "source": [
    "def compute_metrics(predictions: list[float], labels: list[float]) -> dict:\n",
    "    predictions_rounded = [round(x) for x in predictions]\n",
    "    labels_rounded = [round(x) for x in labels]\n",
    "\n",
    "    return {\n",
    "        \"recall\": recall_score(labels_rounded, predictions_rounded),\n",
    "        \"roc_auc\": roc_auc_score(labels_rounded, predictions_rounded),\n",
    "        \"f1\": f1_score(labels_rounded, predictions_rounded),\n",
    "        \"mae\": mean_absolute_error(labels, predictions),\n",
    "        \"mse\": mean_squared_error(labels, predictions),\n",
    "    }\n",
    "\n",
    "\n",
    "def metrics_str(metrics: dict) -> str:\n",
    "    return \" | \".join([f\"{key.upper()}: {value:.4f}\" for key, value in metrics.items()])\n",
    "\n",
    "\n",
    "def train_model(\n",
    "    model: nn.Module, dataloader: DataLoader, criterion, optimizer: optim.Optimizer\n",
    "):\n",
    "    losses = []\n",
    "    model.train()\n",
    "    for _, code, label in tqdm(dataloader, desc=\"Training\"):\n",
    "        code, label = code.float().to(DEVICE), label.float().to(DEVICE)\n",
    "        outputs = model(code)\n",
    "        outputs = outputs.squeeze()\n",
    "        loss = criterion(outputs, label)\n",
    "        optimizer.zero_grad()\n",
    "        loss.backward()\n",
    "        optimizer.step()\n",
    "        losses.append(loss.item())\n",
    "    return np.mean(losses)\n",
    "\n",
    "\n",
    "def evaluate_model(model: nn.Module, dataloader: DataLoader) -> dict:\n",
    "    model.eval()\n",
    "    with torch.no_grad():\n",
    "        all_predictions = []\n",
    "        all_truths = []\n",
    "        for _, code, label in tqdm(dataloader, desc=\"Validation\"):\n",
    "            code, label = code.float().to(DEVICE), label.float().to(DEVICE)\n",
    "            outputs = model(code)\n",
    "            outputs = outputs.squeeze()\n",
    "\n",
    "            all_predictions.extend(outputs.detach().cpu().numpy().tolist())\n",
    "            all_truths.extend(label.detach().cpu().numpy().tolist())\n",
    "\n",
    "        return compute_metrics(all_predictions, all_truths)\n",
    "\n",
    "\n",
    "def train_eval_loop(\n",
    "    model: nn.Module,\n",
    "    dataloader_train: DataLoader,\n",
    "    dataloader_val: DataLoader,\n",
    "    criterion,\n",
    "    optimizer: optim.Optimizer,\n",
    "    epochs: int = 5,\n",
    "    early_stopping: int = 3,\n",
    "    maximize: str = \"recall\",\n",
    "    save_path: str = \"../../data/ast/best_model.pth\",\n",
    "):\n",
    "    best_score = 0 if maximize == \"recall\" else float(\"inf\")\n",
    "    no_improvement = 0\n",
    "    mean_losses = []\n",
    "    for epoch in range(1, epochs + 1):\n",
    "        print(f\"Epoch {epoch}/{epochs}\")\n",
    "        mean_loss = train_model(model, dataloader_train, criterion, optimizer)\n",
    "        metrics = evaluate_model(model, dataloader_val)\n",
    "\n",
    "        mean_losses.append(mean_loss)\n",
    "        print(f\"\\n{metrics_str(metrics)}\\n\")\n",
    "\n",
    "        score = metrics[maximize]\n",
    "        if (maximize == \"recall\" and score > best_score) or (\n",
    "            maximize == \"mae\" and score < best_score\n",
    "        ):\n",
    "            no_improvement = 0\n",
    "            best_score = score\n",
    "            torch.save(model.state_dict(), save_path)\n",
    "        else:\n",
    "            no_improvement += 1\n",
    "        if no_improvement >= early_stopping:\n",
    "            print(\"Early stopping triggered.\")\n",
    "            break\n",
    "\n",
    "    return mean_losses\n",
    "\n",
    "\n",
    "set_seed()\n",
    "model = AIDetector(input_dim=len(node_types)).to(DEVICE)\n",
    "# criterion = nn.CrossEntropyLoss()\n",
    "# criterion = nn.MSELoss()\n",
    "criterion = nn.L1Loss()\n",
    "optimizer = optim.Adam(model.parameters(), lr=1e-3)\n",
    "\n",
    "losses = train_eval_loop(\n",
    "    model,\n",
    "    dataloader_train,\n",
    "    dataloader_val,\n",
    "    criterion,\n",
    "    optimizer,\n",
    "    epochs=50,\n",
    "    early_stopping=5,\n",
    "    maximize=\"mae\",\n",
    ")"
   ]
  },
  {
   "cell_type": "markdown",
   "id": "360558b2",
   "metadata": {},
   "source": [
    "## Testing"
   ]
  },
  {
   "cell_type": "code",
   "execution_count": 145,
   "id": "83b7bea5",
   "metadata": {},
   "outputs": [],
   "source": [
    "def test_model(model: nn.Module, dataloader: DataLoader) -> tuple[pd.DataFrame, dict]:\n",
    "    model.eval()\n",
    "    with torch.no_grad():\n",
    "        all_predictions = []\n",
    "        all_truths = []\n",
    "        all_codes = []\n",
    "        for real_code, code, label in tqdm(dataloader, desc=\"Validation\"):\n",
    "            code, label = code.float().to(DEVICE), label.float().to(DEVICE)\n",
    "            outputs = model(code)\n",
    "            outputs = outputs.squeeze()\n",
    "\n",
    "            all_predictions.extend(outputs.detach().cpu().numpy().tolist())\n",
    "            all_truths.extend(label.detach().cpu().numpy().tolist())\n",
    "            all_codes.extend(real_code)\n",
    "\n",
    "        test_df = pd.DataFrame(\n",
    "            {\"code\": all_codes, \"real\": all_truths, \"predicted\": all_predictions}\n",
    "        )\n",
    "        return test_df, compute_metrics(all_predictions, all_truths)"
   ]
  },
  {
   "cell_type": "code",
   "execution_count": 146,
   "id": "bad998ee",
   "metadata": {},
   "outputs": [
    {
     "name": "stderr",
     "output_type": "stream",
     "text": [
      "Validation: 100%|██████████| 9/9 [00:00<00:00, 13.53it/s]"
     ]
    },
    {
     "name": "stdout",
     "output_type": "stream",
     "text": [
      "RECALL: 0.7955 | ROC_AUC: 0.7935 | F1: 0.8003 | MAE: 0.2208 | MSE: 0.1495\n"
     ]
    },
    {
     "name": "stderr",
     "output_type": "stream",
     "text": [
      "\n"
     ]
    }
   ],
   "source": [
    "best_model = AIDetector(input_dim=len(node_types)).to(DEVICE)\n",
    "best_model.load_state_dict(torch.load(\"../../data/ast/best_model.pth\"))\n",
    "test_df, test_metrics = test_model(best_model, dataloader_test)\n",
    "print(metrics_str(test_metrics))\n",
    "\n",
    "test_df.to_csv(\"../../data/ast/test_results.csv\")"
   ]
  },
  {
   "cell_type": "markdown",
   "id": "b0ba93e1",
   "metadata": {},
   "source": [
    "## Inference"
   ]
  },
  {
   "cell_type": "code",
   "execution_count": 147,
   "id": "7e5fa4af",
   "metadata": {},
   "outputs": [],
   "source": [
    "def detect_ai_code(code: str) -> float:\n",
    "    with open(\"../../data/ast/node_types.txt\", \"r\", encoding=\"utf-8\") as f:\n",
    "        node_types_loaded = f.readlines()\n",
    "\n",
    "    loaded_model = AIDetector(input_dim=len(node_types_loaded))\n",
    "    loaded_model.load_state_dict(torch.load(\"../../data/ast/best_model.pth\"))\n",
    "\n",
    "    code_vectorized = code_to_feature_vector(\n",
    "        code.encode(\"utf-8\"), device=torch.device(\"cpu\")\n",
    "    ).unsqueeze(0)\n",
    "    with torch.no_grad():\n",
    "        prediction = loaded_model(code_vectorized).squeeze().cpu().item()\n",
    "    return prediction"
   ]
  },
  {
   "cell_type": "code",
   "execution_count": 148,
   "id": "a29df5a6",
   "metadata": {},
   "outputs": [
    {
     "name": "stdout",
     "output_type": "stream",
     "text": [
      "***************\n",
      "CODE:\n",
      "\n",
      "a,b = map(int, input().split())\n",
      "if a > b:\n",
      "    return 1\n",
      "return 0\n",
      "\n",
      "PREDICTION: 0.5264\n",
      "\n",
      "***************\n",
      "CODE:\n",
      "\n",
      "x, y = map(int, input().split())\n",
      "return int(x>y)\n",
      "\n",
      "PREDICTION: 0.9335\n",
      "\n",
      "***************\n",
      "CODE:\n",
      "\n",
      "l = map(int, input().split())\n",
      "if l[0] > l[1] :\n",
      "    return 1\n",
      "else:\n",
      "    return 0\n",
      "\n",
      "PREDICTION: 0.9611\n",
      "\n"
     ]
    }
   ],
   "source": [
    "code1 = \"\"\"\n",
    "a,b = map(int, input().split())\n",
    "if a > b:\n",
    "    return 1\n",
    "return 0\n",
    "\"\"\"\n",
    "\n",
    "code2 = \"\"\"\n",
    "x, y = map(int, input().split())\n",
    "return int(x>y)\n",
    "\"\"\"\n",
    "\n",
    "code3 = \"\"\"\n",
    "l = map(int, input().split())\n",
    "if l[0] > l[1] :\n",
    "    return 1\n",
    "else:\n",
    "    return 0\n",
    "\"\"\"\n",
    "for c in [code1, code2, code3]:\n",
    "    print(f\"{'*' * 15}\\nCODE:\\n{c}\\nPREDICTION: {detect_ai_code(c):.4f}\\n\")"
   ]
  }
 ],
 "metadata": {
  "kernelspec": {
   "display_name": ".venv",
   "language": "python",
   "name": "python3"
  },
  "language_info": {
   "codemirror_mode": {
    "name": "ipython",
    "version": 3
   },
   "file_extension": ".py",
   "mimetype": "text/x-python",
   "name": "python",
   "nbconvert_exporter": "python",
   "pygments_lexer": "ipython3",
   "version": "3.12.4"
  }
 },
 "nbformat": 4,
 "nbformat_minor": 5
}
