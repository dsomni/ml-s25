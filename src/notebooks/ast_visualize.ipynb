{
 "cells": [
  {
   "cell_type": "code",
   "execution_count": 2,
   "id": "a860a873",
   "metadata": {},
   "outputs": [
    {
     "name": "stdout",
     "output_type": "stream",
     "text": [
      "AST plotted as ast_output.png\n"
     ]
    }
   ],
   "source": [
    "import tree_sitter_python as tspython\n",
    "from graphviz import Digraph\n",
    "from tree_sitter import Language, Parser\n",
    "\n",
    "PY_LANGUAGE = Language(tspython.language())\n",
    "# Set up parser\n",
    "parser = Parser(PY_LANGUAGE)\n",
    "\n",
    "# Sample code\n",
    "code = b\"\"\"\n",
    "def add(a, b):\n",
    "    return a + b\n",
    "\"\"\"\n",
    "\n",
    "tree = parser.parse(code)\n",
    "root_node = tree.root_node\n",
    "\n",
    "# Graphviz setup\n",
    "dot = Digraph(comment=\"AST\")\n",
    "node_id_counter = [0]\n",
    "\n",
    "\n",
    "def add_node(graph, node, parent_id=None):\n",
    "    current_id = str(node_id_counter[0])\n",
    "    label = node.type\n",
    "    if node.child_count == 0:\n",
    "        # Leaf nodes show text\n",
    "        label += f\"\\\\n'{code[node.start_byte : node.end_byte].decode()}'\"\n",
    "    graph.node(current_id, label)\n",
    "\n",
    "    if parent_id is not None:\n",
    "        graph.edge(parent_id, current_id)\n",
    "\n",
    "    node_id_counter[0] += 1\n",
    "    for child in node.children:\n",
    "        add_node(graph, child, current_id)\n",
    "\n",
    "\n",
    "# Build the tree\n",
    "add_node(dot, root_node)\n",
    "\n",
    "# Render to file\n",
    "dot.render(\"ast_output\", format=\"png\", cleanup=True)\n",
    "print(\"AST plotted as ast_output.png\")"
   ]
  },
  {
   "cell_type": "code",
   "execution_count": null,
   "id": "54f6c54c",
   "metadata": {},
   "outputs": [],
   "source": []
  }
 ],
 "metadata": {
  "kernelspec": {
   "display_name": ".venv",
   "language": "python",
   "name": "python3"
  },
  "language_info": {
   "codemirror_mode": {
    "name": "ipython",
    "version": 3
   },
   "file_extension": ".py",
   "mimetype": "text/x-python",
   "name": "python",
   "nbconvert_exporter": "python",
   "pygments_lexer": "ipython3",
   "version": "3.12.10"
  }
 },
 "nbformat": 4,
 "nbformat_minor": 5
}
