{
 "cells": [
  {
   "cell_type": "markdown",
   "id": "58b6999c",
   "metadata": {},
   "source": [
    "# Solution based on AST"
   ]
  },
  {
   "cell_type": "code",
   "execution_count": null,
   "id": "01c8a306",
   "metadata": {},
   "outputs": [
    {
     "name": "stderr",
     "output_type": "stream",
     "text": [
      "c:\\Users\\nikit\\PycharmProjects\\ml-s25\\.venv\\Lib\\site-packages\\tqdm\\auto.py:21: TqdmWarning: IProgress not found. Please update jupyter and ipywidgets. See https://ipywidgets.readthedocs.io/en/stable/user_install.html\n",
      "  from .autonotebook import tqdm as notebook_tqdm\n"
     ]
    },
    {
     "data": {
      "text/plain": [
       "device(type='cpu')"
      ]
     },
     "execution_count": 1,
     "metadata": {},
     "output_type": "execute_result"
    }
   ],
   "source": [
    "from collections import Counter\n",
    "\n",
    "import numpy as np\n",
    "import pandas as pd\n",
    "import torch\n",
    "import torch.nn as nn\n",
    "import torch.optim as optim\n",
    "import tree_sitter_python as tspython\n",
    "from sklearn.metrics import (\n",
    "    f1_score,\n",
    "    mean_absolute_error,\n",
    "    mean_squared_error,\n",
    "    recall_score,\n",
    "    roc_auc_score,\n",
    ")\n",
    "from sklearn.model_selection import train_test_split\n",
    "from torch.utils.data import DataLoader, Dataset\n",
    "from tqdm import tqdm\n",
    "from tree_sitter import Language, Parser\n",
    "\n",
    "from transformers import T5Tokenizer, T5ForConditionalGeneration\n",
    "\n",
    "from sklearn.ensemble import RandomForestClassifier, RandomForestRegressor\n",
    "from sklearn.tree import DecisionTreeClassifier, DecisionTreeRegressor, plot_tree\n",
    "\n",
    "from sklearn.metrics import recall_score, roc_auc_score, f1_score, mean_squared_error, mean_absolute_error\n",
    "\n",
    "import uuid\n",
    "import matplotlib.pyplot as plt\n",
    "\n",
    "\n",
    "PY_LANGUAGE = Language(tspython.language())\n",
    "DEVICE = torch.device(\"cuda\" if torch.cuda.is_available() else \"cpu\")\n",
    "DEVICE"
   ]
  },
  {
   "cell_type": "markdown",
   "id": "580a6318",
   "metadata": {},
   "source": [
    "## Utils"
   ]
  },
  {
   "cell_type": "code",
   "execution_count": null,
   "id": "55860f72",
   "metadata": {},
   "outputs": [],
   "source": [
    "def set_seed(seed: int = 420):\n",
    "    np.random.seed(seed)\n",
    "    torch.manual_seed(seed)\n",
    "    if torch.cuda.is_available():\n",
    "        torch.cuda.manual_seed_all(seed)\n",
    "\n",
    "def calculate_metrics_classifier(model:str, depth, true_label, predicted):\n",
    "\n",
    "    f1 = f1_score(true_label, predicted)\n",
    "    roc_auc = roc_auc_score(true_label, predicted)\n",
    "    recall = recall_score(true_label, predicted)\n",
    "    # mse = mean_squared_error(true_label, predicted)\n",
    "    # mae = mean_absolute_error(true_label, predicted)\n",
    "\n",
    "    print(f\"Model : {model} with depth {depth} | F1 : {f1} | ROC/AUC : {roc_auc} | RECALL : {recall} \")\n",
    "\n",
    "def calculate_metrics_regressor(model:str, depth, true_label, predicted):\n",
    "\n",
    "    # f1 = f1_score(true_label, predicted)\n",
    "    # roc_auc = roc_auc_score(true_label, predicted)\n",
    "    # recall = recall_score(true_label, predicted)\n",
    "    mse = mean_squared_error(true_label, predicted)\n",
    "    mae = mean_absolute_error(true_label, predicted)\n",
    "\n",
    "    print(f\"Model : {model} with depth {depth} | MAE : {mae} | MSE : {mse}  \")\n",
    "\n",
    "\n",
    "def uuid_to_int(uuid_str):\n",
    "    return uuid.UUID(uuid_str).int % (2**64) \n",
    "\n",
    "\n"
   ]
  },
  {
   "cell_type": "markdown",
   "id": "978ce47c",
   "metadata": {},
   "source": [
    "## Data Loading"
   ]
  },
  {
   "cell_type": "code",
   "execution_count": 3,
   "id": "bb97800f",
   "metadata": {},
   "outputs": [
    {
     "name": "stdout",
     "output_type": "stream",
     "text": [
      "Total size: 12428\n",
      "\n",
      "Train size: 9942\n",
      "Test size: 2486\n"
     ]
    }
   ],
   "source": [
    "set_seed()\n",
    "df = pd.read_csv(\"../../data/generated/dataset.csv\")\n",
    "\n",
    "print(f\"Total size: {len(df)}\\n\")\n",
    "\n",
    "train_df, test_df = train_test_split(df, test_size=0.2, stratify=df[\"generated\"])\n",
    "\n",
    "train_df = train_df.reset_index(drop=True)\n",
    "test_df = test_df.reset_index(drop=True)\n",
    "\n",
    "print(f\"Train size: {len(train_df)}\")\n",
    "print(f\"Test size: {len(test_df)}\")"
   ]
  },
  {
   "cell_type": "markdown",
   "id": "bf2d8a9d",
   "metadata": {},
   "source": [
    "Check that the data is balanced"
   ]
  },
  {
   "cell_type": "code",
   "execution_count": 4,
   "id": "d43e53df",
   "metadata": {},
   "outputs": [
    {
     "name": "stdout",
     "output_type": "stream",
     "text": [
      "Mean generated (train): 0.5211225105612552\n",
      "Mean generated (test): 0.5213193885760258\n"
     ]
    }
   ],
   "source": [
    "print(f\"Mean generated (train): {train_df['generated'].mean()}\")\n",
    "print(f\"Mean generated (test): {test_df['generated'].mean()}\")"
   ]
  },
  {
   "cell_type": "markdown",
   "id": "066cb0c6",
   "metadata": {},
   "source": [
    "## Dataset building"
   ]
  },
  {
   "cell_type": "code",
   "execution_count": 5,
   "id": "9f4e1a40ef64f9cb",
   "metadata": {},
   "outputs": [],
   "source": [
    "parser = Parser(PY_LANGUAGE)\n",
    "node_types = set()\n",
    "\n",
    "\n",
    "def walk_tree(node, types):\n",
    "    types.append(node.type)\n",
    "    for child in node.children:\n",
    "        walk_tree(child, types)\n",
    "\n",
    "\n",
    "def code_to_feature_vector(code, device=DEVICE) :\n",
    "    code = code.encode('utf-8')\n",
    "    tree = parser.parse(code)\n",
    "    types = []\n",
    "    walk_tree(tree.root_node, types)\n",
    "    counts = Counter(types)\n",
    "    feature_vector = [counts.get(typ, 0) for typ in node_types]\n",
    "    \n",
    "    return feature_vector\n",
    "\n",
    "\n",
    "# Gather all node types\n",
    "for _, row in train_df.iterrows():\n",
    "    tree = parser.parse(str.encode(row[\"code\"]))\n",
    "    types = []\n",
    "    walk_tree(tree.root_node, types)\n",
    "    node_types.update(types)\n",
    "\n",
    "node_types = sorted(node_types)\n",
    "type_to_idx = {typ: i for i, typ in enumerate(node_types)}"
   ]
  },
  {
   "cell_type": "markdown",
   "id": "3f7c9788",
   "metadata": {},
   "source": [
    "Save node types for inference"
   ]
  },
  {
   "cell_type": "code",
   "execution_count": 6,
   "id": "1db913e2",
   "metadata": {},
   "outputs": [],
   "source": [
    "with open(\"../../data/ast/node_types.txt\", \"w\", encoding=\"utf-8\") as f:\n",
    "    f.write(\"\\n\".join(node_types))"
   ]
  },
  {
   "cell_type": "code",
   "execution_count": 7,
   "id": "f8d80574",
   "metadata": {},
   "outputs": [],
   "source": [
    "dataset_train = train_df\n",
    "dataset_test = test_df"
   ]
  },
  {
   "cell_type": "code",
   "execution_count": 8,
   "id": "6474104a",
   "metadata": {},
   "outputs": [],
   "source": [
    "for df, i in zip([train_df, test_df], [1, 2]):\n",
    "    features_df = pd.DataFrame(df['code'].apply(code_to_feature_vector).apply(pd.Series))\n",
    "    df.drop('code', axis=1, inplace=True)\n",
    "    df = pd.concat([df, features_df], axis=1)\n",
    "\n",
    "    if i == 1:\n",
    "        dataset_train = df\n",
    "\n",
    "    else:\n",
    "        dataset_test = df"
   ]
  },
  {
   "cell_type": "code",
   "execution_count": 9,
   "id": "d408d089",
   "metadata": {},
   "outputs": [],
   "source": [
    "dataset_train_target = dataset_train['generated']\n",
    "dataset_train = dataset_train.drop(['generated'], axis=1) \n",
    "\n",
    "\n",
    "dataset_test_target = dataset_test['generated']\n",
    "dataset_test = dataset_test.drop(['generated'], axis=1)"
   ]
  },
  {
   "cell_type": "code",
   "execution_count": 10,
   "id": "d713c04f",
   "metadata": {},
   "outputs": [],
   "source": [
    "dataset_train['task'] =  dataset_train['task'].apply(uuid_to_int)\n",
    "dataset_test['task'] = dataset_test['task'].apply(uuid_to_int)"
   ]
  },
  {
   "cell_type": "code",
   "execution_count": 11,
   "id": "db6effe3",
   "metadata": {},
   "outputs": [],
   "source": [
    "dataset_test.columns = dataset_test.columns.astype(str)\n",
    "\n",
    "dataset_train.columns = dataset_train.columns.astype(str)"
   ]
  },
  {
   "cell_type": "code",
   "execution_count": 12,
   "id": "87d439a6",
   "metadata": {},
   "outputs": [],
   "source": [
    "full_dataset = pd.concat([dataset_test, dataset_train])\n",
    "full_target = pd.concat([dataset_test_target, dataset_train_target])"
   ]
  },
  {
   "cell_type": "markdown",
   "id": "b8911781",
   "metadata": {},
   "source": [
    "## Model definition"
   ]
  },
  {
   "cell_type": "code",
   "execution_count": 13,
   "id": "81531fec",
   "metadata": {},
   "outputs": [],
   "source": [
    "RFC = RandomForestClassifier(n_estimators=20)\n",
    "RFR = RandomForestRegressor(n_estimators=20)\n",
    "\n",
    "DTC = DecisionTreeClassifier()\n",
    "DTR = DecisionTreeRegressor()"
   ]
  },
  {
   "cell_type": "markdown",
   "id": "32630637",
   "metadata": {},
   "source": [
    "## Training"
   ]
  },
  {
   "cell_type": "code",
   "execution_count": 14,
   "id": "1dde22ae",
   "metadata": {},
   "outputs": [
    {
     "name": "stdout",
     "output_type": "stream",
     "text": [
      "Model : Random Forest Classifier | F1 : 0.8595679012345679 | ROC/AUC : 0.85331336238199 | RECALL : 0.8595679012345679 \n"
     ]
    }
   ],
   "source": [
    "RFC.fit(dataset_train, dataset_train_target)\n",
    "\n",
    "pred_val = RFC.predict(dataset_test)\n",
    "\n",
    "calculate_metrics_classifier(\"Random Forest Classifier\",pred_val, dataset_test_target)"
   ]
  },
  {
   "cell_type": "code",
   "execution_count": 15,
   "id": "17b5c194",
   "metadata": {},
   "outputs": [
    {
     "name": "stdout",
     "output_type": "stream",
     "text": [
      "Model : Random Forest Regressor | MAE : 0.23202935865554866 | MSE : 0.11094360495046442  \n"
     ]
    }
   ],
   "source": [
    "RFR.fit(dataset_train, dataset_train_target)\n",
    "\n",
    "pred_val = RFR.predict(dataset_test)\n",
    "\n",
    "calculate_metrics_regressor(\"Random Forest Regressor\", pred_val, dataset_test_target)"
   ]
  },
  {
   "cell_type": "markdown",
   "id": "360558b2",
   "metadata": {},
   "source": [
    "## Testing"
   ]
  },
  {
   "cell_type": "code",
   "execution_count": 16,
   "id": "83b7bea5",
   "metadata": {},
   "outputs": [
    {
     "name": "stdout",
     "output_type": "stream",
     "text": [
      "Model : Decision Tree Classifier | F1 : 0.8098207326578332 | ROC/AUC : 0.803380776004973 | RECALL : 0.8181102362204724 \n"
     ]
    }
   ],
   "source": [
    "DTC.fit(dataset_train, dataset_train_target)\n",
    "\n",
    "pred_val = DTC.predict(dataset_test)\n",
    "\n",
    "calculate_metrics_classifier(\"Decision Tree Classifier\", pred_val, dataset_test_target)"
   ]
  },
  {
   "cell_type": "code",
   "execution_count": 17,
   "id": "bad998ee",
   "metadata": {},
   "outputs": [
    {
     "name": "stdout",
     "output_type": "stream",
     "text": [
      "Model : Decision Tree Regressor | MAE : 0.19591178901665451 | MSE : 0.18174165604474157  \n"
     ]
    }
   ],
   "source": [
    "DTR.fit(dataset_train, dataset_train_target)\n",
    "\n",
    "pred_val = DTR.predict(dataset_test)\n",
    "\n",
    "calculate_metrics_regressor(\"Decision Tree Regressor\", pred_val, dataset_test_target)"
   ]
  },
  {
   "cell_type": "code",
   "execution_count": null,
   "id": "1c986088",
   "metadata": {},
   "outputs": [],
   "source": [
    "node_types.insert(0, 'task')"
   ]
  },
  {
   "cell_type": "code",
   "execution_count": null,
   "id": "73414caf",
   "metadata": {},
   "outputs": [],
   "source": [
    "def plot_dtree(tree, model_name, depth):\n",
    "  plt.figure(figsize=(20,10))\n",
    "  plot_tree(tree, \n",
    "            feature_names=node_types, \n",
    "            class_names=['1','0'], \n",
    "            rounded=True,  \n",
    "            max_depth=depth,\n",
    "            filled=True)\n",
    "  \n",
    "  plt.savefig(f\"../../data/picture/{model_name}_with_depth_{depth}.svg\")  \n",
    "  plt.close() "
   ]
  },
  {
   "cell_type": "code",
   "execution_count": 76,
   "id": "8b06e387",
   "metadata": {},
   "outputs": [],
   "source": [
    "def compare_depth(model, max_depth:int, classifier: bool = True):\n",
    "    for depth in range(2, max_depth+1):\n",
    "        model.max_depth = depth\n",
    "\n",
    "        model.fit(dataset_train, dataset_train_target)\n",
    "\n",
    "        pred_val = model.predict(dataset_test)\n",
    "        if classifier:\n",
    "            model_name = \"Decision Tree Classifier\"\n",
    "            calculate_metrics_classifier(model_name, depth, pred_val, dataset_test_target)\n",
    "        else:\n",
    "            model_name = \"Decision Tree Regressor\"\n",
    "            calculate_metrics_regressor(model_name,depth,  pred_val, dataset_test_target)\n",
    "\n",
    "        plot_dtree(model, model_name, depth)"
   ]
  },
  {
   "cell_type": "code",
   "execution_count": 77,
   "id": "8b60d64e",
   "metadata": {},
   "outputs": [],
   "source": [
    "RFC_dd = RandomForestClassifier(n_estimators=20)\n",
    "RFR_dd = RandomForestRegressor(n_estimators=20)\n",
    "\n",
    "DTC_dd = DecisionTreeClassifier()\n",
    "DTR_dd = DecisionTreeRegressor()"
   ]
  },
  {
   "cell_type": "code",
   "execution_count": 78,
   "id": "0a006090",
   "metadata": {},
   "outputs": [
    {
     "name": "stdout",
     "output_type": "stream",
     "text": [
      "Model : Decision Tree Classifier with depth 2 | F1 : 0.6906593406593406 | ROC/AUC : 0.6308074556554343 | RECALL : 0.5362627986348123 \n",
      "Model : Decision Tree Classifier with depth 3 | F1 : 0.64375 | ROC/AUC : 0.5880681818181818 | RECALL : 0.5852272727272727 \n",
      "Model : Decision Tree Classifier with depth 4 | F1 : 0.6461312797946461 | ROC/AUC : 0.6111442301641712 | RECALL : 0.6156533892382949 \n",
      "Model : Decision Tree Classifier with depth 5 | F1 : 0.650805270863836 | ROC/AUC : 0.6157308661626211 | RECALL : 0.6190807799442897 \n",
      "Model : Decision Tree Classifier with depth 6 | F1 : 0.6455493183640738 | ROC/AUC : 0.6453710376507429 | RECALL : 0.6719532554257095 \n",
      "Model : Decision Tree Classifier with depth 7 | F1 : 0.66796875 | ROC/AUC : 0.6577701267894509 | RECALL : 0.6764240506329114 \n",
      "Model : Decision Tree Classifier with depth 8 | F1 : 0.6862442040185471 | ROC/AUC : 0.6727989794172099 | RECALL : 0.6873065015479877 \n",
      "Model : Decision Tree Classifier with depth 9 | F1 : 0.697585281717133 | ROC/AUC : 0.6819992740962075 | RECALL : 0.693069306930693 \n",
      "Model : Decision Tree Classifier with depth 10 | F1 : 0.7273408239700374 | ROC/AUC : 0.7072147958489102 | RECALL : 0.7066957787481805 \n"
     ]
    }
   ],
   "source": [
    "compare_depth(DTC_dd, 10, False)"
   ]
  },
  {
   "cell_type": "code",
   "execution_count": 79,
   "id": "795d3123",
   "metadata": {},
   "outputs": [
    {
     "name": "stdout",
     "output_type": "stream",
     "text": [
      "Model : Decision Tree Regressor with depth 2 | MAE : 0.47215734296690737 | MSE : 0.2390081422403207  \n",
      "Model : Decision Tree Regressor with depth 3 | MAE : 0.45933385912814995 | MSE : 0.23330632788582395  \n",
      "Model : Decision Tree Regressor with depth 4 | MAE : 0.4475400315300263 | MSE : 0.22796712998766205  \n",
      "Model : Decision Tree Regressor with depth 5 | MAE : 0.43586947286415123 | MSE : 0.2239957107289368  \n",
      "Model : Decision Tree Regressor with depth 6 | MAE : 0.4211537148443366 | MSE : 0.21820743134274243  \n",
      "Model : Decision Tree Regressor with depth 7 | MAE : 0.4098182878124214 | MSE : 0.2166879699921979  \n",
      "Model : Decision Tree Regressor with depth 8 | MAE : 0.3971072461244457 | MSE : 0.2147967503388616  \n",
      "Model : Decision Tree Regressor with depth 9 | MAE : 0.38221743474014896 | MSE : 0.211329675285538  \n",
      "Model : Decision Tree Regressor with depth 10 | MAE : 0.36258203793549204 | MSE : 0.2049071493984801  \n"
     ]
    }
   ],
   "source": [
    "compare_depth(DTR_dd, 10, False)"
   ]
  },
  {
   "cell_type": "code",
   "execution_count": null,
   "id": "6078d646",
   "metadata": {},
   "outputs": [],
   "source": []
  }
 ],
 "metadata": {
  "kernelspec": {
   "display_name": ".venv",
   "language": "python",
   "name": "python3"
  },
  "language_info": {
   "codemirror_mode": {
    "name": "ipython",
    "version": 3
   },
   "file_extension": ".py",
   "mimetype": "text/x-python",
   "name": "python",
   "nbconvert_exporter": "python",
   "pygments_lexer": "ipython3",
   "version": "3.12.7"
  }
 },
 "nbformat": 4,
 "nbformat_minor": 5
}
