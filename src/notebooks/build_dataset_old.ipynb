{
 "cells": [
  {
   "cell_type": "markdown",
   "id": "e3123f7d",
   "metadata": {},
   "source": [
    "# Building Old Dataset"
   ]
  },
  {
   "cell_type": "code",
   "execution_count": 1,
   "id": "24659f8c",
   "metadata": {},
   "outputs": [],
   "source": [
    "import pandas as pd"
   ]
  },
  {
   "cell_type": "code",
   "execution_count": 2,
   "id": "2e69a709",
   "metadata": {},
   "outputs": [],
   "source": [
    "generated = pd.read_csv(\"../../data/generated/gen_solutions.csv\")\n",
    "human_written = pd.read_csv(\"../../data/db_attempts.csv\")"
   ]
  },
  {
   "cell_type": "code",
   "execution_count": 3,
   "id": "cd4a175f",
   "metadata": {},
   "outputs": [
    {
     "data": {
      "application/vnd.microsoft.datawrangler.viewer.v0+json": {
       "columns": [
        {
         "name": "index",
         "rawType": "int64",
         "type": "integer"
        },
        {
         "name": "task",
         "rawType": "object",
         "type": "string"
        },
        {
         "name": "code",
         "rawType": "object",
         "type": "string"
        },
        {
         "name": "generated",
         "rawType": "float64",
         "type": "float"
        }
       ],
       "conversionMethod": "pd.DataFrame",
       "ref": "dc0cfa84-304a-4dc0-b396-ea9f79ff40a7",
       "rows": [
        [
         "0",
         "c0df7d49-26f5-451c-b44a-1e0bca60bca5",
         "\r\nn = 1\r\nwhile n:\r\n    n = int(input())\r\n    if n:\r\n        print(n+1)\r\n        break\r\n",
         "1.0"
        ],
        [
         "1",
         "c0df7d49-26f5-451c-b44a-1e0bca60bca5",
         "\r\ncount = 0\r\nnum = input()\r\nwhile num != '0':\r\n    count += 1\r\n    num = input()\r\nprint(count)\r\n",
         "1.0"
        ],
        [
         "2",
         "c0df7d49-26f5-451c-b44a-1e0bca60bca5",
         "sequence = []\r\nwhile True:\r\n    num = int(input())\r\n    if num == 0:\r\n        break\r\n    sequence.append(num)\r\n\r\nprint(len(sequence))",
         "1.0"
        ],
        [
         "3",
         "4e5b21c0-e86f-4eac-82b6-1a0d00ae4199",
         "a=[]\r\nwhile True:\r\n   b=input()\r\n   if b=='0':\r\n     break\r\n   a+=[int(b)]\r\nprint(a.count(max(a)))",
         "1.0"
        ],
        [
         "4",
         "4e5b21c0-e86f-4eac-82b6-1a0d00ae4199",
         "\r\nmax_val = float('-inf')\r\ncount = 0\r\n\r\nwhile True:\r\n    num = int(input())\r\n    if num == 0:\r\n        break\r\n    if num > max_val:\r\n        max_val = num\r\n        count = 1\r\n    elif num == max_val:\r\n        count += 1\r\n\r\nprint(count)\r\n",
         "1.0"
        ],
        [
         "5",
         "4e5b21c0-e86f-4eac-82b6-1a0d00ae4199",
         "max_num = 0\r\ncount = 0\r\n\r\nnum = int(input())\r\nwhile num != 0:\r\n    if num > max_num:\r\n        max_num = num\r\n        count = 1\r\n    elif num == max_num:\r\n        count += 1\r\n    num = int(input())\r\n\r\nprint(count)",
         "1.0"
        ],
        [
         "6",
         "875ec0a5-0a8e-468b-b0f0-1b32c0337354",
         "\r\nn = int(input())\r\na = list(map(int, input().split()))\r\nans = sum(i >= 0 for i in a)\r\nprint(ans)\r\n",
         "1.0"
        ],
        [
         "7",
         "875ec0a5-0a8e-468b-b0f0-1b32c0337354",
         "\r\nn = int(input())\r\narr = list(map(int, input().split()))\r\ncount = 0\r\nfor num in arr:\r\n    if num >= 0:\r\n        count += 1\r\nprint(count)\r\n",
         "1.0"
        ],
        [
         "8",
         "875ec0a5-0a8e-468b-b0f0-1b32c0337354",
         "def solution():\r\n    n = int(input())\r\n    arr = list(map(int, input().split()))\r\n    count = 0\r\n    for num in arr:\r\n        if num >= 0:\r\n            count += 1\r\n    print(count)\r\n\r\nsolution()",
         "1.0"
        ],
        [
         "9",
         "35d772a5-7770-4a91-9118-ad11e4ae7feb",
         "\r\nn = int(input())\r\narr = list(map(int, input().split()))\r\ncount = 0\r\nfor i in range(1, n):\r\n    if arr[i] > arr[i - 1]:\r\n        count += 1\r\nprint(count)\r\n",
         "1.0"
        ],
        [
         "10",
         "35d772a5-7770-4a91-9118-ad11e4ae7feb",
         "\r\nn = int(input())\r\narr = list(map(int, input().split()))\r\ncount = 0\r\nfor i in range(1, n):\r\n    if arr[i] > arr[i-1]:\r\n        count += 1\r\nprint(count)\r\n",
         "1.0"
        ],
        [
         "11",
         "35d772a5-7770-4a91-9118-ad11e4ae7feb",
         "def count_larger_than_previous():\r\n    n = int(input())\r\n    arr = list(map(int, input().split()))\r\n    count = 0\r\n    for i in range(1, n):\r\n        if arr[i] > arr[i - 1]:\r\n            count += 1\r\n    print(count)\r\n\r\ncount_larger_than_previous()",
         "1.0"
        ],
        [
         "12",
         "6671bab8-0e57-4f15-bc39-c933a2495f50",
         "\r\nn = int(input())\r\nnums = list(map(int, input().split()))\r\nfor i in range(0, n - 1, 2):\r\n    nums[i], nums[i+1] = nums[i+1], nums[i]\r\nprint(*nums)\r\n",
         "1.0"
        ],
        [
         "13",
         "6671bab8-0e57-4f15-bc39-c933a2495f50",
         "\r\ndef rearrange(arr, n):\r\n    for i in range(n//2):\r\n        arr[i], arr[i+n//2] = arr[i+n//2], arr[i]\r\n    if n % 2 == 1:\r\n        print(arr[-1])\r\n    for i in range(len(arr)-1):\r\n        print(arr[i], end=' ')\r\n    print()\r\n\r\nn = int(input())\r\narr = list(map(int, input().split()))\r\nrearrange(arr, n)\r\n",
         "1.0"
        ],
        [
         "14",
         "6671bab8-0e57-4f15-bc39-c933a2495f50",
         "def rearrange_neighbors(arr):\r\n    for i in range(0, len(arr) - 1, 2):\r\n        arr[i], arr[i + 1] = arr[i + 1], arr[i]\r\n    return arr\r\n\r\nn = int(input())\r\narr = list(map(int, input().split()))\r\nresult = rearrange_neighbors(arr)\r\nprint(*result)",
         "1.0"
        ],
        [
         "15",
         "96848df3-0772-4855-bf4c-6fe2a471754f",
         "\r\nn = int(input())\r\narr = list(map(int, input().split()))\r\nexchanges = 0\r\nfor i in range(n):\r\n  for j in range(n - i - 1):\r\n    if arr[j] > arr[j + 1]:\r\n      arr[j], arr[j + 1] = arr[j + 1], arr[j]\r\n      exchanges += 1\r\nprint(exchanges)\r\n",
         "1.0"
        ],
        [
         "16",
         "96848df3-0772-4855-bf4c-6fe2a471754f",
         "\r\ndef bubble_sort(arr):\r\n    n = len(arr)\r\n    count = 0\r\n    for i in range(n):\r\n        swapped = False\r\n        for j in range(0, n - i - 1):\r\n            if arr[j] > arr[j + 1]:\r\n                arr[j], arr[j + 1] = arr[j + 1], arr[j]\r\n                swapped = True\r\n                count += 1\r\n        if not swapped:\r\n            break\r\n    return count\r\n\r\nn = int(input())\r\narr = list(map(int, input().split()))\r\nprint(bubble_sort(arr))\r\n",
         "1.0"
        ],
        [
         "17",
         "96848df3-0772-4855-bf4c-6fe2a471754f",
         "def bubble_sort_exchanges(arr):\r\n    n = len(arr)\r\n    exchanges = 0\r\n    for i in range(n - 1):\r\n        for j in range(n - i - 1):\r\n            if arr[j] > arr[j + 1]:\r\n                arr[j], arr[j + 1] = arr[j + 1], arr[j]\r\n                exchanges += 1\r\n    return exchanges\r\n\r\nn = int(input())\r\narr = list(map(int, input().split()))\r\n\r\nprint(bubble_sort_exchanges(arr))",
         "1.0"
        ],
        [
         "18",
         "33eb8e68-cf75-4892-b87b-97ceeee27d04",
         "\r\nx, y = map(int, input().split())\r\nif x * y > 0:\r\n    print(x + y)\r\nelif x * y < 0:\r\n    print(x * y)\r\nelse:\r\n    print(0)\r\n",
         "1.0"
        ],
        [
         "19",
         "33eb8e68-cf75-4892-b87b-97ceeee27d04",
         "\r\na, b = map(int, input().split())\r\nsign_a = a // abs(a)\r\nsign_b = b // abs(b)\r\n\r\nif sign_a == sign_b:\r\n    print(abs(a + b))\r\nelif sign_a != sign_b:\r\n    print(abs(a * b))\r\nelse:\r\n    print(abs(a - b))\r\n",
         "1.0"
        ],
        [
         "20",
         "33eb8e68-cf75-4892-b87b-97ceeee27d04",
         "Here's the Python code that solves the given task without any external imports:\r\n\r\ndef main():\r\n    a, b = map(int, input().split())\r\n    if a == b:\r\n        print(a - b)\r\n    elif a * b > 0:\r\n        print(a + b)\r\n    else:\r\n        print(a * b)\r\n\r\nif __name__ == \"__main__\":\r\n    main()",
         "1.0"
        ],
        [
         "21",
         "6b1e0963-bf0b-405e-b555-435a6225619c",
         "\r\ndef func():\r\n    x = int(input())\r\n    y=len(str(x))\r\n    z=0\r\n    while x:\r\n        z+=x%10\r\n        x=x//10\r\n    if y%2==0:\r\n        f=0\r\n    else:\r\n        f=1\r\n    print(y,f,z)\r\nfunc()\r\n",
         "1.0"
        ],
        [
         "22",
         "6b1e0963-bf0b-405e-b555-435a6225619c",
         "\r\ndef sum_digits(n):\r\n    total = 0\r\n    while n > 0:\r\n        total += n % 10\r\n        n //= 10\r\n    return total\r\n\r\nnumber = input()\r\ndigits = len(number)\r\nparity = int(number % 2)\r\nsum_dig = sum_digits(int(number))\r\nprint(digits, parity, sum_dig)\r\n",
         "1.0"
        ],
        [
         "23",
         "6b1e0963-bf0b-405e-b555-435a6225619c",
         "def main():\r\n    n = int(input())\r\n    digits = 0\r\n    odd = 0\r\n    digit_sum = 0\r\n\r\n    while n > 0:\r\n        digit = n % 10\r\n        digits += 1\r\n        digit_sum += digit\r\n        n //= 10\r\n\r\n    if digit_sum % 2 == 1:\r\n        odd = 1\r\n\r\n    print(digits, odd, digit_sum)\r\n\r\nif __name__ == \"__main__\":\r\n    main()",
         "1.0"
        ],
        [
         "24",
         "22e720bb-1b6c-470d-bb7b-da0de5a83f45",
         "\r\nx1, y1, x2, y2, x3, y3 = list(map(float, input().split()))\r\n\r\ndef dist(x1, y1, x2, y2):\r\n    return ((x2 - x1) ** 2 + (y2 - y1) ** 2) ** 0.5\r\n\r\na = dist(x1, y1, x2, y2)\r\nb = dist(x2, y2, x3, y3)\r\nc = dist(x1, y1, x3, y3)\r\n\r\np = (a + b + c) / 2\r\n\r\nprint(round(((p - a) * (p - b) * (p - c) / p)**0.5, 5))\r\n",
         "1.0"
        ],
        [
         "25",
         "22e720bb-1b6c-470d-bb7b-da0de5a83f45",
         "\r\ndef area_triangle(x1, y1, x2, y2, x3, y3):\r\n    s = (x1*(y2-y3) + x2*(y3-y1) + x3*(y1-y2)) / 2\r\n    return round(s**2 * (1 / (s - x1)**2 + 1 / (s - x2)**2 + 1 / (s - x3)**2), 5)\r\n\r\ninput_data = list(map(int, input().split()))\r\nprint(area_triangle(input_data[0], input_data[1], input_data[2], input_data[3], input_data[4], input_data[5]))\r\n",
         "1.0"
        ],
        [
         "26",
         "22e720bb-1b6c-470d-bb7b-da0de5a83f45",
         "x1, y1, x2, y2, x3, y3 = map(float, input().split())\r\n\r\narea = abs((x1 * (y2 - y3) + x2 * (y3 - y1) + x3 * (y1 - y2)) / 2)\r\n\r\nprint(f\"{area:.5f}\")",
         "1.0"
        ],
        [
         "27",
         "16305713-d2dc-4ab1-8bbd-107594c55519",
         "\r\na = int(input())\r\nb = int(input())\r\nc = int(input())\r\n\r\nif a + b <= c or a + c <= b or b + c <= a:\r\n  print('impossible')\r\nelif a**2 + b**2 == c**2 or a**2 + c**2 == b**2 or b**2 + c**2 == a**2:\r\n  print('right')\r\nelif a**2 + b**2 > c**2 and a**2 + c**2 > b**2 and b**2 + c**2 > a**2:\r\n  print('acute')\r\nelse:\r\n  print('obtuse')\r\n",
         "1.0"
        ],
        [
         "28",
         "16305713-d2dc-4ab1-8bbd-107594c55519",
         "\r\na = int(input())\r\nb = int(input())\r\nc = int(input())\r\n\r\nif a**2 + b**2 == c**2 or b**2 + c**2 == a**2 or c**2 + a**2 == b**2:\r\n print(\"right\")\r\nelif a**2 + b**2 > c**2 and a**2 + c**2 > b**2 and b**2 + c**2 > a**2:\r\n print(\"acute\")\r\nelif a**2 + b**2 > c**2 and a**2 + c**2 < b**2 or b**2 + c**2 < a**2:\r\n print(\"obtuse\")\r\nelse:\r\n print(\"impossible\")\r\n",
         "1.0"
        ],
        [
         "29",
         "16305713-d2dc-4ab1-8bbd-107594c55519",
         "a = int(input())\r\nb = int(input())\r\nc = int(input())\r\n\r\nif a + b > c and a + c > b and b + c > a:\r\n    if a*a + b*b == c*c or a*a + c*c == b*b or b*b + c*c == a*a:\r\n        print(\"right\")\r\n    elif a*a + b*b < c*c or a*a + c*c < b*b or b*b + c*c < a*a:\r\n        print(\"obtuse\")\r\n    else:\r\n        print(\"acute\")\r\nelse:\r\n    print(\"impossible\")",
         "1.0"
        ],
        [
         "30",
         "3276b711-2292-488f-9353-be7b86ab5e1a",
         "\r\nn = int(input())\r\nres = 1\r\nfor i in range(n):\r\n    res *= 2\r\nprint(res)\r\n",
         "1.0"
        ],
        [
         "31",
         "3276b711-2292-488f-9353-be7b86ab5e1a",
         "\r\nn = int(input())\r\nif n > 30 or n < 0:\r\n    print(\"Invalid input! Please enter a non-negative integer number that does not exceed 30.\")\r\nelse:\r\n    power = 1\r\n    for _ in range(n):\r\n        power *= 2\r\n    print(power)\r\n",
         "1.0"
        ],
        [
         "32",
         "3276b711-2292-488f-9353-be7b86ab5e1a",
         "n = int(input())\r\nresult = 1\r\nfor i in range(n):\r\n    result *= 2\r\nprint(result)",
         "1.0"
        ],
        [
         "33",
         "f9af70f9-5fce-423e-94c5-b6f357e5242c",
         "a, n = map(float, input().split())\r\nsm = 1\r\nfor i in range(1, n+1):\r\n    sm += a**i\r\nprint(sm)",
         "1.0"
        ],
        [
         "34",
         "f9af70f9-5fce-423e-94c5-b6f357e5242c",
         "\r\na, n = map(int, input().split())\r\nsum = 0\r\nfor i in range(n+1):\r\n    sum += a * (a ** i)\r\nprint(sum - a ** (n+1))\r\n",
         "1.0"
        ],
        [
         "35",
         "f9af70f9-5fce-423e-94c5-b6f357e5242c",
         "a = float(input())\r\nn = int(input())\r\nresult = 1\r\nfor i in range(n):\r\n    result += a**i\r\nprint(result)",
         "1.0"
        ],
        [
         "36",
         "4c5a1413-e27d-4b6a-b218-bc8e2a3ade0e",
         "\r\nx = int(input())\r\nfor i in range(1, x + 1):\r\n    if x % i == 0:\r\n        print(i, end=' ')\r\n",
         "1.0"
        ],
        [
         "37",
         "4c5a1413-e27d-4b6a-b218-bc8e2a3ade0e",
         "\r\ndef divisors(n):\r\n    divs = [1, n]\r\n    i = 2\r\n    while i * i <= n:\r\n        if n % i:\r\n            i += 1\r\n        else:\r\n            divs.append(i)\r\n            n //= i\r\n            i = 2\r\n    if i > 2:\r\n        for j in range(i, n + 1):\r\n            divs.append(j)\r\n    print(*sorted(divs))\r\n\r\nn = int(input())\r\ndivisors(n)\r\n",
         "1.0"
        ],
        [
         "38",
         "4c5a1413-e27d-4b6a-b218-bc8e2a3ade0e",
         "def main():\r\n    x = int(input())\r\n    for i in range(1, x + 1):\r\n        if x % i == 0:\r\n            print(i, end=' ')\r\n\r\nif __name__ == '__main__':\r\n    main()",
         "1.0"
        ],
        [
         "39",
         "06a06b1c-da2e-4210-b889-371de309b82f",
         "\r\nN = int(input())\r\nzeros = 0\r\npositive = 0\r\nnegative = 0\r\nfor i in range(N):\r\n  number = int(input())\r\n  if number == 0:\r\n    zeros += 1\r\n  elif number > 0:\r\n    positive += 1\r\n  else:\r\n    negative += 1\r\nprint(zeros, positive, negative)\r\n",
         "1.0"
        ],
        [
         "40",
         "06a06b1c-da2e-4210-b889-371de309b82f",
         "\r\nn = int(input())\r\nzeros = positives = negatives = 0\r\nfor i in range(n):\r\n    num = int(input())\r\n    if num == 0:\r\n        zeros += 1\r\n    elif num > 0:\r\n        positives += 1\r\n    else:\r\n        negatives += 1\r\nprint(f'{zeros}  {positives}  {negatives}')\r\n",
         "1.0"
        ],
        [
         "41",
         "06a06b1c-da2e-4210-b889-371de309b82f",
         "n = int(input())\r\nnumbers = list(map(int, input().split()))\r\n\r\nzero_count = 0\r\npositive_count = 0\r\nnegative_count = 0\r\n\r\nfor num in numbers:\r\n    if num == 0:\r\n        zero_count += 1\r\n    elif num > 0:\r\n        positive_count += 1\r\n    else:\r\n        negative_count += 1\r\n\r\nprint(zero_count, positive_count, negative_count)",
         "1.0"
        ],
        [
         "42",
         "157c7563-5b83-4f84-b184-e15788a65471",
         "\r\na = int(input())\r\ni = 2\r\nwhile a % i != 0:\r\n    i += 1\r\nprint(i)\r\n",
         "1.0"
        ],
        [
         "43",
         "157c7563-5b83-4f84-b184-e15788a65471",
         "\r\nn = int(input())\r\nif n < 4:\r\n print(2)\r\nelse:\r\n for i in range(2, n):\r\n if n % i == 0:\r\n print(i)\r\n break\r\n",
         "1.0"
        ],
        [
         "44",
         "157c7563-5b83-4f84-b184-e15788a65471",
         "def main():\r\n    a = int(input())\r\n    for i in range(2, a + 1):\r\n        if a % i == 0:\r\n            print(i)\r\n            break\r\n\r\nif __name__ == \"__main__\":\r\n    main()",
         "1.0"
        ],
        [
         "45",
         "26acdc8d-1ff5-439b-81bd-00672786ec6d",
         "\r\nsum = 0\r\nnumber = int(input())\r\nwhile number != 0:\r\n  sum += number\r\n  number = int(input())\r\nprint(sum)\r\n",
         "1.0"
        ],
        [
         "46",
         "26acdc8d-1ff5-439b-81bd-00672786ec6d",
         "\r\ndef sequence_sum(sequence):\r\n    total = 0\r\n    for num in sequence:\r\n        total += num\r\n        if num != 0:\r\n            continue\r\n        break\r\n    return total\r\n\r\nsequence = list(map(int, input().split()))\r\nprint(sequence_sum(sequence))\r\n",
         "1.0"
        ],
        [
         "47",
         "26acdc8d-1ff5-439b-81bd-00672786ec6d",
         "num = int(input())\r\nsum = 0\r\n\r\nwhile num != 0:\r\n    sum += num\r\n    num = int(input())\r\n\r\nprint(sum)",
         "1.0"
        ],
        [
         "48",
         "419d664d-81aa-4201-abc6-d514e7ee1691",
         "\r\nsum = 0\r\ncount = 0\r\nnumber = int(input())\r\nwhile number != 0:\r\n  sum += number\r\n  count += 1\r\n  number = int(input())\r\nprint(sum / count)\r\n",
         "1.0"
        ],
        [
         "49",
         "419d664d-81aa-4201-abc6-d514e7ee1691",
         "\r\ntotal = 0\r\ncount = 0\r\nnum = input(\"Enter a sequence of integers. Input ends when the number 0 is entered: \")\r\nwhile num != '0':\r\n    total += float(num)\r\n    count += 1\r\n    num = input(\"Enter next number: \")\r\n\r\nmean = total / count\r\nprint(\"{:.6f}\".format(mean))\r\n",
         "1.0"
        ]
       ],
       "shape": {
        "columns": 3,
        "rows": 3300
       }
      },
      "text/html": [
       "<div>\n",
       "<style scoped>\n",
       "    .dataframe tbody tr th:only-of-type {\n",
       "        vertical-align: middle;\n",
       "    }\n",
       "\n",
       "    .dataframe tbody tr th {\n",
       "        vertical-align: top;\n",
       "    }\n",
       "\n",
       "    .dataframe thead th {\n",
       "        text-align: right;\n",
       "    }\n",
       "</style>\n",
       "<table border=\"1\" class=\"dataframe\">\n",
       "  <thead>\n",
       "    <tr style=\"text-align: right;\">\n",
       "      <th></th>\n",
       "      <th>task</th>\n",
       "      <th>code</th>\n",
       "      <th>generated</th>\n",
       "    </tr>\n",
       "  </thead>\n",
       "  <tbody>\n",
       "    <tr>\n",
       "      <th>0</th>\n",
       "      <td>c0df7d49-26f5-451c-b44a-1e0bca60bca5</td>\n",
       "      <td>\\r\\nn = 1\\r\\nwhile n:\\r\\n    n = int(input())\\...</td>\n",
       "      <td>1.0</td>\n",
       "    </tr>\n",
       "    <tr>\n",
       "      <th>1</th>\n",
       "      <td>c0df7d49-26f5-451c-b44a-1e0bca60bca5</td>\n",
       "      <td>\\r\\ncount = 0\\r\\nnum = input()\\r\\nwhile num !=...</td>\n",
       "      <td>1.0</td>\n",
       "    </tr>\n",
       "    <tr>\n",
       "      <th>2</th>\n",
       "      <td>c0df7d49-26f5-451c-b44a-1e0bca60bca5</td>\n",
       "      <td>sequence = []\\r\\nwhile True:\\r\\n    num = int(...</td>\n",
       "      <td>1.0</td>\n",
       "    </tr>\n",
       "    <tr>\n",
       "      <th>3</th>\n",
       "      <td>4e5b21c0-e86f-4eac-82b6-1a0d00ae4199</td>\n",
       "      <td>a=[]\\r\\nwhile True:\\r\\n   b=input()\\r\\n   if b...</td>\n",
       "      <td>1.0</td>\n",
       "    </tr>\n",
       "    <tr>\n",
       "      <th>4</th>\n",
       "      <td>4e5b21c0-e86f-4eac-82b6-1a0d00ae4199</td>\n",
       "      <td>\\r\\nmax_val = float('-inf')\\r\\ncount = 0\\r\\n\\r...</td>\n",
       "      <td>1.0</td>\n",
       "    </tr>\n",
       "    <tr>\n",
       "      <th>...</th>\n",
       "      <td>...</td>\n",
       "      <td>...</td>\n",
       "      <td>...</td>\n",
       "    </tr>\n",
       "    <tr>\n",
       "      <th>3376</th>\n",
       "      <td>c4ced8e6-dec6-4f4a-8a79-f5800795a08b</td>\n",
       "      <td>\\r\\nn = int(input())\\r\\nmin_colored = 0\\r\\nmax...</td>\n",
       "      <td>1.0</td>\n",
       "    </tr>\n",
       "    <tr>\n",
       "      <th>3377</th>\n",
       "      <td>c4ced8e6-dec6-4f4a-8a79-f5800795a08b</td>\n",
       "      <td>\\r\\nn = int(input())\\r\\nmin_cubes = float('inf...</td>\n",
       "      <td>1.0</td>\n",
       "    </tr>\n",
       "    <tr>\n",
       "      <th>3378</th>\n",
       "      <td>df2fe73c-bfa4-40e5-b77c-d2ad076197ca</td>\n",
       "      <td>\\r\\ndef can_distribute(max_time, n, k, s, cand...</td>\n",
       "      <td>1.0</td>\n",
       "    </tr>\n",
       "    <tr>\n",
       "      <th>3379</th>\n",
       "      <td>df2fe73c-bfa4-40e5-b77c-d2ad076197ca</td>\n",
       "      <td>\\r\\ndef min_time_to_eat_candies(n, k, s, bags)...</td>\n",
       "      <td>1.0</td>\n",
       "    </tr>\n",
       "    <tr>\n",
       "      <th>3380</th>\n",
       "      <td>df2fe73c-bfa4-40e5-b77c-d2ad076197ca</td>\n",
       "      <td>\\r\\ndef min_time_to_eat_candies(n, k, s, bags)...</td>\n",
       "      <td>1.0</td>\n",
       "    </tr>\n",
       "  </tbody>\n",
       "</table>\n",
       "<p>3300 rows × 3 columns</p>\n",
       "</div>"
      ],
      "text/plain": [
       "                                      task  \\\n",
       "0     c0df7d49-26f5-451c-b44a-1e0bca60bca5   \n",
       "1     c0df7d49-26f5-451c-b44a-1e0bca60bca5   \n",
       "2     c0df7d49-26f5-451c-b44a-1e0bca60bca5   \n",
       "3     4e5b21c0-e86f-4eac-82b6-1a0d00ae4199   \n",
       "4     4e5b21c0-e86f-4eac-82b6-1a0d00ae4199   \n",
       "...                                    ...   \n",
       "3376  c4ced8e6-dec6-4f4a-8a79-f5800795a08b   \n",
       "3377  c4ced8e6-dec6-4f4a-8a79-f5800795a08b   \n",
       "3378  df2fe73c-bfa4-40e5-b77c-d2ad076197ca   \n",
       "3379  df2fe73c-bfa4-40e5-b77c-d2ad076197ca   \n",
       "3380  df2fe73c-bfa4-40e5-b77c-d2ad076197ca   \n",
       "\n",
       "                                                   code  generated  \n",
       "0     \\r\\nn = 1\\r\\nwhile n:\\r\\n    n = int(input())\\...        1.0  \n",
       "1     \\r\\ncount = 0\\r\\nnum = input()\\r\\nwhile num !=...        1.0  \n",
       "2     sequence = []\\r\\nwhile True:\\r\\n    num = int(...        1.0  \n",
       "3     a=[]\\r\\nwhile True:\\r\\n   b=input()\\r\\n   if b...        1.0  \n",
       "4     \\r\\nmax_val = float('-inf')\\r\\ncount = 0\\r\\n\\r...        1.0  \n",
       "...                                                 ...        ...  \n",
       "3376  \\r\\nn = int(input())\\r\\nmin_colored = 0\\r\\nmax...        1.0  \n",
       "3377  \\r\\nn = int(input())\\r\\nmin_cubes = float('inf...        1.0  \n",
       "3378  \\r\\ndef can_distribute(max_time, n, k, s, cand...        1.0  \n",
       "3379  \\r\\ndef min_time_to_eat_candies(n, k, s, bags)...        1.0  \n",
       "3380  \\r\\ndef min_time_to_eat_candies(n, k, s, bags)...        1.0  \n",
       "\n",
       "[3300 rows x 3 columns]"
      ]
     },
     "execution_count": 3,
     "metadata": {},
     "output_type": "execute_result"
    }
   ],
   "source": [
    "generated_parsed = generated[[\"spec\", \"solution\"]].dropna()\n",
    "generated_parsed.columns = [\"task\", \"code\"]\n",
    "generated_parsed[\"generated\"] = 1.0\n",
    "generated_parsed"
   ]
  },
  {
   "cell_type": "code",
   "execution_count": 4,
   "id": "6069b96d",
   "metadata": {},
   "outputs": [
    {
     "name": "stderr",
     "output_type": "stream",
     "text": [
      "D:\\VSCode\\data\\tmp\\ipykernel_14188\\158935651.py:4: DeprecationWarning: invalid escape sequence '\\d'\n",
      "  lambda x: x.encode(\"utf-8\").decode(\"unicode_escape\") if isinstance(x, str) else x\n"
     ]
    },
    {
     "data": {
      "application/vnd.microsoft.datawrangler.viewer.v0+json": {
       "columns": [
        {
         "name": "index",
         "rawType": "int64",
         "type": "integer"
        },
        {
         "name": "task",
         "rawType": "object",
         "type": "string"
        },
        {
         "name": "code",
         "rawType": "object",
         "type": "string"
        },
        {
         "name": "generated",
         "rawType": "float64",
         "type": "float"
        }
       ],
       "conversionMethod": "pd.DataFrame",
       "ref": "884960c1-4291-4d25-88ab-f1fd17580318",
       "rows": [
        [
         "0",
         "4659a273-9c89-4ff8-a1bd-6d0ae87e9915",
         "x=int (input())\r\nx=x-2\r\nif x%10==1 and x!=11:\r\n   print(x,'mag')\r\nelif (x%10==2 or x%10==3 or x%10==4) and x!=12 and x!=13 and x!=14:\r\n   print(x,'maga')\r\nelse :\r\n   print(x,'magov')\r\n\r\n\r\n\r\n\r\n",
         "0.0"
        ],
        [
         "1",
         "84118453-37c4-4256-a8f0-5dc2707d4e35",
         "a=str(bin(int(input())))\r\nprint(a[2:])",
         "0.0"
        ],
        [
         "2",
         "b8c265d0-999d-49e2-a5fd-eed95708bf97",
         "n = int(input())\r\n\r\ngr = [[] * n for i in range(n)]\r\nA = [[] * n for i in range(n)]\r\ninf=10**10\r\n\r\nfor i in range(n):\r\n    gr[i] = [int(t) for t in input().split()]\r\n\r\nfor i in range(n):\r\n    for j in range(n):\r\n        if (gr[i][j]==-1):\r\n            gr[i][j]=inf\r\n\r\nA = [[gr[i][j] for j in range(n)] for i in range(n)] \r\nfor k in range(n): \r\n    for i in range(n):\r\n        for j in range(n): \r\n            A[i][j] = min(A[i][j], A[i][k] + A[k][j])\r\n\r\n\r\n\r\nfor row in A:\r\n    print(' '.join(map(str, row)))",
         "0.0"
        ],
        [
         "3",
         "84118453-37c4-4256-a8f0-5dc2707d4e35",
         "a=str(bin(int(input())))\r\nprint(a[2:])",
         "0.0"
        ],
        [
         "4",
         "84118453-37c4-4256-a8f0-5dc2707d4e35",
         "a=str(bin(int(input())))\r\nprint(a[2:])",
         "0.0"
        ],
        [
         "5",
         "f2d92959-39d9-49fe-a9b1-5868567eeedf",
         "a=int(input())\r\nd=int(a*2.54)\r\n\r\nprint(d)",
         "0.0"
        ],
        [
         "6",
         "84118453-37c4-4256-a8f0-5dc2707d4e35",
         "a=str(bin(int(input())))\r\nprint(a[2:])",
         "0.0"
        ],
        [
         "7",
         "84118453-37c4-4256-a8f0-5dc2707d4e35",
         "a=str(bin(int(input())))\r\nprint(a[2:])",
         "0.0"
        ],
        [
         "8",
         "901dd977-9e8b-4b54-9730-6aeaa9d4a9e7",
         "ugol1=int(input())\r\nprint(90-ugol1)",
         "0.0"
        ],
        [
         "9",
         "5d02ab7a-4394-4098-9f7a-ed3912083888",
         "h=int (input())\r\nm=int(input())\r\n\r\nvr=h*60+m+75\r\n\r\nprint(vr//60%24,vr%60)\r\n\r\n\r\n\r\n",
         "0.0"
        ],
        [
         "10",
         "f2d92959-39d9-49fe-a9b1-5868567eeedf",
         "a=int(input())\r\nd=round(a*2.54)\r\n\r\nprint(d)",
         "0.0"
        ],
        [
         "11",
         "1ff5a639-82a9-46d5-99e8-90b0529a5016",
         "n=int (input())\r\n\r\n\r\nvr1=n%3\r\nvr2=n//3\r\n\r\nprint(vr2+vr1//2+vr1%2)",
         "0.0"
        ],
        [
         "12",
         "5d02ab7a-4394-4098-9f7a-ed3912083888",
         "h=int (input())\r\nm=int(input())\r\nh=h+1\r\nm=m+15\r\nif (h>=24):\r\n    h=0\r\nif (m>=60):\r\n    h=h+1\r\n    m=m-60\r\nprint(h,m)\r\n\r\n\r\n\r\n",
         "0.0"
        ],
        [
         "13",
         "b8c265d0-999d-49e2-a5fd-eed95708bf97",
         "n = int(input())\r\ngr = [[] * n for i in range(n)]\r\nA = [[] * n for i in range(n)]\r\ninf=10**10\r\n\r\nfor i in range(n):\r\n    gr[i] = [int(t) for t in input().split()]\r\n\r\nfor i in range(n):\r\n    for j in range(n):\r\n        if (gr[i][j]==-1):\r\n            gr[i][j]=inf\r\n\r\nA = [[gr[i][j] for j in range(n)] for i in range(n)] \r\nfor k in range(n): \r\n    for i in range(n):\r\n        for j in range(n): \r\n            A[i][j] = min(A[i][j], A[i][k] + A[k][j])\r\n\r\n\r\n\r\nfor row in A:\r\n    print(' '.join(map(str, row)))",
         "0.0"
        ],
        [
         "14",
         "945dd62f-c5a3-4a5c-888f-d188a7c8cac3",
         "n = int(input())\r\ngr = [[] * n for i in range(n)]\r\ninf=10**10\r\n\r\nfor i in range(n):\r\n    gr[i] = [int(t) for t in input().split()]\r\nverV = int(input())\r\n\r\nfor i in range(n):\r\n    for j in range(n):\r\n        if (gr[i][j]==0)or(gr[i][j]==-1):\r\n            gr[i][j]=inf\r\ngr[verV-1][verV-1]=0\r\n\r\ndef dijkstra(src):\r\n    visited = []\r\n    distance = {src: 0}\r\n    node = list(range(len(gr[0])))\r\n    if src in node:\r\n        node.remove(src)\r\n        visited.append(src)\r\n    else:\r\n        return None\r\n    for i in node:\r\n        distance[i] = gr[src][i]\r\n    prefer = src\r\n    while node:\r\n        _distance = float('inf')\r\n        for i in visited:\r\n            for j in node:\r\n                if gr[i][j] > 0:\r\n                    if _distance > distance[i] + gr[i][j]:\r\n                        _distance = distance[j] = distance[i] + gr[i][j]\r\n                        prefer = j\r\n        visited.append(prefer)\r\n        node.remove(prefer)\r\n    return distance\r\n\r\n\r\ndistance = dijkstra(verV-1)\r\n#print(distance)\r\nfor h in range(n):\r\n    if h!=verV-1:\r\n        if distance[h]==inf:\r\n            print(h+1,'NO')\r\n        else:    \r\n            print(h+1,distance[h])",
         "0.0"
        ],
        [
         "15",
         "dfcd4c48-6f3f-4a53-a03f-e5abebfebdae",
         "n = int(input())\r\ngr = [[] * n for i in range(n)]\r\ninf=10**10\r\n\r\nfor i in range(n):\r\n    gr[i] = [int(t) for t in input().split()]\r\nverV,verW= map(int,input().split())\r\n\r\nfor i in range(n):\r\n    for j in range(n):\r\n        if (gr[i][j]==0)or(gr[i][j]==-1):\r\n            gr[i][j]=inf\r\n\r\ndef dijkstra(src):\r\n    # init\r\n    visited = []\r\n    distance = {src: 0}\r\n    node = list(range(len(gr[0])))\r\n    if src in node:\r\n        node.remove(src)\r\n        visited.append(src)\r\n    else:\r\n        return None\r\n    for i in node:\r\n        distance[i] = gr[src][i]\r\n    prefer = src\r\n    while node:\r\n        _distance = float('inf')\r\n        for i in visited:\r\n            for j in node:\r\n                if gr[i][j] > 0:\r\n                    if _distance > distance[i] + gr[i][j]:\r\n                        _distance = distance[j] = distance[i] + gr[i][j]\r\n                        prefer = j\r\n        visited.append(prefer)\r\n        node.remove(prefer)\r\n    return distance\r\n\r\n\r\ndistance = dijkstra(verV-1)\r\n#print(distance)\r\nif distance[verW-1]==inf:\r\n    print('NO')\r\nelse:\r\n    print(distance[verW-1])",
         "0.0"
        ],
        [
         "16",
         "04dd6eca-f83b-4028-a21a-4e09c9333c0a",
         "n=int(input())\r\ngr = [[] * n for i in range(n)]\r\nvisited = [False] * n\r\nQ = []\r\nQQ=[]\r\nQ3=[]\r\nst=[-1]*n\r\nSet=0\r\n\r\nfor i in range(n):\r\n    gr[i] = [int(t) for t in input().split()]\r\nverV,verW= map(int,input().split())\r\n\r\ndef BFS(start):\r\n    if start<len(Q):\r\n        v = Q[start]\r\n        for i in range(n): \r\n            if gr[v][i]>0:\r\n                if not visited[i]:\r\n                    Q.append(i)\r\n                    visited[i]=True\r\n                    st[i]=v\r\n        \r\n        BFS(start+1)\r\n\r\nverV-=1\r\nverW-=1\r\nQ.append(verV)\r\nvisited[verV]=True\r\nBFS(0)\r\n\r\nif st[verW]==-1:\r\n    if verV==verW:\r\n        print(0)\r\n        \r\n    else:\r\n        print('NO')\r\nelse:\r\n    QQ=[verW]\r\n    while st[verW]!=verV:\r\n        QQ.append(st[verW])\r\n        verW=st[verW]\r\n    QQ.append(st[verW])\r\n    QQ.reverse()   \r\n    for h in range(len(QQ)-1):\r\n        Set=Set+gr[QQ[h]][QQ[h+1]]\r\n    print(Set)",
         "0.0"
        ],
        [
         "17",
         "1187526d-8b3a-4a9b-8098-bbbf8d9d1423",
         "n= int(input())\r\ngr = [[] * n for i in range(n)]\r\nvisited = [False] * n\r\nQ = []\r\nQ2=[]\r\nQ3=[]\r\nst=[0]*n\r\nQstart=0\r\n\r\nfor i in range(n):\r\n    gr[i] = [int(t) for t in input().split()]\r\n\r\n\r\ndef BFS(start):\r\n    if start<len(Q):\r\n        v = Q[start]\r\n        for i in range(n): \r\n            if gr[v][i]==1:\r\n                if not visited[i]:\r\n                    Q.append(i)\r\n                    visited[i]=True\r\n                    st[i]=v\r\n        \r\n        BFS(start+1)\r\n\r\nQ.append(0)\r\nvisited[0]=True\r\nBFS(0)\r\n\r\nfor i in range(n):\r\n    print(i+1,st[i]+1)",
         "0.0"
        ],
        [
         "18",
         "80cacb8a-a6c2-4757-9646-317c1594c18e",
         "n,m= map(int,input().split())\r\ngr = [[] * n for i in range(n)]\r\nvisited = [False] * n\r\nQ = []\r\nQ2=[]\r\nQstart=0\r\n\r\nfor i in range(n):\r\n    gr[i] = [int(t) for t in input().split()]\r\n\r\n\r\ndef BFS(start):\r\n    if start<n:\r\n        v = Q[start]\r\n        for i in range(n): \r\n            if gr[v][i]==1:\r\n                if not visited[i]:\r\n                    Q.append(i)\r\n                    visited[i]=True\r\n        \r\n        BFS(start+1)\r\n\r\n\r\nfor d in range(m):\r\n    visited = [False] * n\r\n    Q = []\r\n    Q2=[]\r\n    Qstart=0\r\n    t=int(input())\r\n    Q.append(t-1)\r\n    visited[t-1]=True\r\n    BFS(0)\r\n    for i in range(len(Q)):\r\n        Q2.append(Q[i]+1)\r\n    print(*Q2)",
         "0.0"
        ],
        [
         "19",
         "e9f3df82-446a-424e-a07b-3c77daa739f2",
         "n= int(input())\r\ngr = [[] * n for i in range(n)]\r\nvisited = [False] * n\r\nQ = []\r\nQ2=[]\r\nQstart=0\r\n\r\nfor i in range(n):\r\n    gr[i] = [int(t) for t in input().split()]\r\n\r\n\r\ndef BFS(start):\r\n    if start<n:\r\n        v = Q[start]\r\n        for i in range(n): \r\n            if gr[v][i]==1:\r\n                if not visited[i]:\r\n                    Q.append(i)\r\n                    visited[i]=True\r\n        \r\n        BFS(start+1)\r\n\r\nQ.append(0)\r\nvisited[0]=True\r\nBFS(0)\r\nfor i in range(len(Q)):\r\n    Q2.append(Q[i]+1)\r\nprint(*Q2)",
         "0.0"
        ],
        [
         "20",
         "80cacb8a-a6c2-4757-9646-317c1594c18e",
         "n,m= map(int,input().split())\r\ngr = [[] * n for i in range(n)]\r\nvisited = [False] * n\r\nQ = []\r\nQ2=[]\r\nQstart=0\r\n\r\nfor i in range(n):\r\n    gr[i] = [int(t) for t in input().split()]\r\n\r\ndef BFS(start):\r\n    Qstart=0\r\n    Q.append(start)\r\n    visited[start]=True\r\n    while Qstart<len(Q): \r\n        v = Q[Qstart]\r\n        Qstart+=1\r\n        for i in range(n): \r\n            if gr[v][i]==1:\r\n                if not visited[i]:\r\n                    Q.append(i)\r\n                    visited[i]=True\r\n\r\n\r\nfor d in range(m):\r\n    visited = [False] * n\r\n    Q = []\r\n    Q2=[]\r\n    Qstart=0\r\n    t=int(input())\r\n    BFS(t-1)\r\n    for i in range(len(Q)):\r\n        Q2.append(Q[i]+1)\r\n    print(*Q2)",
         "0.0"
        ],
        [
         "21",
         "e9f3df82-446a-424e-a07b-3c77daa739f2",
         "n= int(input())\r\ngr = [[] * n for i in range(n)]\r\nvisited = [False] * n\r\nQ = []\r\nQ2=[]\r\nQstart=0\r\nmaxlen=0\r\nk=[]\r\nfor i in range(n):\r\n    gr[i] = [int(t) for t in input().split()]\r\n\r\n\r\ndef BFS(start):\r\n    Qstart=0\r\n    Q.append(start)\r\n    visited[start]=True\r\n    while Qstart<len(Q): \r\n        v = Q[Qstart]\r\n        Qstart+=1\r\n        for i in range(n): \r\n            if gr[v][i]==1:\r\n                if not visited[i]:\r\n                    Q.append(i)\r\n                    visited[i]=True\r\n\r\n\r\nBFS(0)\r\nfor i in range(len(Q)):\r\n    Q2.append(Q[i]+1)\r\nprint(*Q2)",
         "0.0"
        ],
        [
         "22",
         "2924cfce-8ebf-4fe5-aa8e-046256297fb1",
         "n = int(input())\r\ngr = [[] * n for i in range(n)]\r\nvisited = [False] * n\r\nprev = []\r\nk=[]\r\nfor i in range(n):\r\n    gr[i] = [int(t) for t in input().split()]\r\n\r\n       \r\n         \r\ndef dfs(start):\r\n    \r\n    visited[start] = True\r\n    for u in range(n):\r\n        if gr[start][u]==1:\r\n            if not visited[u]:\r\n                dfs(u)\r\n    prev.append(start+1)\r\n            \r\nfor d in range(n):\r\n    if not visited[d]:\r\n        dfs(d)\r\nprev.reverse()\r\n\r\nprint(*prev)",
         "0.0"
        ],
        [
         "23",
         "82028d7b-804a-4c3d-acf8-29bc892147e5",
         "n= int(input())\r\ngr = [[] * n for i in range(n)]\r\nvisited = [False] * n\r\nprev = []\r\nk=[]\r\nfor i in range(n):\r\n    gr[i] = [int(t) for t in input().split()]\r\n\r\n       \r\n         \r\ndef dfs(start):\r\n   \r\n    prev.append(start)\r\n    visited[start] = True\r\n    for u in range(n):\r\n        if gr[start][u]==1:\r\n            if not visited[u]:\r\n                dfs(u)\r\n            \r\ndfs(0)\r\n    \r\nif len(prev)==n:\r\n    print('YES')\r\nelse:\r\n    print('NO')",
         "0.0"
        ],
        [
         "24",
         "614009a0-821e-497b-9a0b-07c0dbe033b8",
         "n,m = map(int,input().split())\r\ngr = [[] * n for i in range(n)]\r\nvisited = [False] * n\r\nprev = []\r\nk=[]\r\nfor i in range(n):\r\n    gr[i] = [int(t) for t in input().split()]\r\n\r\n       \r\n         \r\ndef dfs(start):\r\n   \r\n    if start==w-1:\r\n        k.append(1)\r\n    visited[start] = True\r\n    for u in range(n):\r\n        if gr[start][u]==1:\r\n            if not visited[u]:\r\n                dfs(u)\r\n            \r\nfor t in range(m):\r\n    k=[]\r\n    visited = [False] * n\r\n   \r\n    v,w = map(int,input().split())\r\n    dfs(v-1)\r\n    \r\n    if k!=[]:\r\n        print('YES')\r\n    else:\r\n        print('NO')",
         "0.0"
        ],
        [
         "25",
         "ead36ff4-8cf1-4c6c-8a43-ab69f623fde7",
         "n= int(input())\r\ngr = [[] * n for i in range(n)]\r\nvisited = [False] * n\r\nprev = []\r\nprevP=[]\r\nrd=[0] * n\r\nst=[0] * n\r\nk=0\r\n\r\nfor i in range(n):\r\n    gr[i] = [int(t) for t in input().split()]\r\n\r\n         \r\ndef dfs(start):\r\n    prev.append(start)\r\n    visited[start] = True\r\n    for u in range(n):\r\n        if not visited[u] and gr[start][u]!=0:\r\n            st[u]=start\r\n            dfs(u)\r\n           \r\n\r\n            \r\ndfs(0)\r\n#print(*prev)\r\n#print(*prevP)\r\nfor i in range(n):\r\n    k=prev[i]\r\n    rd[k]=i\r\n\r\nfor i in range(n):\r\n    print(i+1,st[i]+1) ",
         "0.0"
        ],
        [
         "26",
         "95831070-88fb-406f-8997-c0fc4027d623",
         " \r\nn = int(input())        \r\ngr = [[] * n for i in range(n)]\r\nfor i in range(n):\r\n    gr[i] = [int(t) for t in input().split()]\r\n   \r\n\r\nfor i in range(n):\r\n    for j in range(n):\r\n        if gr[i][j]==1:\r\n            gr[j][i]=gr[i][j]\r\n            #break\r\n                    \r\nfor row in gr:\r\n    print(' '.join(map(str, row)))\r\n",
         "0.0"
        ],
        [
         "27",
         "0cc13605-3cb0-48e8-a8d7-10d2e1b77520",
         "n= int(input())\r\ngr = [[] * n for i in range(n)]\r\nvisited = [False] * n\r\nprev = []\r\nprevP=[]\r\nrd=[0] * n\r\nst=[0] * n\r\nk=0\r\n\r\nfor i in range(n):\r\n    gr[i] = [int(t) for t in input().split()]\r\n\r\n         \r\ndef dfs(start):\r\n    prev.append(start)\r\n    visited[start] = True\r\n    for u in range(n):\r\n        if not visited[u] and gr[start][u]!=0:\r\n            st[u]=start\r\n            dfs(u)\r\n           \r\n\r\n            \r\ndfs(0)\r\n#print(*prev)\r\n#print(*prevP)\r\nfor i in range(n):\r\n    k=prev[i]\r\n    rd[k]=i\r\n\r\nfor i in range(n):\r\n    print(i+1,rd[i]+1) ",
         "0.0"
        ],
        [
         "28",
         "dfcd4c48-6f3f-4a53-a03f-e5abebfebdae",
         "n = int(input())\r\ngr = [[] * n for i in range(n)]\r\ninf=10**10\r\n\r\nfor i in range(n):\r\n    gr[i] = [int(t) for t in input().split()]\r\nverV,verW= map(int,input().split())\r\n\r\nfor i in range(n):\r\n    for j in range(n):\r\n        if (gr[i][j]==0)or(gr[i][j]==-1):\r\n            gr[i][j]=inf\r\ngr[verV-1][verV-1]=inf\r\ndef dijkstra(src):\r\n    # init\r\n    visited = []\r\n    distance = {src: 0}\r\n    node = list(range(len(gr[0])))\r\n    if src in node:\r\n        node.remove(src)\r\n        visited.append(src)\r\n    else:\r\n        return None\r\n    for i in node:\r\n        distance[i] = gr[src][i]\r\n    prefer = src\r\n    while node:\r\n        _distance = float('inf')\r\n        for i in visited:\r\n            for j in node:\r\n                if gr[i][j] > 0:\r\n                    if _distance > distance[i] + gr[i][j]:\r\n                        _distance = distance[j] = distance[i] + gr[i][j]\r\n                        prefer = j\r\n        visited.append(prefer)\r\n        node.remove(prefer)\r\n    return distance\r\n\r\n\r\ndistance = dijkstra(verV-1)\r\n#print(distance)\r\nif distance[verW-1]==inf:\r\n    print('NO')\r\nelse:\r\n    print(distance[verW-1])",
         "0.0"
        ],
        [
         "29",
         "04dd6eca-f83b-4028-a21a-4e09c9333c0a",
         "n=int(input())\r\ngr = [[] * n for i in range(n)]\r\nvisited = [False] * n\r\nQ = []\r\nQQ=[]\r\nQ3=[]\r\nst=[-1]*n\r\nSet=0\r\n\r\nfor i in range(n):\r\n    gr[i] = [int(t) for t in input().split()]\r\nverV,verW= map(int,input().split())\r\n\r\ndef BFS(start):\r\n    if start<len(Q):\r\n        v = Q[start]\r\n        for i in range(n): \r\n            if gr[v][i]>0:\r\n                if not visited[i]:\r\n                    Q.append(i)\r\n                    visited[i]=True\r\n                    st[i]=v\r\n        \r\n        BFS(start+1)\r\n\r\nverV-=1\r\nverW-=1\r\nQ.append(verV)\r\nvisited[verV]=True\r\nBFS(0)\r\nif st[verW]==-1:\r\n    if verV==verW:\r\n        print(0)\r\n        \r\n    else:\r\n        print('NO')\r\nelse:\r\n    QQ=[verW]\r\n    while st[verW]!=verV:\r\n        QQ.append(st[verW])\r\n        verW=st[verW]\r\n    QQ.append(st[verW])\r\n    QQ.reverse()   \r\n    for h in range(len(QQ)-1):\r\n        Set=Set+gr[QQ[h]][QQ[h+1]]\r\n    print(Set)",
         "0.0"
        ],
        [
         "30",
         "945dd62f-c5a3-4a5c-888f-d188a7c8cac3",
         "n = int(input())\r\ngr = [[] * n for i in range(n)]\r\ninf=10**10\r\n\r\nfor i in range(n):\r\n    gr[i] = [int(t) for t in input().split()]\r\nverV = int(input())\r\n\r\nfor i in range(n):\r\n    for j in range(n):\r\n        if (gr[i][j]==0)or(gr[i][j]==-1):\r\n            gr[i][j]=inf\r\ndef dijkstra(src):\r\n    visited = []\r\n    distance = {src: 0}\r\n    node = list(range(len(gr[0])))\r\n    if src in node:\r\n        node.remove(src)\r\n        visited.append(src)\r\n    else:\r\n        return None\r\n    for i in node:\r\n        distance[i] = gr[src][i]\r\n    prefer = src\r\n    while node:\r\n        _distance = float('inf')\r\n        for i in visited:\r\n            for j in node:\r\n                if gr[i][j] > 0:\r\n                    if _distance > distance[i] + gr[i][j]:\r\n                        _distance = distance[j] = distance[i] + gr[i][j]\r\n                        prefer = j\r\n        visited.append(prefer)\r\n        node.remove(prefer)\r\n    return distance\r\n\r\n\r\ndistance = dijkstra(verV-1)\r\n#print(distance)\r\nfor h in range(n):\r\n    if h!=verV-1:\r\n        if distance[h]==inf:\r\n            print(h+1,'NO')\r\n        else:    \r\n            print(h+1,distance[h])",
         "0.0"
        ],
        [
         "31",
         "413dddee-a132-48a9-9753-e5bef469b529",
         "n= int(input())\r\ngr = [[] * n for i in range(n)]\r\nvisited = [False] * n\r\nprev = []\r\nmaxprev=[]\r\nmaxlen=0\r\nk=[]\r\nfor i in range(n):\r\n    gr[i] = [int(t) for t in input().split()]\r\n\r\n       \r\n         \r\ndef dfs(start):\r\n   \r\n    prev.append(start+1)\r\n    visited[start] = True\r\n    for u in range(n):\r\n        if gr[start][u]==1:\r\n            if not visited[u]:\r\n                dfs(u)\r\n            \r\nfor i in range(n):\r\n    if not visited[i]:\r\n        prev = []\r\n        dfs(i)\r\n        #print(*prev)\r\n        if len(prev)>maxlen:\r\n            maxlen=len(prev)\r\n            maxprev=prev\r\n    \r\nprint(maxlen)\r\nprint(*maxprev)",
         "0.0"
        ],
        [
         "32",
         "e5673478-3dd1-49d0-b1ca-49dfa6304570",
         "n = int(input())\r\ngr = [[] * n for i in range(n)]\r\nvisited = [False] * n\r\nprev = []\r\nk=[]\r\nfor i in range(n):\r\n    gr[i] = [int(t) for t in input().split()]\r\n\r\n       \r\n         \r\ndef dfs(start,predstart):\r\n    prev.append(start+1)\r\n    visited[start] = True\r\n    for u in range(n):\r\n        if gr[start][u]==1:\r\n            if not visited[u]:\r\n                dfs(u,start)\r\n            else:\r\n                if u!=predstart:\r\n                    k.append(1)\r\n            \r\ndfs(0,0)\r\n\r\nif k!=[]:\r\n    print('YES')\r\nelse:\r\n    print('NO')",
         "0.0"
        ],
        [
         "33",
         "413dddee-a132-48a9-9753-e5bef469b529",
         "n= int(input())\r\ngr = [[] * n for i in range(n)]\r\nvisited = [False] * n\r\nprev = []\r\nmaxprev=[]\r\nmaxlen=0\r\nk=[]\r\nfor i in range(n):\r\n    gr[i] = [int(t) for t in input().split()]\r\n     \r\ndef dfs(start):\r\n   \r\n    prev.append(start+1)\r\n    visited[start] = True\r\n    for u in range(n):\r\n        if gr[start][u]==1:\r\n            if not visited[u]:\r\n                dfs(u)\r\n            \r\nfor i in range(n):\r\n    if not visited[i]:\r\n        prev = []\r\n        dfs(i)\r\n        #print(*prev)\r\n        if len(prev)>maxlen:\r\n            maxlen=len(prev)\r\n            maxprev=prev\r\n    \r\nprint(maxlen)\r\nprint(*maxprev)",
         "0.0"
        ],
        [
         "34",
         "945dd62f-c5a3-4a5c-888f-d188a7c8cac3",
         "n = int(input())\r\ngr = [[] * n for i in range(n)]\r\ninf=10**10\r\n\r\nfor i in range(n):\r\n    gr[i] = [int(t) for t in input().split()]\r\nverV = int(input())\r\n\r\nfor i in range(n):\r\n    for j in range(n):\r\n        if (gr[i][j]==0)or(gr[i][j]==-1):\r\n            gr[i][j]=inf\r\ngr[verV][verV]=0\r\n\r\ndef dijkstra(src):\r\n    visited = []\r\n    distance = {src: 0}\r\n    node = list(range(len(gr[0])))\r\n    if src in node:\r\n        node.remove(src)\r\n        visited.append(src)\r\n    else:\r\n        return None\r\n    for i in node:\r\n        distance[i] = gr[src][i]\r\n    prefer = src\r\n    while node:\r\n        _distance = float('inf')\r\n        for i in visited:\r\n            for j in node:\r\n                if gr[i][j] > 0:\r\n                    if _distance > distance[i] + gr[i][j]:\r\n                        _distance = distance[j] = distance[i] + gr[i][j]\r\n                        prefer = j\r\n        visited.append(prefer)\r\n        node.remove(prefer)\r\n    return distance\r\n\r\n\r\ndistance = dijkstra(verV-1)\r\n#print(distance)\r\nfor h in range(n):\r\n    if h!=verV-1:\r\n        if distance[h]==inf:\r\n            print(h+1,'NO')\r\n        else:    \r\n            print(h+1,distance[h])",
         "0.0"
        ],
        [
         "35",
         "945dd62f-c5a3-4a5c-888f-d188a7c8cac3",
         "n = int(input())\r\ngr = [[] * n for i in range(n)]\r\ninf=10**10\r\n\r\nfor i in range(n):\r\n    gr[i] = [int(t) for t in input().split()]\r\nverV = int(input())\r\n\r\nfor i in range(n):\r\n    for j in range(n):\r\n        if (gr[i][j]==0)or(gr[i][j]==-1):\r\n            gr[i][j]=inf\r\n\r\ndef dijkstra(src):\r\n    visited = []\r\n    distance = {src: 0}\r\n    node = list(range(len(gr[0])))\r\n    if src in node:\r\n        node.remove(src)\r\n        visited.append(src)\r\n    else:\r\n        return None\r\n    for i in node:\r\n        distance[i] = gr[src][i]\r\n    prefer = src\r\n    while node:\r\n        _distance = float('inf')\r\n        for i in visited:\r\n            for j in node:\r\n                if gr[i][j] > 0:\r\n                    if _distance > distance[i] + gr[i][j]:\r\n                        _distance = distance[j] = distance[i] + gr[i][j]\r\n                        prefer = j\r\n        visited.append(prefer)\r\n        node.remove(prefer)\r\n    return distance\r\n\r\n\r\ndistance = dijkstra(verV-1)\r\n#print(distance)\r\nfor h in range(n):\r\n    if h!=verV-1:\r\n        if distance[h]==inf:\r\n            print(h+1,'NO')\r\n        else:    \r\n            print(h+1,distance[h])",
         "0.0"
        ],
        [
         "36",
         "7880445a-3568-4939-8f55-d80530b696c0",
         "n,verV= map(int,input().split())\r\ngr = [[] * n for i in range(n)]\r\nvisited = [False] * n\r\nQ = []\r\nQ2=[]\r\nQ3=[]\r\nst=[-1]*n\r\nQstart=0\r\n\r\nfor i in range(n):\r\n    gr[i] = [int(t) for t in input().split()]\r\n\r\n\r\ndef BFS(start):\r\n    if start<len(Q):\r\n        v = Q[start]\r\n        for i in range(n): \r\n            if gr[v][i]==1:\r\n                if not visited[i]:\r\n                    Q.append(i)\r\n                    visited[i]=True\r\n                    st[i]=v\r\n        \r\n        BFS(start+1)\r\n\r\nQ.append(verV-1)\r\nvisited[verV-1]=True\r\nBFS(0)\r\n\r\nm=int(input())\r\n\r\nfor i in range(m):\r\n    verW=int(input())-1\r\n    \r\n    if st[verW]==-1:\r\n        if verV-1==verW:\r\n            print(verV)\r\n        else:\r\n            print('-1')\r\n    else:\r\n        QQ=[verW+1]\r\n        while st[verW]!=verV-1:\r\n            QQ.append(st[verW]+1)\r\n            verW=st[verW]\r\n        QQ.append(st[verW]+1)\r\n        QQ.reverse()\r\n        print(*QQ)",
         "0.0"
        ],
        [
         "37",
         "993d5917-3656-42be-87ec-bbde4aff5607",
         "n,m = map(int,input().split())\r\ngr = [[] * n for i in range(n)]\r\nvisited = [False] * n\r\nprev = []\r\nk=[]\r\nfor i in range(n):\r\n    gr[i] = [int(t) for t in input().split()]\r\n       \r\n         \r\ndef dfs(start):\r\n   \r\n    if start==w-1:\r\n        k.append(1)\r\n    visited[start] = True\r\n    for u in range(n):\r\n        if gr[start][u]==1:\r\n            if not visited[u]:\r\n                dfs(u)\r\n            \r\nfor t in range(m):\r\n    k=[]\r\n    visited = [False] * n\r\n   \r\n    v,w = map(int,input().split())\r\n    dfs(v-1)\r\n    \r\n    if k!=[]:\r\n        print('YES')\r\n    else:\r\n        print('NO')",
         "0.0"
        ],
        [
         "38",
         "993d5917-3656-42be-87ec-bbde4aff5607",
         "n,m = map(int,input().split())\r\ngr = [[] * n for i in range(n)]\r\nvisited = [False] * n\r\nprev = []\r\nk=[]\r\nfor i in range(n):\r\n    gr[i] = [int(t) for t in input().split()]\r\n\r\n       \r\n         \r\ndef dfs(start):\r\n   \r\n    if start==w-1:\r\n        k.append(1)\r\n    visited[start] = True\r\n    for u in range(n):\r\n        if gr[start][u]==1:\r\n            if not visited[u]:\r\n                dfs(u)\r\n            \r\nfor t in range(m):\r\n    k=[]\r\n    visited = [False] * n\r\n   \r\n    v,w = map(int,input().split())\r\n    dfs(v-1)\r\n    \r\n    if k!=[]:\r\n        print('YES')\r\n    else:\r\n        print('NO')",
         "0.0"
        ],
        [
         "39",
         "35bc693b-1917-49ae-ad4d-bed0d5a22583",
         "n = int(input())        \r\ngr = [[] * n for i in range(n)]\r\ngr2 = [[0] * n for i in range(n)]\r\nfor i in range(n):\r\n    gr[i] = [int(t) for t in input().split()]\r\n\r\nfor i in range(n):\r\n    for j in range(n):\r\n        if i==j:\r\n            gr[i][j]=1\r\nfor i in range(n):\r\n    for j in range(n):\r\n        for z  in range(n):\r\n            if gr2[i][j]==00:\r\n               gr2[i][j]=gr[i][z]*gr[z][j]\r\nfor i in range(n):\r\n    for j in range(n):\r\n        if i==j:\r\n            gr2[i][j]=0  \r\n               \r\nfor row in gr2:\r\n    print(' '.join(map(str, row)))",
         "0.0"
        ],
        [
         "40",
         "79312fbf-4cd4-4453-989e-43f3cae93d51",
         "n = int(input())        \r\ngr = [[] * n for i in range(n)]\r\ngr2 = [[0] * n for i in range(n)]\r\ngr3 = [[0] * n for i in range(n)]\r\nfor i in range(n):\r\n    gr[i] = [int(t) for t in input().split()]\r\n\r\nfor i in range(n):\r\n    for j in range(n):\r\n        for z  in range(n):\r\n            if gr2[i][j]==0:\r\n                gr2[i][j]=gr[i][z]*gr[z][j]\r\nfor i in range(n):\r\n    for j in range(n):\r\n        for z  in range(n):\r\n            if gr3[i][j]==0:\r\n                gr3[i][j]=gr2[i][z]*gr[z][j]\r\n\r\nfor i in range(n):\r\n    for j in range(n):\r\n        if i==j:\r\n            gr3[i][j]=0  \r\n               \r\nfor i in range(n):\r\n    for j in range(n):\r\n        if gr3[i][j]==1:\r\n            print(i+1,j+1)",
         "0.0"
        ],
        [
         "41",
         "79312fbf-4cd4-4453-989e-43f3cae93d51",
         "n = int(input())        \r\ngr = [[] * n for i in range(n)]\r\ngr2 = [[0] * n for i in range(n)]\r\ngr3 = [[0] * n for i in range(n)]\r\nk=1\r\nfor i in range(n):\r\n    gr[i] = [int(t) for t in input().split()]\r\n\r\nfor i in range(n):\r\n    for j in range(n):\r\n        if i==j:\r\n            gr[i][j]=0\r\n\r\nfor i in range(n):\r\n    for j in range(n):\r\n        for z  in range(n):\r\n            if gr2[i][j]==0:\r\n                gr2[i][j]=gr[i][z]*gr[z][j]\r\nfor i in range(n):\r\n    for j in range(n):\r\n        for z  in range(n):\r\n            if gr3[i][j]==0:\r\n                gr3[i][j]=gr2[i][z]*gr[z][j]\r\n\r\nfor i in range(n):\r\n    for j in range(n):\r\n        if i==j:\r\n            gr3[i][j]=0  \r\n               \r\nfor i in range(n):\r\n    for j in range(n):\r\n        if gr3[i][j]==1:\r\n            k=0\r\n            print(i+1,j+1)\r\nif k==1:\r\n    print('NO')",
         "0.0"
        ],
        [
         "42",
         "79312fbf-4cd4-4453-989e-43f3cae93d51",
         "n = int(input())        \r\ngr = [[] * n for i in range(n)]\r\ngr2 = [[0] * n for i in range(n)]\r\ngr3 = [[0] * n for i in range(n)]\r\nfor i in range(n):\r\n    gr[i] = [int(t) for t in input().split()]\r\n\r\nfor i in range(n):\r\n    for j in range(n):\r\n        if i==j:\r\n            gr[i][j]=0\r\n\r\nfor i in range(n):\r\n    for j in range(n):\r\n        for z  in range(n):\r\n            if gr2[i][j]==0:\r\n                gr2[i][j]=gr[i][z]*gr[z][j]\r\nfor i in range(n):\r\n    for j in range(n):\r\n        for z  in range(n):\r\n            if gr3[i][j]==0:\r\n                gr3[i][j]=gr2[i][z]*gr[z][j]\r\n\r\nfor i in range(n):\r\n    for j in range(n):\r\n        if i==j:\r\n            gr3[i][j]=0  \r\n               \r\nfor i in range(n):\r\n    for j in range(n):\r\n        if gr3[i][j]==1:\r\n            print(i+1,j+1)",
         "0.0"
        ],
        [
         "43",
         "6c718c88-bb90-4a37-ae7c-908916a5957e",
         "n = int(input())        \r\ngr = [[] * n for i in range(n)]\r\ngr2 = [[0] * n for i in range(n)]\r\nfor i in range(n):\r\n    gr[i] = [int(t) for t in input().split()]\r\n\r\nfor i in range(n):\r\n    for j in range(n):\r\n        if i==j:\r\n            gr[i][j]=1\r\ngr2=gr\r\nfor i in range(n):\r\n    for j in range(n):\r\n        for z  in range(n):\r\n            if gr2[i][j]==0:\r\n                gr2[i][j]=gr2[i][z]*gr[z][j]\r\nfor i in range(n):\r\n    for j in range(n):\r\n        if i==j:\r\n            gr2[i][j]=0  \r\n               \r\nfor row in gr2:\r\n    print(' '.join(map(str, row)))",
         "0.0"
        ],
        [
         "44",
         "6c718c88-bb90-4a37-ae7c-908916a5957e",
         "n = int(input())        \r\ngr = [[] * n for i in range(n)]\r\ngr2 = [[0] * n for i in range(n)]\r\nfor i in range(n):\r\n    gr[i] = [int(t) for t in input().split()]\r\n\r\nfor i in range(n):\r\n    for j in range(n):\r\n        if i==j:\r\n            gr[i][j]=1\r\n       \r\nfor i in range(n):\r\n    for s in range(n):\r\n        for t in range(n):\r\n            if gr[s][i] and gr[i][t]:\r\n                gr[s][t]=1               \r\n               \r\n\r\nfor i in range(n):\r\n    for j in range(n):\r\n        if i==j:\r\n            gr[i][j]=0              \r\n       \r\nfor row in gr:\r\n    print(' '.join(map(str, row)))",
         "0.0"
        ],
        [
         "45",
         "993d5917-3656-42be-87ec-bbde4aff5607",
         "n,m=map(int,input().split())       \r\ngr = [[] * n for i in range(n)]\r\n\r\nfor i in range(n):\r\n    gr[i] = [int(t) for t in input().split()]\r\n\r\nfor i in range(n):\r\n    for j in range(n):\r\n        if i==j:\r\n            gr[i][j]=1\r\n       \r\nfor i in range(n):\r\n    for s in range(n):\r\n        for t in range(n):\r\n            if gr[s][i] and gr[i][t]:\r\n                gr[s][t]=1            \r\n\r\nfor k in range(m):\r\n    x1,x2=map(int,input().split())\r\n    if gr[x1-1][x2-1]==1:\r\n        print('YES')\r\n    else:\r\n        print('NO')",
         "0.0"
        ],
        [
         "46",
         "35bc693b-1917-49ae-ad4d-bed0d5a22583",
         "n = int(input())        \r\ngr = [[] * n for i in range(n)]\r\ngr2 = [[0] * n for i in range(n)]\r\nfor i in range(n):\r\n    gr[i] = [int(t) for t in input().split()]\r\n\r\nfor i in range(n):\r\n    for j in range(n):\r\n        if i==j:\r\n            gr[i][j]=1\r\nfor i in range(n):\r\n    for j in range(n):\r\n        for z  in range(n):\r\n            if gr2[i][j]==0:\r\n                gr2[i][j]=gr[i][z]*gr[z][j]\r\nfor i in range(n):\r\n    for j in range(n):\r\n        if i==j:\r\n            gr2[i][j]=0  \r\n               \r\nfor row in gr2:\r\n    print(' '.join(map(str, row)))",
         "0.0"
        ],
        [
         "47",
         "993d5917-3656-42be-87ec-bbde4aff5607",
         "n,m=map(int,input().split())       \r\ngr = [[] * n for i in range(n)]\r\n\r\nfor i in range(n):\r\n    gr[i] = [int(t) for t in input().split()]\r\n\r\nfor i in range(n):\r\n    for j in range(n):\r\n        if i==j:\r\n            gr[i][j]=1\r\n       \r\nfor i in range(n):\r\n    for s in range(n):\r\n        for t in range(n):\r\n            if gr[s][i] and gr[i][t]:\r\n                gr[s][t]=1               \r\n               \r\n\r\nfor k in range(m):\r\n    x1,x2=map(int,input().split())\r\n    if gr[x1-1][x2-1]==1:\r\n        print('YES')\r\n    else:\r\n        print('NO')",
         "0.0"
        ],
        [
         "48",
         "7762ce71-62d8-4d9a-b192-d363f5ffc725",
         "n = int(input())        \r\ngr = [[] * n for i in range(n)]\r\ngr2 = [[0] * n for i in range(n)]\r\nfor i in range(n):\r\n    gr[i] = [int(t) for t in input().split()]\r\n\r\nfor i in range(n):\r\n    for j in range(n):\r\n        if gr[i][j]==1:\r\n            gr2[j][i]=1\r\n               \r\n\r\n\r\nfor row in gr2:\r\n    print(' '.join(map(str, row)))\r\n",
         "0.0"
        ],
        [
         "49",
         "519d49f4-2044-4bec-8164-97ef458dc2c8",
         "n = int(input())        \r\ngr = [[] * n for i in range(n)]\r\ngr2 = [[0] * n for i in range(n)]\r\nfor i in range(n):\r\n    gr[i] = [int(t) for t in input().split()]\r\n\r\nfor i in range(n):\r\n    for j in range(n):\r\n        if i!=j:\r\n            if gr[i][j]==1:\r\n                gr2[j][i]=0\r\n            if gr[i][j]==0:\r\n                gr2[j][i]=1\r\n               \r\n\r\n\r\nfor row in gr2:\r\n    print(' '.join(map(str, row)))",
         "0.0"
        ]
       ],
       "shape": {
        "columns": 3,
        "rows": 5951
       }
      },
      "text/html": [
       "<div>\n",
       "<style scoped>\n",
       "    .dataframe tbody tr th:only-of-type {\n",
       "        vertical-align: middle;\n",
       "    }\n",
       "\n",
       "    .dataframe tbody tr th {\n",
       "        vertical-align: top;\n",
       "    }\n",
       "\n",
       "    .dataframe thead th {\n",
       "        text-align: right;\n",
       "    }\n",
       "</style>\n",
       "<table border=\"1\" class=\"dataframe\">\n",
       "  <thead>\n",
       "    <tr style=\"text-align: right;\">\n",
       "      <th></th>\n",
       "      <th>task</th>\n",
       "      <th>code</th>\n",
       "      <th>generated</th>\n",
       "    </tr>\n",
       "  </thead>\n",
       "  <tbody>\n",
       "    <tr>\n",
       "      <th>0</th>\n",
       "      <td>4659a273-9c89-4ff8-a1bd-6d0ae87e9915</td>\n",
       "      <td>x=int (input())\\r\\nx=x-2\\r\\nif x%10==1 and x!=...</td>\n",
       "      <td>0.0</td>\n",
       "    </tr>\n",
       "    <tr>\n",
       "      <th>1</th>\n",
       "      <td>84118453-37c4-4256-a8f0-5dc2707d4e35</td>\n",
       "      <td>a=str(bin(int(input())))\\r\\nprint(a[2:])</td>\n",
       "      <td>0.0</td>\n",
       "    </tr>\n",
       "    <tr>\n",
       "      <th>2</th>\n",
       "      <td>b8c265d0-999d-49e2-a5fd-eed95708bf97</td>\n",
       "      <td>n = int(input())\\r\\n\\r\\ngr = [[] * n for i in ...</td>\n",
       "      <td>0.0</td>\n",
       "    </tr>\n",
       "    <tr>\n",
       "      <th>3</th>\n",
       "      <td>84118453-37c4-4256-a8f0-5dc2707d4e35</td>\n",
       "      <td>a=str(bin(int(input())))\\r\\nprint(a[2:])</td>\n",
       "      <td>0.0</td>\n",
       "    </tr>\n",
       "    <tr>\n",
       "      <th>4</th>\n",
       "      <td>84118453-37c4-4256-a8f0-5dc2707d4e35</td>\n",
       "      <td>a=str(bin(int(input())))\\r\\nprint(a[2:])</td>\n",
       "      <td>0.0</td>\n",
       "    </tr>\n",
       "    <tr>\n",
       "      <th>...</th>\n",
       "      <td>...</td>\n",
       "      <td>...</td>\n",
       "      <td>...</td>\n",
       "    </tr>\n",
       "    <tr>\n",
       "      <th>5946</th>\n",
       "      <td>49c03922-c57e-464a-8191-9ebef2615808</td>\n",
       "      <td>a, b, c = map(int, input().split())\\nif c &gt; a ...</td>\n",
       "      <td>0.0</td>\n",
       "    </tr>\n",
       "    <tr>\n",
       "      <th>5947</th>\n",
       "      <td>2173e6e8-cca6-47c7-8ef6-ea93d3e736f4</td>\n",
       "      <td>n,*a=map(int,open(0).read().split())\\na=sorted...</td>\n",
       "      <td>0.0</td>\n",
       "    </tr>\n",
       "    <tr>\n",
       "      <th>5948</th>\n",
       "      <td>2a42d873-b1fe-4256-a488-91db4eaa8d9f</td>\n",
       "      <td>n=list(input())\\nd=sorted(list(input()))\\nif m...</td>\n",
       "      <td>0.0</td>\n",
       "    </tr>\n",
       "    <tr>\n",
       "      <th>5949</th>\n",
       "      <td>48f237db-e593-4be6-b3f9-10757a1d07ec</td>\n",
       "      <td>a=int(input())\\nprint(a)</td>\n",
       "      <td>0.0</td>\n",
       "    </tr>\n",
       "    <tr>\n",
       "      <th>5950</th>\n",
       "      <td>190516a0-6ed3-4c42-9f36-dc481a3adb70</td>\n",
       "      <td>a=int(input())\\nb=int(input())\\nprint(a+b)</td>\n",
       "      <td>0.0</td>\n",
       "    </tr>\n",
       "  </tbody>\n",
       "</table>\n",
       "<p>5951 rows × 3 columns</p>\n",
       "</div>"
      ],
      "text/plain": [
       "                                      task  \\\n",
       "0     4659a273-9c89-4ff8-a1bd-6d0ae87e9915   \n",
       "1     84118453-37c4-4256-a8f0-5dc2707d4e35   \n",
       "2     b8c265d0-999d-49e2-a5fd-eed95708bf97   \n",
       "3     84118453-37c4-4256-a8f0-5dc2707d4e35   \n",
       "4     84118453-37c4-4256-a8f0-5dc2707d4e35   \n",
       "...                                    ...   \n",
       "5946  49c03922-c57e-464a-8191-9ebef2615808   \n",
       "5947  2173e6e8-cca6-47c7-8ef6-ea93d3e736f4   \n",
       "5948  2a42d873-b1fe-4256-a488-91db4eaa8d9f   \n",
       "5949  48f237db-e593-4be6-b3f9-10757a1d07ec   \n",
       "5950  190516a0-6ed3-4c42-9f36-dc481a3adb70   \n",
       "\n",
       "                                                   code  generated  \n",
       "0     x=int (input())\\r\\nx=x-2\\r\\nif x%10==1 and x!=...        0.0  \n",
       "1              a=str(bin(int(input())))\\r\\nprint(a[2:])        0.0  \n",
       "2     n = int(input())\\r\\n\\r\\ngr = [[] * n for i in ...        0.0  \n",
       "3              a=str(bin(int(input())))\\r\\nprint(a[2:])        0.0  \n",
       "4              a=str(bin(int(input())))\\r\\nprint(a[2:])        0.0  \n",
       "...                                                 ...        ...  \n",
       "5946  a, b, c = map(int, input().split())\\nif c > a ...        0.0  \n",
       "5947  n,*a=map(int,open(0).read().split())\\na=sorted...        0.0  \n",
       "5948  n=list(input())\\nd=sorted(list(input()))\\nif m...        0.0  \n",
       "5949                           a=int(input())\\nprint(a)        0.0  \n",
       "5950         a=int(input())\\nb=int(input())\\nprint(a+b)        0.0  \n",
       "\n",
       "[5951 rows x 3 columns]"
      ]
     },
     "execution_count": 4,
     "metadata": {},
     "output_type": "execute_result"
    }
   ],
   "source": [
    "human_parsed = human_written[[\"task\", \"programText\"]].dropna()\n",
    "human_parsed.columns = [\"task\", \"code\"]\n",
    "human_parsed[\"code\"] = human_parsed[\"code\"].apply(\n",
    "    lambda x: x.encode(\"utf-8\").decode(\"unicode_escape\") if isinstance(x, str) else x\n",
    ")\n",
    "human_parsed[\"generated\"] = 0.0\n",
    "human_parsed"
   ]
  },
  {
   "cell_type": "code",
   "execution_count": 5,
   "id": "e496851e",
   "metadata": {},
   "outputs": [
    {
     "data": {
      "application/vnd.microsoft.datawrangler.viewer.v0+json": {
       "columns": [
        {
         "name": "index",
         "rawType": "int64",
         "type": "integer"
        },
        {
         "name": "task",
         "rawType": "object",
         "type": "string"
        },
        {
         "name": "code",
         "rawType": "object",
         "type": "string"
        },
        {
         "name": "generated",
         "rawType": "float64",
         "type": "float"
        }
       ],
       "conversionMethod": "pd.DataFrame",
       "ref": "e791f7a8-c4cb-4090-909a-e79fac41deef",
       "rows": [
        [
         "0",
         "c0df7d49-26f5-451c-b44a-1e0bca60bca5",
         "\r\nn = 1\r\nwhile n:\r\n    n = int(input())\r\n    if n:\r\n        print(n+1)\r\n        break\r\n",
         "1.0"
        ],
        [
         "1",
         "c0df7d49-26f5-451c-b44a-1e0bca60bca5",
         "\r\ncount = 0\r\nnum = input()\r\nwhile num != '0':\r\n    count += 1\r\n    num = input()\r\nprint(count)\r\n",
         "1.0"
        ],
        [
         "2",
         "c0df7d49-26f5-451c-b44a-1e0bca60bca5",
         "sequence = []\r\nwhile True:\r\n    num = int(input())\r\n    if num == 0:\r\n        break\r\n    sequence.append(num)\r\n\r\nprint(len(sequence))",
         "1.0"
        ],
        [
         "3",
         "4e5b21c0-e86f-4eac-82b6-1a0d00ae4199",
         "a=[]\r\nwhile True:\r\n   b=input()\r\n   if b=='0':\r\n     break\r\n   a+=[int(b)]\r\nprint(a.count(max(a)))",
         "1.0"
        ],
        [
         "4",
         "4e5b21c0-e86f-4eac-82b6-1a0d00ae4199",
         "\r\nmax_val = float('-inf')\r\ncount = 0\r\n\r\nwhile True:\r\n    num = int(input())\r\n    if num == 0:\r\n        break\r\n    if num > max_val:\r\n        max_val = num\r\n        count = 1\r\n    elif num == max_val:\r\n        count += 1\r\n\r\nprint(count)\r\n",
         "1.0"
        ],
        [
         "5",
         "4e5b21c0-e86f-4eac-82b6-1a0d00ae4199",
         "max_num = 0\r\ncount = 0\r\n\r\nnum = int(input())\r\nwhile num != 0:\r\n    if num > max_num:\r\n        max_num = num\r\n        count = 1\r\n    elif num == max_num:\r\n        count += 1\r\n    num = int(input())\r\n\r\nprint(count)",
         "1.0"
        ],
        [
         "6",
         "875ec0a5-0a8e-468b-b0f0-1b32c0337354",
         "\r\nn = int(input())\r\na = list(map(int, input().split()))\r\nans = sum(i >= 0 for i in a)\r\nprint(ans)\r\n",
         "1.0"
        ],
        [
         "7",
         "875ec0a5-0a8e-468b-b0f0-1b32c0337354",
         "\r\nn = int(input())\r\narr = list(map(int, input().split()))\r\ncount = 0\r\nfor num in arr:\r\n    if num >= 0:\r\n        count += 1\r\nprint(count)\r\n",
         "1.0"
        ],
        [
         "8",
         "875ec0a5-0a8e-468b-b0f0-1b32c0337354",
         "def solution():\r\n    n = int(input())\r\n    arr = list(map(int, input().split()))\r\n    count = 0\r\n    for num in arr:\r\n        if num >= 0:\r\n            count += 1\r\n    print(count)\r\n\r\nsolution()",
         "1.0"
        ],
        [
         "9",
         "35d772a5-7770-4a91-9118-ad11e4ae7feb",
         "\r\nn = int(input())\r\narr = list(map(int, input().split()))\r\ncount = 0\r\nfor i in range(1, n):\r\n    if arr[i] > arr[i - 1]:\r\n        count += 1\r\nprint(count)\r\n",
         "1.0"
        ],
        [
         "10",
         "35d772a5-7770-4a91-9118-ad11e4ae7feb",
         "\r\nn = int(input())\r\narr = list(map(int, input().split()))\r\ncount = 0\r\nfor i in range(1, n):\r\n    if arr[i] > arr[i-1]:\r\n        count += 1\r\nprint(count)\r\n",
         "1.0"
        ],
        [
         "11",
         "35d772a5-7770-4a91-9118-ad11e4ae7feb",
         "def count_larger_than_previous():\r\n    n = int(input())\r\n    arr = list(map(int, input().split()))\r\n    count = 0\r\n    for i in range(1, n):\r\n        if arr[i] > arr[i - 1]:\r\n            count += 1\r\n    print(count)\r\n\r\ncount_larger_than_previous()",
         "1.0"
        ],
        [
         "12",
         "6671bab8-0e57-4f15-bc39-c933a2495f50",
         "\r\nn = int(input())\r\nnums = list(map(int, input().split()))\r\nfor i in range(0, n - 1, 2):\r\n    nums[i], nums[i+1] = nums[i+1], nums[i]\r\nprint(*nums)\r\n",
         "1.0"
        ],
        [
         "13",
         "6671bab8-0e57-4f15-bc39-c933a2495f50",
         "\r\ndef rearrange(arr, n):\r\n    for i in range(n//2):\r\n        arr[i], arr[i+n//2] = arr[i+n//2], arr[i]\r\n    if n % 2 == 1:\r\n        print(arr[-1])\r\n    for i in range(len(arr)-1):\r\n        print(arr[i], end=' ')\r\n    print()\r\n\r\nn = int(input())\r\narr = list(map(int, input().split()))\r\nrearrange(arr, n)\r\n",
         "1.0"
        ],
        [
         "14",
         "6671bab8-0e57-4f15-bc39-c933a2495f50",
         "def rearrange_neighbors(arr):\r\n    for i in range(0, len(arr) - 1, 2):\r\n        arr[i], arr[i + 1] = arr[i + 1], arr[i]\r\n    return arr\r\n\r\nn = int(input())\r\narr = list(map(int, input().split()))\r\nresult = rearrange_neighbors(arr)\r\nprint(*result)",
         "1.0"
        ],
        [
         "15",
         "96848df3-0772-4855-bf4c-6fe2a471754f",
         "\r\nn = int(input())\r\narr = list(map(int, input().split()))\r\nexchanges = 0\r\nfor i in range(n):\r\n  for j in range(n - i - 1):\r\n    if arr[j] > arr[j + 1]:\r\n      arr[j], arr[j + 1] = arr[j + 1], arr[j]\r\n      exchanges += 1\r\nprint(exchanges)\r\n",
         "1.0"
        ],
        [
         "16",
         "96848df3-0772-4855-bf4c-6fe2a471754f",
         "\r\ndef bubble_sort(arr):\r\n    n = len(arr)\r\n    count = 0\r\n    for i in range(n):\r\n        swapped = False\r\n        for j in range(0, n - i - 1):\r\n            if arr[j] > arr[j + 1]:\r\n                arr[j], arr[j + 1] = arr[j + 1], arr[j]\r\n                swapped = True\r\n                count += 1\r\n        if not swapped:\r\n            break\r\n    return count\r\n\r\nn = int(input())\r\narr = list(map(int, input().split()))\r\nprint(bubble_sort(arr))\r\n",
         "1.0"
        ],
        [
         "17",
         "96848df3-0772-4855-bf4c-6fe2a471754f",
         "def bubble_sort_exchanges(arr):\r\n    n = len(arr)\r\n    exchanges = 0\r\n    for i in range(n - 1):\r\n        for j in range(n - i - 1):\r\n            if arr[j] > arr[j + 1]:\r\n                arr[j], arr[j + 1] = arr[j + 1], arr[j]\r\n                exchanges += 1\r\n    return exchanges\r\n\r\nn = int(input())\r\narr = list(map(int, input().split()))\r\n\r\nprint(bubble_sort_exchanges(arr))",
         "1.0"
        ],
        [
         "18",
         "33eb8e68-cf75-4892-b87b-97ceeee27d04",
         "\r\nx, y = map(int, input().split())\r\nif x * y > 0:\r\n    print(x + y)\r\nelif x * y < 0:\r\n    print(x * y)\r\nelse:\r\n    print(0)\r\n",
         "1.0"
        ],
        [
         "19",
         "33eb8e68-cf75-4892-b87b-97ceeee27d04",
         "\r\na, b = map(int, input().split())\r\nsign_a = a // abs(a)\r\nsign_b = b // abs(b)\r\n\r\nif sign_a == sign_b:\r\n    print(abs(a + b))\r\nelif sign_a != sign_b:\r\n    print(abs(a * b))\r\nelse:\r\n    print(abs(a - b))\r\n",
         "1.0"
        ],
        [
         "20",
         "33eb8e68-cf75-4892-b87b-97ceeee27d04",
         "Here's the Python code that solves the given task without any external imports:\r\n\r\ndef main():\r\n    a, b = map(int, input().split())\r\n    if a == b:\r\n        print(a - b)\r\n    elif a * b > 0:\r\n        print(a + b)\r\n    else:\r\n        print(a * b)\r\n\r\nif __name__ == \"__main__\":\r\n    main()",
         "1.0"
        ],
        [
         "21",
         "6b1e0963-bf0b-405e-b555-435a6225619c",
         "\r\ndef func():\r\n    x = int(input())\r\n    y=len(str(x))\r\n    z=0\r\n    while x:\r\n        z+=x%10\r\n        x=x//10\r\n    if y%2==0:\r\n        f=0\r\n    else:\r\n        f=1\r\n    print(y,f,z)\r\nfunc()\r\n",
         "1.0"
        ],
        [
         "22",
         "6b1e0963-bf0b-405e-b555-435a6225619c",
         "\r\ndef sum_digits(n):\r\n    total = 0\r\n    while n > 0:\r\n        total += n % 10\r\n        n //= 10\r\n    return total\r\n\r\nnumber = input()\r\ndigits = len(number)\r\nparity = int(number % 2)\r\nsum_dig = sum_digits(int(number))\r\nprint(digits, parity, sum_dig)\r\n",
         "1.0"
        ],
        [
         "23",
         "6b1e0963-bf0b-405e-b555-435a6225619c",
         "def main():\r\n    n = int(input())\r\n    digits = 0\r\n    odd = 0\r\n    digit_sum = 0\r\n\r\n    while n > 0:\r\n        digit = n % 10\r\n        digits += 1\r\n        digit_sum += digit\r\n        n //= 10\r\n\r\n    if digit_sum % 2 == 1:\r\n        odd = 1\r\n\r\n    print(digits, odd, digit_sum)\r\n\r\nif __name__ == \"__main__\":\r\n    main()",
         "1.0"
        ],
        [
         "24",
         "22e720bb-1b6c-470d-bb7b-da0de5a83f45",
         "\r\nx1, y1, x2, y2, x3, y3 = list(map(float, input().split()))\r\n\r\ndef dist(x1, y1, x2, y2):\r\n    return ((x2 - x1) ** 2 + (y2 - y1) ** 2) ** 0.5\r\n\r\na = dist(x1, y1, x2, y2)\r\nb = dist(x2, y2, x3, y3)\r\nc = dist(x1, y1, x3, y3)\r\n\r\np = (a + b + c) / 2\r\n\r\nprint(round(((p - a) * (p - b) * (p - c) / p)**0.5, 5))\r\n",
         "1.0"
        ],
        [
         "25",
         "22e720bb-1b6c-470d-bb7b-da0de5a83f45",
         "\r\ndef area_triangle(x1, y1, x2, y2, x3, y3):\r\n    s = (x1*(y2-y3) + x2*(y3-y1) + x3*(y1-y2)) / 2\r\n    return round(s**2 * (1 / (s - x1)**2 + 1 / (s - x2)**2 + 1 / (s - x3)**2), 5)\r\n\r\ninput_data = list(map(int, input().split()))\r\nprint(area_triangle(input_data[0], input_data[1], input_data[2], input_data[3], input_data[4], input_data[5]))\r\n",
         "1.0"
        ],
        [
         "26",
         "22e720bb-1b6c-470d-bb7b-da0de5a83f45",
         "x1, y1, x2, y2, x3, y3 = map(float, input().split())\r\n\r\narea = abs((x1 * (y2 - y3) + x2 * (y3 - y1) + x3 * (y1 - y2)) / 2)\r\n\r\nprint(f\"{area:.5f}\")",
         "1.0"
        ],
        [
         "27",
         "16305713-d2dc-4ab1-8bbd-107594c55519",
         "\r\na = int(input())\r\nb = int(input())\r\nc = int(input())\r\n\r\nif a + b <= c or a + c <= b or b + c <= a:\r\n  print('impossible')\r\nelif a**2 + b**2 == c**2 or a**2 + c**2 == b**2 or b**2 + c**2 == a**2:\r\n  print('right')\r\nelif a**2 + b**2 > c**2 and a**2 + c**2 > b**2 and b**2 + c**2 > a**2:\r\n  print('acute')\r\nelse:\r\n  print('obtuse')\r\n",
         "1.0"
        ],
        [
         "28",
         "16305713-d2dc-4ab1-8bbd-107594c55519",
         "\r\na = int(input())\r\nb = int(input())\r\nc = int(input())\r\n\r\nif a**2 + b**2 == c**2 or b**2 + c**2 == a**2 or c**2 + a**2 == b**2:\r\n print(\"right\")\r\nelif a**2 + b**2 > c**2 and a**2 + c**2 > b**2 and b**2 + c**2 > a**2:\r\n print(\"acute\")\r\nelif a**2 + b**2 > c**2 and a**2 + c**2 < b**2 or b**2 + c**2 < a**2:\r\n print(\"obtuse\")\r\nelse:\r\n print(\"impossible\")\r\n",
         "1.0"
        ],
        [
         "29",
         "16305713-d2dc-4ab1-8bbd-107594c55519",
         "a = int(input())\r\nb = int(input())\r\nc = int(input())\r\n\r\nif a + b > c and a + c > b and b + c > a:\r\n    if a*a + b*b == c*c or a*a + c*c == b*b or b*b + c*c == a*a:\r\n        print(\"right\")\r\n    elif a*a + b*b < c*c or a*a + c*c < b*b or b*b + c*c < a*a:\r\n        print(\"obtuse\")\r\n    else:\r\n        print(\"acute\")\r\nelse:\r\n    print(\"impossible\")",
         "1.0"
        ],
        [
         "30",
         "3276b711-2292-488f-9353-be7b86ab5e1a",
         "\r\nn = int(input())\r\nres = 1\r\nfor i in range(n):\r\n    res *= 2\r\nprint(res)\r\n",
         "1.0"
        ],
        [
         "31",
         "3276b711-2292-488f-9353-be7b86ab5e1a",
         "\r\nn = int(input())\r\nif n > 30 or n < 0:\r\n    print(\"Invalid input! Please enter a non-negative integer number that does not exceed 30.\")\r\nelse:\r\n    power = 1\r\n    for _ in range(n):\r\n        power *= 2\r\n    print(power)\r\n",
         "1.0"
        ],
        [
         "32",
         "3276b711-2292-488f-9353-be7b86ab5e1a",
         "n = int(input())\r\nresult = 1\r\nfor i in range(n):\r\n    result *= 2\r\nprint(result)",
         "1.0"
        ],
        [
         "33",
         "f9af70f9-5fce-423e-94c5-b6f357e5242c",
         "a, n = map(float, input().split())\r\nsm = 1\r\nfor i in range(1, n+1):\r\n    sm += a**i\r\nprint(sm)",
         "1.0"
        ],
        [
         "34",
         "f9af70f9-5fce-423e-94c5-b6f357e5242c",
         "\r\na, n = map(int, input().split())\r\nsum = 0\r\nfor i in range(n+1):\r\n    sum += a * (a ** i)\r\nprint(sum - a ** (n+1))\r\n",
         "1.0"
        ],
        [
         "35",
         "f9af70f9-5fce-423e-94c5-b6f357e5242c",
         "a = float(input())\r\nn = int(input())\r\nresult = 1\r\nfor i in range(n):\r\n    result += a**i\r\nprint(result)",
         "1.0"
        ],
        [
         "36",
         "4c5a1413-e27d-4b6a-b218-bc8e2a3ade0e",
         "\r\nx = int(input())\r\nfor i in range(1, x + 1):\r\n    if x % i == 0:\r\n        print(i, end=' ')\r\n",
         "1.0"
        ],
        [
         "37",
         "4c5a1413-e27d-4b6a-b218-bc8e2a3ade0e",
         "\r\ndef divisors(n):\r\n    divs = [1, n]\r\n    i = 2\r\n    while i * i <= n:\r\n        if n % i:\r\n            i += 1\r\n        else:\r\n            divs.append(i)\r\n            n //= i\r\n            i = 2\r\n    if i > 2:\r\n        for j in range(i, n + 1):\r\n            divs.append(j)\r\n    print(*sorted(divs))\r\n\r\nn = int(input())\r\ndivisors(n)\r\n",
         "1.0"
        ],
        [
         "38",
         "4c5a1413-e27d-4b6a-b218-bc8e2a3ade0e",
         "def main():\r\n    x = int(input())\r\n    for i in range(1, x + 1):\r\n        if x % i == 0:\r\n            print(i, end=' ')\r\n\r\nif __name__ == '__main__':\r\n    main()",
         "1.0"
        ],
        [
         "39",
         "06a06b1c-da2e-4210-b889-371de309b82f",
         "\r\nN = int(input())\r\nzeros = 0\r\npositive = 0\r\nnegative = 0\r\nfor i in range(N):\r\n  number = int(input())\r\n  if number == 0:\r\n    zeros += 1\r\n  elif number > 0:\r\n    positive += 1\r\n  else:\r\n    negative += 1\r\nprint(zeros, positive, negative)\r\n",
         "1.0"
        ],
        [
         "40",
         "06a06b1c-da2e-4210-b889-371de309b82f",
         "\r\nn = int(input())\r\nzeros = positives = negatives = 0\r\nfor i in range(n):\r\n    num = int(input())\r\n    if num == 0:\r\n        zeros += 1\r\n    elif num > 0:\r\n        positives += 1\r\n    else:\r\n        negatives += 1\r\nprint(f'{zeros}  {positives}  {negatives}')\r\n",
         "1.0"
        ],
        [
         "41",
         "06a06b1c-da2e-4210-b889-371de309b82f",
         "n = int(input())\r\nnumbers = list(map(int, input().split()))\r\n\r\nzero_count = 0\r\npositive_count = 0\r\nnegative_count = 0\r\n\r\nfor num in numbers:\r\n    if num == 0:\r\n        zero_count += 1\r\n    elif num > 0:\r\n        positive_count += 1\r\n    else:\r\n        negative_count += 1\r\n\r\nprint(zero_count, positive_count, negative_count)",
         "1.0"
        ],
        [
         "42",
         "157c7563-5b83-4f84-b184-e15788a65471",
         "\r\na = int(input())\r\ni = 2\r\nwhile a % i != 0:\r\n    i += 1\r\nprint(i)\r\n",
         "1.0"
        ],
        [
         "43",
         "157c7563-5b83-4f84-b184-e15788a65471",
         "\r\nn = int(input())\r\nif n < 4:\r\n print(2)\r\nelse:\r\n for i in range(2, n):\r\n if n % i == 0:\r\n print(i)\r\n break\r\n",
         "1.0"
        ],
        [
         "44",
         "157c7563-5b83-4f84-b184-e15788a65471",
         "def main():\r\n    a = int(input())\r\n    for i in range(2, a + 1):\r\n        if a % i == 0:\r\n            print(i)\r\n            break\r\n\r\nif __name__ == \"__main__\":\r\n    main()",
         "1.0"
        ],
        [
         "45",
         "26acdc8d-1ff5-439b-81bd-00672786ec6d",
         "\r\nsum = 0\r\nnumber = int(input())\r\nwhile number != 0:\r\n  sum += number\r\n  number = int(input())\r\nprint(sum)\r\n",
         "1.0"
        ],
        [
         "46",
         "26acdc8d-1ff5-439b-81bd-00672786ec6d",
         "\r\ndef sequence_sum(sequence):\r\n    total = 0\r\n    for num in sequence:\r\n        total += num\r\n        if num != 0:\r\n            continue\r\n        break\r\n    return total\r\n\r\nsequence = list(map(int, input().split()))\r\nprint(sequence_sum(sequence))\r\n",
         "1.0"
        ],
        [
         "47",
         "26acdc8d-1ff5-439b-81bd-00672786ec6d",
         "num = int(input())\r\nsum = 0\r\n\r\nwhile num != 0:\r\n    sum += num\r\n    num = int(input())\r\n\r\nprint(sum)",
         "1.0"
        ],
        [
         "48",
         "419d664d-81aa-4201-abc6-d514e7ee1691",
         "\r\nsum = 0\r\ncount = 0\r\nnumber = int(input())\r\nwhile number != 0:\r\n  sum += number\r\n  count += 1\r\n  number = int(input())\r\nprint(sum / count)\r\n",
         "1.0"
        ],
        [
         "49",
         "419d664d-81aa-4201-abc6-d514e7ee1691",
         "\r\ntotal = 0\r\ncount = 0\r\nnum = input(\"Enter a sequence of integers. Input ends when the number 0 is entered: \")\r\nwhile num != '0':\r\n    total += float(num)\r\n    count += 1\r\n    num = input(\"Enter next number: \")\r\n\r\nmean = total / count\r\nprint(\"{:.6f}\".format(mean))\r\n",
         "1.0"
        ]
       ],
       "shape": {
        "columns": 3,
        "rows": 9251
       }
      },
      "text/html": [
       "<div>\n",
       "<style scoped>\n",
       "    .dataframe tbody tr th:only-of-type {\n",
       "        vertical-align: middle;\n",
       "    }\n",
       "\n",
       "    .dataframe tbody tr th {\n",
       "        vertical-align: top;\n",
       "    }\n",
       "\n",
       "    .dataframe thead th {\n",
       "        text-align: right;\n",
       "    }\n",
       "</style>\n",
       "<table border=\"1\" class=\"dataframe\">\n",
       "  <thead>\n",
       "    <tr style=\"text-align: right;\">\n",
       "      <th></th>\n",
       "      <th>task</th>\n",
       "      <th>code</th>\n",
       "      <th>generated</th>\n",
       "    </tr>\n",
       "  </thead>\n",
       "  <tbody>\n",
       "    <tr>\n",
       "      <th>0</th>\n",
       "      <td>c0df7d49-26f5-451c-b44a-1e0bca60bca5</td>\n",
       "      <td>\\r\\nn = 1\\r\\nwhile n:\\r\\n    n = int(input())\\...</td>\n",
       "      <td>1.0</td>\n",
       "    </tr>\n",
       "    <tr>\n",
       "      <th>1</th>\n",
       "      <td>c0df7d49-26f5-451c-b44a-1e0bca60bca5</td>\n",
       "      <td>\\r\\ncount = 0\\r\\nnum = input()\\r\\nwhile num !=...</td>\n",
       "      <td>1.0</td>\n",
       "    </tr>\n",
       "    <tr>\n",
       "      <th>2</th>\n",
       "      <td>c0df7d49-26f5-451c-b44a-1e0bca60bca5</td>\n",
       "      <td>sequence = []\\r\\nwhile True:\\r\\n    num = int(...</td>\n",
       "      <td>1.0</td>\n",
       "    </tr>\n",
       "    <tr>\n",
       "      <th>3</th>\n",
       "      <td>4e5b21c0-e86f-4eac-82b6-1a0d00ae4199</td>\n",
       "      <td>a=[]\\r\\nwhile True:\\r\\n   b=input()\\r\\n   if b...</td>\n",
       "      <td>1.0</td>\n",
       "    </tr>\n",
       "    <tr>\n",
       "      <th>4</th>\n",
       "      <td>4e5b21c0-e86f-4eac-82b6-1a0d00ae4199</td>\n",
       "      <td>\\r\\nmax_val = float('-inf')\\r\\ncount = 0\\r\\n\\r...</td>\n",
       "      <td>1.0</td>\n",
       "    </tr>\n",
       "    <tr>\n",
       "      <th>...</th>\n",
       "      <td>...</td>\n",
       "      <td>...</td>\n",
       "      <td>...</td>\n",
       "    </tr>\n",
       "    <tr>\n",
       "      <th>9246</th>\n",
       "      <td>49c03922-c57e-464a-8191-9ebef2615808</td>\n",
       "      <td>a, b, c = map(int, input().split())\\nif c &gt; a ...</td>\n",
       "      <td>0.0</td>\n",
       "    </tr>\n",
       "    <tr>\n",
       "      <th>9247</th>\n",
       "      <td>2173e6e8-cca6-47c7-8ef6-ea93d3e736f4</td>\n",
       "      <td>n,*a=map(int,open(0).read().split())\\na=sorted...</td>\n",
       "      <td>0.0</td>\n",
       "    </tr>\n",
       "    <tr>\n",
       "      <th>9248</th>\n",
       "      <td>2a42d873-b1fe-4256-a488-91db4eaa8d9f</td>\n",
       "      <td>n=list(input())\\nd=sorted(list(input()))\\nif m...</td>\n",
       "      <td>0.0</td>\n",
       "    </tr>\n",
       "    <tr>\n",
       "      <th>9249</th>\n",
       "      <td>48f237db-e593-4be6-b3f9-10757a1d07ec</td>\n",
       "      <td>a=int(input())\\nprint(a)</td>\n",
       "      <td>0.0</td>\n",
       "    </tr>\n",
       "    <tr>\n",
       "      <th>9250</th>\n",
       "      <td>190516a0-6ed3-4c42-9f36-dc481a3adb70</td>\n",
       "      <td>a=int(input())\\nb=int(input())\\nprint(a+b)</td>\n",
       "      <td>0.0</td>\n",
       "    </tr>\n",
       "  </tbody>\n",
       "</table>\n",
       "<p>9251 rows × 3 columns</p>\n",
       "</div>"
      ],
      "text/plain": [
       "                                      task  \\\n",
       "0     c0df7d49-26f5-451c-b44a-1e0bca60bca5   \n",
       "1     c0df7d49-26f5-451c-b44a-1e0bca60bca5   \n",
       "2     c0df7d49-26f5-451c-b44a-1e0bca60bca5   \n",
       "3     4e5b21c0-e86f-4eac-82b6-1a0d00ae4199   \n",
       "4     4e5b21c0-e86f-4eac-82b6-1a0d00ae4199   \n",
       "...                                    ...   \n",
       "9246  49c03922-c57e-464a-8191-9ebef2615808   \n",
       "9247  2173e6e8-cca6-47c7-8ef6-ea93d3e736f4   \n",
       "9248  2a42d873-b1fe-4256-a488-91db4eaa8d9f   \n",
       "9249  48f237db-e593-4be6-b3f9-10757a1d07ec   \n",
       "9250  190516a0-6ed3-4c42-9f36-dc481a3adb70   \n",
       "\n",
       "                                                   code  generated  \n",
       "0     \\r\\nn = 1\\r\\nwhile n:\\r\\n    n = int(input())\\...        1.0  \n",
       "1     \\r\\ncount = 0\\r\\nnum = input()\\r\\nwhile num !=...        1.0  \n",
       "2     sequence = []\\r\\nwhile True:\\r\\n    num = int(...        1.0  \n",
       "3     a=[]\\r\\nwhile True:\\r\\n   b=input()\\r\\n   if b...        1.0  \n",
       "4     \\r\\nmax_val = float('-inf')\\r\\ncount = 0\\r\\n\\r...        1.0  \n",
       "...                                                 ...        ...  \n",
       "9246  a, b, c = map(int, input().split())\\nif c > a ...        0.0  \n",
       "9247  n,*a=map(int,open(0).read().split())\\na=sorted...        0.0  \n",
       "9248  n=list(input())\\nd=sorted(list(input()))\\nif m...        0.0  \n",
       "9249                           a=int(input())\\nprint(a)        0.0  \n",
       "9250         a=int(input())\\nb=int(input())\\nprint(a+b)        0.0  \n",
       "\n",
       "[9251 rows x 3 columns]"
      ]
     },
     "execution_count": 5,
     "metadata": {},
     "output_type": "execute_result"
    }
   ],
   "source": [
    "dataset = pd.concat([generated_parsed, human_parsed], axis=0, ignore_index=True)\n",
    "\n",
    "dataset.to_csv(\n",
    "    \"../../data/generated/dataset_old.csv\",\n",
    "    index=False,\n",
    "    quoting=1,\n",
    ")\n",
    "\n",
    "dataset"
   ]
  }
 ],
 "metadata": {
  "kernelspec": {
   "display_name": ".venv",
   "language": "python",
   "name": "python3"
  },
  "language_info": {
   "codemirror_mode": {
    "name": "ipython",
    "version": 3
   },
   "file_extension": ".py",
   "mimetype": "text/x-python",
   "name": "python",
   "nbconvert_exporter": "python",
   "pygments_lexer": "ipython3",
   "version": "3.12.4"
  }
 },
 "nbformat": 4,
 "nbformat_minor": 5
}
