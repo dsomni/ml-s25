{
 "cells": [
  {
   "metadata": {},
   "cell_type": "markdown",
   "source": [
    "### 1.  Key Features to Analyze\n",
    "- Variable/Function naming\n",
    "    Human can create variable like \"a\", \"b\" etc., while AI always make a meaningful variables\n",
    "- Code formating\n",
    "    AI - Perfect adherence to PEP8 (Python)\n",
    "- Comment    AI give comments to evry line of code\n",
    "\n",
    "\n",
    "\n",
    "### 2. Algorithmic Complexity\n",
    "- AI learns from environments such as stackoverflow, github, etc. and tries to provide the most optimized code and does not use try catch statement\n",
    "\n",
    "\n",
    "### 3. Semantic Patterns\n",
    "- Human can implement base function by themselves, while AI always use already made dunctions\n",
    "\n",
    "\n"
   ],
   "id": "70a0bc5dec124fa3"
  },
  {
   "cell_type": "code",
   "execution_count": null,
   "id": "initial_id",
   "metadata": {
    "collapsed": true
   },
   "outputs": [],
   "source": ""
  }
 ],
 "metadata": {
  "kernelspec": {
   "display_name": "Python 3",
   "language": "python",
   "name": "python3"
  },
  "language_info": {
   "codemirror_mode": {
    "name": "ipython",
    "version": 2
   },
   "file_extension": ".py",
   "mimetype": "text/x-python",
   "name": "python",
   "nbconvert_exporter": "python",
   "pygments_lexer": "ipython2",
   "version": "2.7.6"
  }
 },
 "nbformat": 4,
 "nbformat_minor": 5
}
