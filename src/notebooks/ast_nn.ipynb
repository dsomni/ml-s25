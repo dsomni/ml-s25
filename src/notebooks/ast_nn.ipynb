{
 "cells": [
  {
   "cell_type": "markdown",
   "id": "58b6999c",
   "metadata": {},
   "source": [
    "# ANN with AST"
   ]
  },
  {
   "cell_type": "code",
   "execution_count": 148,
   "id": "01c8a306",
   "metadata": {},
   "outputs": [
    {
     "data": {
      "text/plain": [
       "device(type='cuda')"
      ]
     },
     "execution_count": 148,
     "metadata": {},
     "output_type": "execute_result"
    }
   ],
   "source": [
    "from collections import Counter\n",
    "\n",
    "import numpy as np\n",
    "import pandas as pd\n",
    "import torch\n",
    "import torch.nn as nn\n",
    "import torch.optim as optim\n",
    "import tree_sitter_python as tspython\n",
    "from sklearn.metrics import (\n",
    "    accuracy_score,\n",
    "    f1_score,\n",
    "    precision_score,\n",
    "    recall_score,\n",
    "    roc_auc_score,\n",
    ")\n",
    "from sklearn.model_selection import train_test_split\n",
    "from torch.utils.data import DataLoader, Dataset\n",
    "from tqdm import tqdm\n",
    "from tree_sitter import Language, Parser\n",
    "\n",
    "PY_LANGUAGE = Language(tspython.language())\n",
    "DEVICE = torch.device(\"cuda\" if torch.cuda.is_available() else \"cpu\")\n",
    "DEVICE"
   ]
  },
  {
   "cell_type": "markdown",
   "id": "580a6318",
   "metadata": {},
   "source": [
    "## Utils"
   ]
  },
  {
   "cell_type": "code",
   "execution_count": 149,
   "id": "55860f72",
   "metadata": {},
   "outputs": [],
   "source": [
    "def set_seed(seed: int = 420):\n",
    "    np.random.seed(seed)\n",
    "    torch.manual_seed(seed)\n",
    "    if torch.cuda.is_available():\n",
    "        torch.cuda.manual_seed_all(seed)\n",
    "\n",
    "\n",
    "def calculate_metrics_classifier(true_label, predicted):\n",
    "    f1 = f1_score(true_label, predicted)\n",
    "    roc_auc = roc_auc_score(true_label, predicted)\n",
    "    recall = recall_score(true_label, predicted)\n",
    "    accuracy = accuracy_score(true_label, predicted)\n",
    "    precision = precision_score(true_label, predicted)\n",
    "\n",
    "    print(\n",
    "        f\"F1: {f1} | ROC/AUC: {roc_auc} | RECALL: {recall} | PRECISION: {precision} | ACCURACY: {accuracy}\"\n",
    "    )\n",
    "    return f1"
   ]
  },
  {
   "cell_type": "markdown",
   "id": "978ce47c",
   "metadata": {},
   "source": [
    "## Data Loading"
   ]
  },
  {
   "cell_type": "code",
   "execution_count": 150,
   "id": "bb97800f",
   "metadata": {},
   "outputs": [
    {
     "name": "stdout",
     "output_type": "stream",
     "text": [
      "Total size: 12428\n",
      "\n",
      "Train size: 9693\n",
      "Validation size: 2735\n",
      "Test size: 2486\n"
     ]
    }
   ],
   "source": [
    "set_seed()\n",
    "df = pd.read_csv(\"../../data/generated/dataset.csv\")\n",
    "\n",
    "print(f\"Total size: {len(df)}\\n\")\n",
    "\n",
    "train_val_df, test_df = train_test_split(\n",
    "    df, test_size=0.2, stratify=df[\"generated\"], random_state=420\n",
    ")\n",
    "train_df, val_df = train_test_split(\n",
    "    df, test_size=0.22, stratify=df[\"generated\"], random_state=420\n",
    ")\n",
    "\n",
    "train_df = train_df.reset_index(drop=True)\n",
    "val_df = val_df.reset_index(drop=True)\n",
    "test_df = test_df.reset_index(drop=True)\n",
    "\n",
    "print(f\"Train size: {len(train_df)}\")\n",
    "print(f\"Validation size: {len(val_df)}\")\n",
    "print(f\"Test size: {len(test_df)}\")"
   ]
  },
  {
   "cell_type": "markdown",
   "id": "bf2d8a9d",
   "metadata": {},
   "source": [
    "Check that the data is balanced"
   ]
  },
  {
   "cell_type": "code",
   "execution_count": 151,
   "id": "d43e53df",
   "metadata": {},
   "outputs": [
    {
     "name": "stdout",
     "output_type": "stream",
     "text": [
      "Mean generated (train): 0.5212008666047663\n",
      "Mean generated (val): 0.5210237659963437\n",
      "Mean generated (test): 0.5213193885760258\n"
     ]
    }
   ],
   "source": [
    "print(f\"Mean generated (train): {train_df['generated'].mean()}\")\n",
    "print(f\"Mean generated (val): {val_df['generated'].mean()}\")\n",
    "print(f\"Mean generated (test): {test_df['generated'].mean()}\")"
   ]
  },
  {
   "cell_type": "markdown",
   "id": "066cb0c6",
   "metadata": {},
   "source": [
    "## Dataset building"
   ]
  },
  {
   "cell_type": "code",
   "execution_count": 152,
   "id": "9f4e1a40ef64f9cb",
   "metadata": {},
   "outputs": [],
   "source": [
    "parser = Parser(PY_LANGUAGE)\n",
    "node_types = set()\n",
    "\n",
    "\n",
    "def walk_tree(node, types):\n",
    "    types.append(node.type)\n",
    "    for child in node.children:\n",
    "        walk_tree(child, types)\n",
    "\n",
    "\n",
    "def code_to_feature_vector(code):\n",
    "    code = code.encode(\"utf-8\")\n",
    "    tree = parser.parse(code)\n",
    "    types = []\n",
    "    walk_tree(tree.root_node, types)\n",
    "    counts = Counter(types)\n",
    "    feature_vector = [counts.get(typ, 0) for typ in node_types]\n",
    "\n",
    "    return feature_vector\n",
    "\n",
    "\n",
    "# Gather all node types\n",
    "for _, row in train_df.iterrows():\n",
    "    tree = parser.parse(str.encode(row[\"code\"]))\n",
    "    types = []\n",
    "    walk_tree(tree.root_node, types)\n",
    "    node_types.update(types)\n",
    "\n",
    "node_types = sorted(node_types)\n",
    "type_to_idx = {typ: i for i, typ in enumerate(node_types)}"
   ]
  },
  {
   "cell_type": "markdown",
   "id": "3f7c9788",
   "metadata": {},
   "source": [
    "Save node types for inference"
   ]
  },
  {
   "cell_type": "code",
   "execution_count": 153,
   "id": "1db913e2",
   "metadata": {},
   "outputs": [],
   "source": [
    "with open(\"../../data/ast/node_types.txt\", \"w\", encoding=\"utf-8\") as f:\n",
    "    f.write(\"\\n\".join(node_types))"
   ]
  },
  {
   "cell_type": "code",
   "execution_count": 154,
   "id": "10827a60",
   "metadata": {},
   "outputs": [],
   "source": [
    "def ast_encoding(df: pd.DataFrame) -> tuple[pd.DataFrame, pd.DataFrame]:\n",
    "    features_df = pd.DataFrame(df[\"code\"].apply(code_to_feature_vector).apply(pd.Series))\n",
    "    features_df.columns = list(node_types)\n",
    "    return features_df, df[\"generated\"]"
   ]
  },
  {
   "cell_type": "code",
   "execution_count": 155,
   "id": "f8d80574",
   "metadata": {},
   "outputs": [],
   "source": [
    "train_features, train_target = ast_encoding(train_df)\n",
    "val_features, val_target = ast_encoding(val_df)\n",
    "test_features, test_target = ast_encoding(test_df)"
   ]
  },
  {
   "cell_type": "code",
   "execution_count": 156,
   "id": "3a084b0b",
   "metadata": {},
   "outputs": [],
   "source": [
    "train_max = train_features.to_numpy().max()"
   ]
  },
  {
   "cell_type": "code",
   "execution_count": 157,
   "id": "3562bdf5",
   "metadata": {},
   "outputs": [],
   "source": [
    "class VectorDataset(Dataset):\n",
    "    def __init__(self, features: pd.DataFrame, labels: pd.DataFrame,train_max=train_max):\n",
    "        self.train_max=train_max\n",
    "        self.features = torch.FloatTensor(features.to_numpy())\n",
    "        self.labels = torch.LongTensor(labels.to_numpy())\n",
    "\n",
    "    def __len__(self):\n",
    "        return len(self.labels)\n",
    "\n",
    "    def __getitem__(self, idx):\n",
    "        return self.features[idx]/self.train_max, self.labels[idx]\n",
    "\n",
    "\n",
    "train_dataset = VectorDataset(train_features, train_target)\n",
    "val_dataset = VectorDataset(val_features, val_target)\n",
    "test_dataset = VectorDataset(test_features, test_target)"
   ]
  },
  {
   "cell_type": "code",
   "execution_count": 158,
   "id": "34c54a37",
   "metadata": {},
   "outputs": [],
   "source": [
    "train_batch_size = 32\n",
    "eval_batch_size = 128\n",
    "\n",
    "train_loader = DataLoader(\n",
    "    train_dataset,\n",
    "    batch_size=train_batch_size,\n",
    "    shuffle=True,\n",
    "    generator=torch.Generator().manual_seed(420),\n",
    ")\n",
    "\n",
    "val_loader = DataLoader(\n",
    "    val_dataset,\n",
    "    batch_size=eval_batch_size,\n",
    "    shuffle=False,\n",
    ")\n",
    "\n",
    "test_loader = DataLoader(test_dataset, batch_size=eval_batch_size, shuffle=False)"
   ]
  },
  {
   "cell_type": "markdown",
   "id": "b8911781",
   "metadata": {},
   "source": [
    "## Model"
   ]
  },
  {
   "cell_type": "code",
   "execution_count": 159,
   "id": "81531fec",
   "metadata": {},
   "outputs": [],
   "source": [
    "class BinaryClassifier(nn.Module):\n",
    "    def __init__(self, input_dim):\n",
    "        super(BinaryClassifier, self).__init__()\n",
    "        self.net = nn.Sequential(\n",
    "            nn.Linear(input_dim, 64),\n",
    "            nn.LeakyReLU(),\n",
    "            nn.Dropout(0.2),\n",
    "            nn.Linear(64, 32),\n",
    "            nn.LeakyReLU(),\n",
    "            nn.Dropout(0.2),  \n",
    "            nn.Linear(32, 16), \n",
    "            nn.LeakyReLU(),\n",
    "            nn.Dropout(0.2),     \n",
    "            nn.Linear(16, 1),\n",
    "            nn.Sigmoid()\n",
    "        )\n",
    "    def forward(self, x):\n",
    "        return self.net(x)"
   ]
  },
  {
   "cell_type": "markdown",
   "id": "32630637",
   "metadata": {},
   "source": [
    "## Training"
   ]
  },
  {
   "cell_type": "code",
   "execution_count": 160,
   "id": "1dde22ae",
   "metadata": {},
   "outputs": [],
   "source": [
    "def train_model(\n",
    "    train_loader: DataLoader, model: nn.Module, optimizer: optim.Optimizer, criterion\n",
    "):\n",
    "    model.train()\n",
    "    train_losses = []\n",
    "    for inputs, labels in tqdm(train_loader, desc=\"Training\"):\n",
    "        inputs, labels = inputs.to(DEVICE), labels.to(DEVICE)\n",
    "        optimizer.zero_grad()\n",
    "        outputs = model(inputs)\n",
    "        loss = criterion(outputs.flatten().float(), labels.float())\n",
    "        loss.backward()\n",
    "        optimizer.step()\n",
    "        train_losses.append(loss.item())\n",
    "\n",
    "    return np.mean(train_losses)\n",
    "\n",
    "\n",
    "def eval_model(eval_loader: DataLoader, model: nn.Module, criterion):\n",
    "    model.eval()\n",
    "\n",
    "    eval_losses = []\n",
    "    all_preds = []\n",
    "    all_labels = []\n",
    "    with torch.no_grad():\n",
    "        for inputs, labels in tqdm(eval_loader, desc=\"Evaluating\"):\n",
    "            inputs, labels = inputs.to(DEVICE), labels.to(DEVICE)\n",
    "\n",
    "            outputs = model(inputs)\n",
    "            eval_losses.append(\n",
    "                criterion(outputs.flatten().float(), labels.float()).item()\n",
    "            )\n",
    "            preds = (outputs > 0.5).float()\n",
    "            all_preds.extend(preds.cpu().numpy())\n",
    "            all_labels.extend(labels.cpu().numpy())\n",
    "\n",
    "    all_preds = np.array(all_preds).flatten()\n",
    "    all_labels = np.array(all_labels).flatten()\n",
    "    recall = calculate_metrics_classifier(all_labels, all_preds)\n",
    "    return np.mean(eval_losses), recall"
   ]
  },
  {
   "cell_type": "code",
   "execution_count": 161,
   "id": "79488557",
   "metadata": {},
   "outputs": [
    {
     "name": "stdout",
     "output_type": "stream",
     "text": [
      "\n",
      "Epoch 1\n"
     ]
    },
    {
     "name": "stderr",
     "output_type": "stream",
     "text": [
      "Training: 100%|██████████| 303/303 [00:00<00:00, 515.31it/s]\n"
     ]
    },
    {
     "name": "stdout",
     "output_type": "stream",
     "text": [
      "Mean train loss: 0.693\n"
     ]
    },
    {
     "name": "stderr",
     "output_type": "stream",
     "text": [
      "Evaluating: 100%|██████████| 22/22 [00:00<00:00, 578.95it/s]\n"
     ]
    },
    {
     "name": "stdout",
     "output_type": "stream",
     "text": [
      "F1: 0.6850961538461539 | ROC/AUC: 0.5 | RECALL: 1.0 | PRECISION: 0.5210237659963437 | ACCURACY: 0.5210237659963437\n",
      "Mean val loss: 0.692\n",
      "\n",
      "Epoch 2\n"
     ]
    },
    {
     "name": "stderr",
     "output_type": "stream",
     "text": [
      "Training: 100%|██████████| 303/303 [00:00<00:00, 571.70it/s]\n"
     ]
    },
    {
     "name": "stdout",
     "output_type": "stream",
     "text": [
      "Mean train loss: 0.692\n"
     ]
    },
    {
     "name": "stderr",
     "output_type": "stream",
     "text": [
      "Evaluating: 100%|██████████| 22/22 [00:00<00:00, 578.95it/s]\n"
     ]
    },
    {
     "name": "stdout",
     "output_type": "stream",
     "text": [
      "F1: 0.6850961538461539 | ROC/AUC: 0.5 | RECALL: 1.0 | PRECISION: 0.5210237659963437 | ACCURACY: 0.5210237659963437\n",
      "Mean val loss: 0.691\n",
      "\n",
      "Epoch 3\n"
     ]
    },
    {
     "name": "stderr",
     "output_type": "stream",
     "text": [
      "Training: 100%|██████████| 303/303 [00:00<00:00, 582.69it/s]\n"
     ]
    },
    {
     "name": "stdout",
     "output_type": "stream",
     "text": [
      "Mean train loss: 0.691\n"
     ]
    },
    {
     "name": "stderr",
     "output_type": "stream",
     "text": [
      "Evaluating: 100%|██████████| 22/22 [00:00<00:00, 523.81it/s]\n"
     ]
    },
    {
     "name": "stdout",
     "output_type": "stream",
     "text": [
      "F1: 0.6920245398773006 | ROC/AUC: 0.5214543993571715 | RECALL: 0.9894736842105263 | PRECISION: 0.5320754716981132 | ACCURACY: 0.5411334552102377\n",
      "Mean val loss: 0.687\n",
      "\n",
      "Epoch 4\n"
     ]
    },
    {
     "name": "stderr",
     "output_type": "stream",
     "text": [
      "Training: 100%|██████████| 303/303 [00:00<00:00, 614.60it/s]\n"
     ]
    },
    {
     "name": "stdout",
     "output_type": "stream",
     "text": [
      "Mean train loss: 0.680\n"
     ]
    },
    {
     "name": "stderr",
     "output_type": "stream",
     "text": [
      "Evaluating: 100%|██████████| 22/22 [00:00<00:00, 564.13it/s]\n"
     ]
    },
    {
     "name": "stdout",
     "output_type": "stream",
     "text": [
      "F1: 0.6565988181221274 | ROC/AUC: 0.6138542922190974 | RECALL: 0.7017543859649122 | PRECISION: 0.6169031462060457 | ACCURACY: 0.6175502742230348\n",
      "Mean val loss: 0.662\n",
      "\n",
      "Epoch 5\n"
     ]
    },
    {
     "name": "stderr",
     "output_type": "stream",
     "text": [
      "Training: 100%|██████████| 303/303 [00:00<00:00, 671.84it/s]\n"
     ]
    },
    {
     "name": "stdout",
     "output_type": "stream",
     "text": [
      "Mean train loss: 0.658\n"
     ]
    },
    {
     "name": "stderr",
     "output_type": "stream",
     "text": [
      "Evaluating: 100%|██████████| 22/22 [00:00<00:00, 549.99it/s]\n"
     ]
    },
    {
     "name": "stdout",
     "output_type": "stream",
     "text": [
      "F1: 0.6358208955223881 | ROC/AUC: 0.6451305745279229 | RECALL: 0.5978947368421053 | PRECISION: 0.6788844621513944 | ACCURACY: 0.6431444241316271\n",
      "Mean val loss: 0.643\n",
      "\n",
      "Epoch 6\n"
     ]
    },
    {
     "name": "stderr",
     "output_type": "stream",
     "text": [
      "Training: 100%|██████████| 303/303 [00:00<00:00, 633.89it/s]\n"
     ]
    },
    {
     "name": "stdout",
     "output_type": "stream",
     "text": [
      "Mean train loss: 0.645\n"
     ]
    },
    {
     "name": "stderr",
     "output_type": "stream",
     "text": [
      "Evaluating: 100%|██████████| 22/22 [00:00<00:00, 628.64it/s]\n"
     ]
    },
    {
     "name": "stdout",
     "output_type": "stream",
     "text": [
      "F1: 0.6221701795472288 | ROC/AUC: 0.6498781304406053 | RECALL: 0.5592982456140351 | PRECISION: 0.7009674582233949 | ACCURACY: 0.6460694698354662\n",
      "Mean val loss: 0.635\n",
      "\n",
      "Epoch 7\n"
     ]
    },
    {
     "name": "stderr",
     "output_type": "stream",
     "text": [
      "Training: 100%|██████████| 303/303 [00:00<00:00, 685.52it/s]\n"
     ]
    },
    {
     "name": "stdout",
     "output_type": "stream",
     "text": [
      "Mean train loss: 0.636\n"
     ]
    },
    {
     "name": "stderr",
     "output_type": "stream",
     "text": [
      "Evaluating: 100%|██████████| 22/22 [00:00<00:00, 550.00it/s]\n"
     ]
    },
    {
     "name": "stdout",
     "output_type": "stream",
     "text": [
      "F1: 0.6474074074074074 | ROC/AUC: 0.6536132315521628 | RECALL: 0.6133333333333333 | PRECISION: 0.6854901960784314 | ACCURACY: 0.6519195612431444\n",
      "Mean val loss: 0.626\n",
      "\n",
      "Epoch 8\n"
     ]
    },
    {
     "name": "stderr",
     "output_type": "stream",
     "text": [
      "Training: 100%|██████████| 303/303 [00:00<00:00, 551.91it/s]\n"
     ]
    },
    {
     "name": "stdout",
     "output_type": "stream",
     "text": [
      "Mean train loss: 0.632\n"
     ]
    },
    {
     "name": "stderr",
     "output_type": "stream",
     "text": [
      "Evaluating: 100%|██████████| 22/22 [00:00<00:00, 578.95it/s]\n"
     ]
    },
    {
     "name": "stdout",
     "output_type": "stream",
     "text": [
      "F1: 0.6515870120394017 | ROC/AUC: 0.6518829516539442 | RECALL: 0.6266666666666667 | PRECISION: 0.6785714285714286 | ACCURACY: 0.6508226691042047\n",
      "Mean val loss: 0.621\n",
      "\n",
      "Epoch 9\n"
     ]
    },
    {
     "name": "stderr",
     "output_type": "stream",
     "text": [
      "Training: 100%|██████████| 303/303 [00:00<00:00, 556.99it/s]\n"
     ]
    },
    {
     "name": "stdout",
     "output_type": "stream",
     "text": [
      "Mean train loss: 0.628\n"
     ]
    },
    {
     "name": "stderr",
     "output_type": "stream",
     "text": [
      "Evaluating: 100%|██████████| 22/22 [00:00<00:00, 536.58it/s]\n"
     ]
    },
    {
     "name": "stdout",
     "output_type": "stream",
     "text": [
      "F1: 0.6333973128598849 | ROC/AUC: 0.6539775010044194 | RECALL: 0.5789473684210527 | PRECISION: 0.6991525423728814 | ACCURACY: 0.6508226691042047\n",
      "Mean val loss: 0.620\n",
      "\n",
      "Epoch 10\n"
     ]
    },
    {
     "name": "stderr",
     "output_type": "stream",
     "text": [
      "Training: 100%|██████████| 303/303 [00:00<00:00, 549.91it/s]\n"
     ]
    },
    {
     "name": "stdout",
     "output_type": "stream",
     "text": [
      "Mean train loss: 0.621\n"
     ]
    },
    {
     "name": "stderr",
     "output_type": "stream",
     "text": [
      "Evaluating: 100%|██████████| 22/22 [00:00<00:00, 628.64it/s]\n"
     ]
    },
    {
     "name": "stdout",
     "output_type": "stream",
     "text": [
      "F1: 0.6487695749440716 | ROC/AUC: 0.6575532342306146 | RECALL: 0.6105263157894737 | PRECISION: 0.6921241050119332 | ACCURACY: 0.6555758683729433\n",
      "Mean val loss: 0.614\n",
      "\n",
      "Epoch 11\n"
     ]
    },
    {
     "name": "stderr",
     "output_type": "stream",
     "text": [
      "Training: 100%|██████████| 303/303 [00:00<00:00, 572.78it/s]\n"
     ]
    },
    {
     "name": "stdout",
     "output_type": "stream",
     "text": [
      "Mean train loss: 0.618\n"
     ]
    },
    {
     "name": "stderr",
     "output_type": "stream",
     "text": [
      "Evaluating: 100%|██████████| 22/22 [00:00<00:00, 578.96it/s]\n"
     ]
    },
    {
     "name": "stdout",
     "output_type": "stream",
     "text": [
      "F1: 0.614516129032258 | ROC/AUC: 0.6555363599839292 | RECALL: 0.5347368421052632 | PRECISION: 0.7222748815165877 | ACCURACY: 0.6504570383912248\n",
      "Mean val loss: 0.614\n",
      "\n",
      "Epoch 12\n"
     ]
    },
    {
     "name": "stderr",
     "output_type": "stream",
     "text": [
      "Training: 100%|██████████| 303/303 [00:00<00:00, 545.45it/s]\n"
     ]
    },
    {
     "name": "stdout",
     "output_type": "stream",
     "text": [
      "Mean train loss: 0.616\n"
     ]
    },
    {
     "name": "stderr",
     "output_type": "stream",
     "text": [
      "Evaluating: 100%|██████████| 22/22 [00:00<00:00, 628.57it/s]\n"
     ]
    },
    {
     "name": "stdout",
     "output_type": "stream",
     "text": [
      "F1: 0.6830087306917394 | ROC/AUC: 0.6522619525914021 | RECALL: 0.7136842105263158 | PRECISION: 0.6548615582743078 | ACCURACY: 0.6548446069469835\n",
      "Mean val loss: 0.607\n",
      "\n",
      "Epoch 13\n"
     ]
    },
    {
     "name": "stderr",
     "output_type": "stream",
     "text": [
      "Training: 100%|██████████| 303/303 [00:00<00:00, 537.23it/s]\n"
     ]
    },
    {
     "name": "stdout",
     "output_type": "stream",
     "text": [
      "Mean train loss: 0.611\n"
     ]
    },
    {
     "name": "stderr",
     "output_type": "stream",
     "text": [
      "Evaluating: 100%|██████████| 22/22 [00:00<00:00, 511.63it/s]\n"
     ]
    },
    {
     "name": "stdout",
     "output_type": "stream",
     "text": [
      "F1: 0.6442491402369125 | ROC/AUC: 0.6625833668139816 | RECALL: 0.5915789473684211 | PRECISION: 0.7072147651006712 | ACCURACY: 0.6595978062157222\n",
      "Mean val loss: 0.604\n",
      "\n",
      "Epoch 14\n"
     ]
    },
    {
     "name": "stderr",
     "output_type": "stream",
     "text": [
      "Training: 100%|██████████| 303/303 [00:00<00:00, 543.99it/s]\n"
     ]
    },
    {
     "name": "stdout",
     "output_type": "stream",
     "text": [
      "Mean train loss: 0.605\n"
     ]
    },
    {
     "name": "stderr",
     "output_type": "stream",
     "text": [
      "Evaluating: 100%|██████████| 22/22 [00:00<00:00, 550.01it/s]\n"
     ]
    },
    {
     "name": "stdout",
     "output_type": "stream",
     "text": [
      "F1: 0.6644493717664449 | ROC/AUC: 0.6696370697736708 | RECALL: 0.6308771929824561 | PRECISION: 0.7017954722872756 | ACCURACY: 0.6680073126142596\n",
      "Mean val loss: 0.598\n",
      "\n",
      "Epoch 15\n"
     ]
    },
    {
     "name": "stderr",
     "output_type": "stream",
     "text": [
      "Training: 100%|██████████| 303/303 [00:00<00:00, 535.34it/s]\n"
     ]
    },
    {
     "name": "stdout",
     "output_type": "stream",
     "text": [
      "Mean train loss: 0.602\n"
     ]
    },
    {
     "name": "stderr",
     "output_type": "stream",
     "text": [
      "Evaluating: 100%|██████████| 22/22 [00:00<00:00, 564.12it/s]\n"
     ]
    },
    {
     "name": "stdout",
     "output_type": "stream",
     "text": [
      "F1: 0.6567828020756116 | ROC/AUC: 0.6631672693183339 | RECALL: 0.6217543859649123 | PRECISION: 0.6959937156323645 | ACCURACY: 0.6614259597806216\n",
      "Mean val loss: 0.595\n",
      "\n",
      "Epoch 16\n"
     ]
    },
    {
     "name": "stderr",
     "output_type": "stream",
     "text": [
      "Training: 100%|██████████| 303/303 [00:00<00:00, 527.87it/s]\n"
     ]
    },
    {
     "name": "stdout",
     "output_type": "stream",
     "text": [
      "Mean train loss: 0.597\n"
     ]
    },
    {
     "name": "stderr",
     "output_type": "stream",
     "text": [
      "Evaluating: 100%|██████████| 22/22 [00:00<00:00, 550.01it/s]\n"
     ]
    },
    {
     "name": "stdout",
     "output_type": "stream",
     "text": [
      "F1: 0.6259168704156479 | ROC/AUC: 0.6698553635998392 | RECALL: 0.5389473684210526 | PRECISION: 0.7463556851311953 | ACCURACY: 0.6643510054844607\n",
      "Mean val loss: 0.597\n",
      "\n",
      "Epoch 17\n"
     ]
    },
    {
     "name": "stderr",
     "output_type": "stream",
     "text": [
      "Training: 100%|██████████| 303/303 [00:00<00:00, 553.93it/s]\n"
     ]
    },
    {
     "name": "stdout",
     "output_type": "stream",
     "text": [
      "Mean train loss: 0.595\n"
     ]
    },
    {
     "name": "stderr",
     "output_type": "stream",
     "text": [
      "Evaluating: 100%|██████████| 22/22 [00:00<00:00, 578.96it/s]\n"
     ]
    },
    {
     "name": "stdout",
     "output_type": "stream",
     "text": [
      "F1: 0.580447172292854 | ROC/AUC: 0.6582349002276684 | RECALL: 0.46456140350877195 | PRECISION: 0.7733644859813084 | ACCURACY: 0.650091407678245\n",
      "Mean val loss: 0.602\n",
      "\n",
      "Epoch 18\n"
     ]
    },
    {
     "name": "stderr",
     "output_type": "stream",
     "text": [
      "Training: 100%|██████████| 303/303 [00:00<00:00, 691.78it/s]\n"
     ]
    },
    {
     "name": "stdout",
     "output_type": "stream",
     "text": [
      "Mean train loss: 0.594\n"
     ]
    },
    {
     "name": "stderr",
     "output_type": "stream",
     "text": [
      "Evaluating: 100%|██████████| 22/22 [00:00<00:00, 523.81it/s]\n"
     ]
    },
    {
     "name": "stdout",
     "output_type": "stream",
     "text": [
      "F1: 0.635814889336016 | ROC/AUC: 0.6741395473416365 | RECALL: 0.5543859649122806 | PRECISION: 0.7452830188679245 | ACCURACY: 0.6691042047531993\n",
      "Mean val loss: 0.590\n",
      "\n",
      "Epoch 19\n"
     ]
    },
    {
     "name": "stderr",
     "output_type": "stream",
     "text": [
      "Training: 100%|██████████| 303/303 [00:00<00:00, 726.62it/s]\n"
     ]
    },
    {
     "name": "stdout",
     "output_type": "stream",
     "text": [
      "Mean train loss: 0.591\n"
     ]
    },
    {
     "name": "stderr",
     "output_type": "stream",
     "text": [
      "Evaluating: 100%|██████████| 22/22 [00:00<00:00, 611.13it/s]\n"
     ]
    },
    {
     "name": "stdout",
     "output_type": "stream",
     "text": [
      "F1: 0.6842295200288705 | ROC/AUC: 0.6807231820008035 | RECALL: 0.6652631578947369 | PRECISION: 0.7043090638930164 | ACCURACY: 0.680073126142596\n",
      "Mean val loss: 0.581\n",
      "\n",
      "Epoch 20\n"
     ]
    },
    {
     "name": "stderr",
     "output_type": "stream",
     "text": [
      "Training: 100%|██████████| 303/303 [00:00<00:00, 730.12it/s]\n"
     ]
    },
    {
     "name": "stdout",
     "output_type": "stream",
     "text": [
      "Mean train loss: 0.583\n"
     ]
    },
    {
     "name": "stderr",
     "output_type": "stream",
     "text": [
      "Evaluating: 100%|██████████| 22/22 [00:00<00:00, 578.94it/s]\n"
     ]
    },
    {
     "name": "stdout",
     "output_type": "stream",
     "text": [
      "F1: 0.5823582358235824 | ROC/AUC: 0.6697656354627025 | RECALL: 0.45403508771929824 | PRECISION: 0.8117942283563363 | ACCURACY: 0.6606946983546618\n",
      "Mean val loss: 0.601\n",
      "\n",
      "Epoch 21\n"
     ]
    },
    {
     "name": "stderr",
     "output_type": "stream",
     "text": [
      "Training: 100%|██████████| 303/303 [00:00<00:00, 718.01it/s]\n"
     ]
    },
    {
     "name": "stdout",
     "output_type": "stream",
     "text": [
      "Mean train loss: 0.583\n"
     ]
    },
    {
     "name": "stderr",
     "output_type": "stream",
     "text": [
      "Evaluating: 100%|██████████| 22/22 [00:00<00:00, 647.06it/s]\n"
     ]
    },
    {
     "name": "stdout",
     "output_type": "stream",
     "text": [
      "F1: 0.6822916666666666 | ROC/AUC: 0.6896933172626222 | RECALL: 0.6435087719298246 | PRECISION: 0.7260490894695171 | ACCURACY: 0.6877513711151737\n",
      "Mean val loss: 0.576\n",
      "\n",
      "Epoch 22\n"
     ]
    },
    {
     "name": "stderr",
     "output_type": "stream",
     "text": [
      "Training: 100%|██████████| 303/303 [00:00<00:00, 721.43it/s]\n"
     ]
    },
    {
     "name": "stdout",
     "output_type": "stream",
     "text": [
      "Mean train loss: 0.581\n"
     ]
    },
    {
     "name": "stderr",
     "output_type": "stream",
     "text": [
      "Evaluating: 100%|██████████| 22/22 [00:00<00:00, 550.01it/s]\n"
     ]
    },
    {
     "name": "stdout",
     "output_type": "stream",
     "text": [
      "F1: 0.6705336426914154 | ROC/AUC: 0.6919967858577742 | RECALL: 0.608421052631579 | PRECISION: 0.7467700258397932 | ACCURACY: 0.6884826325411335\n",
      "Mean val loss: 0.578\n",
      "\n",
      "Epoch 23\n"
     ]
    },
    {
     "name": "stderr",
     "output_type": "stream",
     "text": [
      "Training: 100%|██████████| 303/303 [00:00<00:00, 723.15it/s]\n"
     ]
    },
    {
     "name": "stdout",
     "output_type": "stream",
     "text": [
      "Mean train loss: 0.576\n"
     ]
    },
    {
     "name": "stderr",
     "output_type": "stream",
     "text": [
      "Evaluating: 100%|██████████| 22/22 [00:00<00:00, 594.60it/s]\n"
     ]
    },
    {
     "name": "stdout",
     "output_type": "stream",
     "text": [
      "F1: 0.679160419790105 | ROC/AUC: 0.6892687826436319 | RECALL: 0.6357894736842106 | PRECISION: 0.7288817377312953 | ACCURACY: 0.6870201096892139\n",
      "Mean val loss: 0.574\n",
      "\n",
      "Epoch 24\n"
     ]
    },
    {
     "name": "stderr",
     "output_type": "stream",
     "text": [
      "Training: 100%|██████████| 303/303 [00:00<00:00, 694.96it/s]\n"
     ]
    },
    {
     "name": "stdout",
     "output_type": "stream",
     "text": [
      "Mean train loss: 0.574\n"
     ]
    },
    {
     "name": "stderr",
     "output_type": "stream",
     "text": [
      "Evaluating: 100%|██████████| 22/22 [00:00<00:00, 611.13it/s]\n"
     ]
    },
    {
     "name": "stdout",
     "output_type": "stream",
     "text": [
      "F1: 0.7080443828016644 | ROC/AUC: 0.6910700415160037 | RECALL: 0.7164912280701754 | PRECISION: 0.6997943797121315 | ACCURACY: 0.6921389396709323\n",
      "Mean val loss: 0.572\n",
      "\n",
      "Epoch 25\n"
     ]
    },
    {
     "name": "stderr",
     "output_type": "stream",
     "text": [
      "Training: 100%|██████████| 303/303 [00:00<00:00, 684.74it/s]\n"
     ]
    },
    {
     "name": "stdout",
     "output_type": "stream",
     "text": [
      "Mean train loss: 0.570\n"
     ]
    },
    {
     "name": "stderr",
     "output_type": "stream",
     "text": [
      "Evaluating: 100%|██████████| 22/22 [00:00<00:00, 647.07it/s]\n"
     ]
    },
    {
     "name": "stdout",
     "output_type": "stream",
     "text": [
      "F1: 0.6503018108651911 | ROC/AUC: 0.6873255658229543 | RECALL: 0.5670175438596491 | PRECISION: 0.7622641509433963 | ACCURACY: 0.6822669104204753\n",
      "Mean val loss: 0.578\n",
      "\n",
      "Epoch 26\n"
     ]
    },
    {
     "name": "stderr",
     "output_type": "stream",
     "text": [
      "Training: 100%|██████████| 303/303 [00:00<00:00, 693.37it/s]\n"
     ]
    },
    {
     "name": "stdout",
     "output_type": "stream",
     "text": [
      "Mean train loss: 0.566\n"
     ]
    },
    {
     "name": "stderr",
     "output_type": "stream",
     "text": [
      "Evaluating: 100%|██████████| 22/22 [00:00<00:00, 647.06it/s]\n"
     ]
    },
    {
     "name": "stdout",
     "output_type": "stream",
     "text": [
      "F1: 0.6903515332834704 | ROC/AUC: 0.6994321682067765 | RECALL: 0.647719298245614 | PRECISION: 0.7389911929543634 | ACCURACY: 0.6972577696526508\n",
      "Mean val loss: 0.566\n",
      "\n",
      "Epoch 27\n"
     ]
    },
    {
     "name": "stderr",
     "output_type": "stream",
     "text": [
      "Training: 100%|██████████| 303/303 [00:00<00:00, 646.06it/s]\n"
     ]
    },
    {
     "name": "stdout",
     "output_type": "stream",
     "text": [
      "Mean train loss: 0.568\n"
     ]
    },
    {
     "name": "stderr",
     "output_type": "stream",
     "text": [
      "Evaluating: 100%|██████████| 22/22 [00:00<00:00, 564.10it/s]\n"
     ]
    },
    {
     "name": "stdout",
     "output_type": "stream",
     "text": [
      "F1: 0.7229152987524623 | ROC/AUC: 0.6878425070309362 | RECALL: 0.7726315789473684 | PRECISION: 0.6792103639728563 | ACCURACY: 0.6914076782449726\n",
      "Mean val loss: 0.571\n",
      "\n",
      "Epoch 28\n"
     ]
    },
    {
     "name": "stderr",
     "output_type": "stream",
     "text": [
      "Training: 100%|██████████| 303/303 [00:00<00:00, 643.31it/s]\n"
     ]
    },
    {
     "name": "stdout",
     "output_type": "stream",
     "text": [
      "Mean train loss: 0.564\n"
     ]
    },
    {
     "name": "stderr",
     "output_type": "stream",
     "text": [
      "Evaluating: 100%|██████████| 22/22 [00:00<00:00, 564.17it/s]\n"
     ]
    },
    {
     "name": "stdout",
     "output_type": "stream",
     "text": [
      "F1: 0.7138419054193994 | ROC/AUC: 0.6956314450247756 | RECALL: 0.7256140350877193 | PRECISION: 0.7024456521739131 | ACCURACY: 0.696892138939671\n",
      "Mean val loss: 0.562\n",
      "\n",
      "Epoch 29\n"
     ]
    },
    {
     "name": "stderr",
     "output_type": "stream",
     "text": [
      "Training: 100%|██████████| 303/303 [00:00<00:00, 663.02it/s]\n"
     ]
    },
    {
     "name": "stdout",
     "output_type": "stream",
     "text": [
      "Mean train loss: 0.559\n"
     ]
    },
    {
     "name": "stderr",
     "output_type": "stream",
     "text": [
      "Evaluating: 100%|██████████| 22/22 [00:00<00:00, 578.96it/s]\n"
     ]
    },
    {
     "name": "stdout",
     "output_type": "stream",
     "text": [
      "F1: 0.7084527220630372 | ROC/AUC: 0.7027427346993438 | RECALL: 0.6940350877192982 | PRECISION: 0.723482077542063 | ACCURACY: 0.7023765996343693\n",
      "Mean val loss: 0.562\n",
      "\n",
      "Epoch 30\n"
     ]
    },
    {
     "name": "stderr",
     "output_type": "stream",
     "text": [
      "Training: 100%|██████████| 303/303 [00:00<00:00, 636.75it/s]\n"
     ]
    },
    {
     "name": "stdout",
     "output_type": "stream",
     "text": [
      "Mean train loss: 0.557\n"
     ]
    },
    {
     "name": "stderr",
     "output_type": "stream",
     "text": [
      "Evaluating: 100%|██████████| 22/22 [00:00<00:00, 594.62it/s]\n"
     ]
    },
    {
     "name": "stdout",
     "output_type": "stream",
     "text": [
      "F1: 0.6514900662251656 | ROC/AUC: 0.6982777554573457 | RECALL: 0.5522807017543859 | PRECISION: 0.7941473259334006 | ACCURACY: 0.6921389396709323\n",
      "Mean val loss: 0.568\n",
      "\n",
      "Epoch 31\n"
     ]
    },
    {
     "name": "stderr",
     "output_type": "stream",
     "text": [
      "Training: 100%|██████████| 303/303 [00:00<00:00, 577.14it/s]\n"
     ]
    },
    {
     "name": "stdout",
     "output_type": "stream",
     "text": [
      "Mean train loss: 0.558\n"
     ]
    },
    {
     "name": "stderr",
     "output_type": "stream",
     "text": [
      "Evaluating: 100%|██████████| 22/22 [00:00<00:00, 523.83it/s]\n"
     ]
    },
    {
     "name": "stdout",
     "output_type": "stream",
     "text": [
      "F1: 0.682889146388567 | ROC/AUC: 0.7033052095888576 | RECALL: 0.6203508771929824 | PRECISION: 0.7594501718213058 | ACCURACY: 0.6998171846435101\n",
      "Mean val loss: 0.559\n",
      "\n",
      "Epoch 32\n"
     ]
    },
    {
     "name": "stderr",
     "output_type": "stream",
     "text": [
      "Training: 100%|██████████| 303/303 [00:00<00:00, 579.35it/s]\n"
     ]
    },
    {
     "name": "stdout",
     "output_type": "stream",
     "text": [
      "Mean train loss: 0.555\n"
     ]
    },
    {
     "name": "stderr",
     "output_type": "stream",
     "text": [
      "Evaluating: 100%|██████████| 22/22 [00:00<00:00, 594.61it/s]\n"
     ]
    },
    {
     "name": "stdout",
     "output_type": "stream",
     "text": [
      "F1: 0.6866129650939777 | ROC/AUC: 0.7044931029864738 | RECALL: 0.6280701754385964 | PRECISION: 0.7571912013536379 | ACCURACY: 0.7012797074954296\n",
      "Mean val loss: 0.560\n",
      "\n",
      "Epoch 33\n"
     ]
    },
    {
     "name": "stderr",
     "output_type": "stream",
     "text": [
      "Training: 100%|██████████| 303/303 [00:00<00:00, 571.70it/s]\n"
     ]
    },
    {
     "name": "stdout",
     "output_type": "stream",
     "text": [
      "Mean train loss: 0.552\n"
     ]
    },
    {
     "name": "stderr",
     "output_type": "stream",
     "text": [
      "Evaluating: 100%|██████████| 22/22 [00:00<00:00, 594.60it/s]\n"
     ]
    },
    {
     "name": "stdout",
     "output_type": "stream",
     "text": [
      "F1: 0.6745562130177515 | ROC/AUC: 0.7026717557251909 | RECALL: 0.6 | PRECISION: 0.7702702702702703 | ACCURACY: 0.6983546617915904\n",
      "Mean val loss: 0.560\n",
      "\n",
      "Epoch 34\n"
     ]
    },
    {
     "name": "stderr",
     "output_type": "stream",
     "text": [
      "Training: 100%|██████████| 303/303 [00:00<00:00, 563.20it/s]\n"
     ]
    },
    {
     "name": "stdout",
     "output_type": "stream",
     "text": [
      "Mean train loss: 0.547\n"
     ]
    },
    {
     "name": "stderr",
     "output_type": "stream",
     "text": [
      "Evaluating: 100%|██████████| 22/22 [00:00<00:00, 611.11it/s]\n"
     ]
    },
    {
     "name": "stdout",
     "output_type": "stream",
     "text": [
      "F1: 0.7391742195367573 | ROC/AUC: 0.7134150261149056 | RECALL: 0.7726315789473684 | PRECISION: 0.7084942084942085 | ACCURACY: 0.7159049360146252\n",
      "Mean val loss: 0.550\n",
      "\n",
      "Epoch 35\n"
     ]
    },
    {
     "name": "stderr",
     "output_type": "stream",
     "text": [
      "Training: 100%|██████████| 303/303 [00:00<00:00, 562.15it/s]\n"
     ]
    },
    {
     "name": "stdout",
     "output_type": "stream",
     "text": [
      "Mean train loss: 0.546\n"
     ]
    },
    {
     "name": "stderr",
     "output_type": "stream",
     "text": [
      "Evaluating: 100%|██████████| 22/22 [00:00<00:00, 550.00it/s]\n"
     ]
    },
    {
     "name": "stdout",
     "output_type": "stream",
     "text": [
      "F1: 0.7481066842278564 | ROC/AUC: 0.7169171019150931 | RECALL: 0.7971929824561403 | PRECISION: 0.7047146401985112 | ACCURACY: 0.720292504570384\n",
      "Mean val loss: 0.550\n",
      "\n",
      "Epoch 36\n"
     ]
    },
    {
     "name": "stderr",
     "output_type": "stream",
     "text": [
      "Training: 100%|██████████| 303/303 [00:00<00:00, 592.96it/s]\n"
     ]
    },
    {
     "name": "stdout",
     "output_type": "stream",
     "text": [
      "Mean train loss: 0.546\n"
     ]
    },
    {
     "name": "stderr",
     "output_type": "stream",
     "text": [
      "Evaluating: 100%|██████████| 22/22 [00:00<00:00, 578.97it/s]\n"
     ]
    },
    {
     "name": "stdout",
     "output_type": "stream",
     "text": [
      "F1: 0.7087770840984209 | ROC/AUC: 0.7114972545868488 | RECALL: 0.6771929824561403 | PRECISION: 0.7434514637904468 | ACCURACY: 0.710054844606947\n",
      "Mean val loss: 0.549\n",
      "\n",
      "Epoch 37\n"
     ]
    },
    {
     "name": "stderr",
     "output_type": "stream",
     "text": [
      "Training: 100%|██████████| 303/303 [00:00<00:00, 583.27it/s]\n"
     ]
    },
    {
     "name": "stdout",
     "output_type": "stream",
     "text": [
      "Mean train loss: 0.539\n"
     ]
    },
    {
     "name": "stderr",
     "output_type": "stream",
     "text": [
      "Evaluating: 100%|██████████| 22/22 [00:00<00:00, 564.10it/s]\n"
     ]
    },
    {
     "name": "stdout",
     "output_type": "stream",
     "text": [
      "F1: 0.7423004399748586 | ROC/AUC: 0.694538636668006 | RECALL: 0.8287719298245614 | PRECISION: 0.672168468981218 | ACCURACY: 0.70018281535649\n",
      "Mean val loss: 0.556\n",
      "\n",
      "Epoch 38\n"
     ]
    },
    {
     "name": "stderr",
     "output_type": "stream",
     "text": [
      "Training: 100%|██████████| 303/303 [00:00<00:00, 569.55it/s]\n"
     ]
    },
    {
     "name": "stdout",
     "output_type": "stream",
     "text": [
      "Mean train loss: 0.539\n"
     ]
    },
    {
     "name": "stderr",
     "output_type": "stream",
     "text": [
      "Evaluating: 100%|██████████| 22/22 [00:00<00:00, 578.96it/s]\n"
     ]
    },
    {
     "name": "stdout",
     "output_type": "stream",
     "text": [
      "F1: 0.745819397993311 | ROC/AUC: 0.7194723449845989 | RECALL: 0.7824561403508772 | PRECISION: 0.7124600638977636 | ACCURACY: 0.7221206581352834\n",
      "Mean val loss: 0.545\n",
      "\n",
      "Epoch 39\n"
     ]
    },
    {
     "name": "stderr",
     "output_type": "stream",
     "text": [
      "Training: 100%|██████████| 303/303 [00:00<00:00, 619.63it/s]\n"
     ]
    },
    {
     "name": "stdout",
     "output_type": "stream",
     "text": [
      "Mean train loss: 0.535\n"
     ]
    },
    {
     "name": "stderr",
     "output_type": "stream",
     "text": [
      "Evaluating: 100%|██████████| 22/22 [00:00<00:00, 611.12it/s]\n"
     ]
    },
    {
     "name": "stdout",
     "output_type": "stream",
     "text": [
      "F1: 0.7131608548931384 | ROC/AUC: 0.7226155082362394 | RECALL: 0.6673684210526316 | PRECISION: 0.7657004830917874 | ACCURACY: 0.720292504570384\n",
      "Mean val loss: 0.548\n",
      "\n",
      "Epoch 40\n"
     ]
    },
    {
     "name": "stderr",
     "output_type": "stream",
     "text": [
      "Training: 100%|██████████| 303/303 [00:00<00:00, 680.90it/s]\n"
     ]
    },
    {
     "name": "stdout",
     "output_type": "stream",
     "text": [
      "Mean train loss: 0.536\n"
     ]
    },
    {
     "name": "stderr",
     "output_type": "stream",
     "text": [
      "Evaluating: 100%|██████████| 22/22 [00:00<00:00, 500.00it/s]\n"
     ]
    },
    {
     "name": "stdout",
     "output_type": "stream",
     "text": [
      "F1: 0.728448275862069 | ROC/AUC: 0.7241100843712335 | RECALL: 0.7115789473684211 | PRECISION: 0.7461368653421634 | ACCURACY: 0.723583180987203\n",
      "Mean val loss: 0.541\n",
      "\n",
      "Epoch 41\n"
     ]
    },
    {
     "name": "stderr",
     "output_type": "stream",
     "text": [
      "Training: 100%|██████████| 303/303 [00:00<00:00, 643.31it/s]\n"
     ]
    },
    {
     "name": "stdout",
     "output_type": "stream",
     "text": [
      "Mean train loss: 0.537\n"
     ]
    },
    {
     "name": "stderr",
     "output_type": "stream",
     "text": [
      "Evaluating: 100%|██████████| 22/22 [00:00<00:00, 564.08it/s]\n"
     ]
    },
    {
     "name": "stdout",
     "output_type": "stream",
     "text": [
      "F1: 0.7279358132749818 | ROC/AUC: 0.7284197134056515 | RECALL: 0.7003508771929825 | PRECISION: 0.7577828397873956 | ACCURACY: 0.7272394881170018\n",
      "Mean val loss: 0.538\n",
      "\n",
      "Epoch 42\n"
     ]
    },
    {
     "name": "stderr",
     "output_type": "stream",
     "text": [
      "Training: 100%|██████████| 303/303 [00:00<00:00, 617.11it/s]\n"
     ]
    },
    {
     "name": "stdout",
     "output_type": "stream",
     "text": [
      "Mean train loss: 0.532\n"
     ]
    },
    {
     "name": "stderr",
     "output_type": "stream",
     "text": [
      "Evaluating: 100%|██████████| 22/22 [00:00<00:00, 578.95it/s]\n"
     ]
    },
    {
     "name": "stdout",
     "output_type": "stream",
     "text": [
      "F1: 0.731637405947689 | ROC/AUC: 0.7265662247221107 | RECALL: 0.7164912280701754 | PRECISION: 0.7474377745241582 | ACCURACY: 0.7261425959780622\n",
      "Mean val loss: 0.539\n",
      "\n",
      "Epoch 43\n"
     ]
    },
    {
     "name": "stderr",
     "output_type": "stream",
     "text": [
      "Training: 100%|██████████| 303/303 [00:00<00:00, 670.35it/s]\n"
     ]
    },
    {
     "name": "stdout",
     "output_type": "stream",
     "text": [
      "Mean train loss: 0.531\n"
     ]
    },
    {
     "name": "stderr",
     "output_type": "stream",
     "text": [
      "Evaluating: 100%|██████████| 22/22 [00:00<00:00, 666.64it/s]\n"
     ]
    },
    {
     "name": "stdout",
     "output_type": "stream",
     "text": [
      "F1: 0.7317073170731707 | ROC/AUC: 0.7269787063077542 | RECALL: 0.7157894736842105 | PRECISION: 0.7483492296404989 | ACCURACY: 0.7265082266910421\n",
      "Mean val loss: 0.540\n",
      "\n",
      "Epoch 44\n"
     ]
    },
    {
     "name": "stderr",
     "output_type": "stream",
     "text": [
      "Training: 100%|██████████| 303/303 [00:00<00:00, 679.34it/s]\n"
     ]
    },
    {
     "name": "stdout",
     "output_type": "stream",
     "text": [
      "Mean train loss: 0.529\n"
     ]
    },
    {
     "name": "stderr",
     "output_type": "stream",
     "text": [
      "Evaluating: 100%|██████████| 22/22 [00:00<00:00, 594.60it/s]\n"
     ]
    },
    {
     "name": "stdout",
     "output_type": "stream",
     "text": [
      "F1: 0.738898756660746 | ROC/AUC: 0.7313244944422125 | RECALL: 0.7298245614035088 | PRECISION: 0.7482014388489209 | ACCURACY: 0.7312614259597806\n",
      "Mean val loss: 0.534\n",
      "\n",
      "Epoch 45\n"
     ]
    },
    {
     "name": "stderr",
     "output_type": "stream",
     "text": [
      "Training: 100%|██████████| 303/303 [00:00<00:00, 674.21it/s]\n"
     ]
    },
    {
     "name": "stdout",
     "output_type": "stream",
     "text": [
      "Mean train loss: 0.529\n"
     ]
    },
    {
     "name": "stderr",
     "output_type": "stream",
     "text": [
      "Evaluating: 100%|██████████| 22/22 [00:00<00:00, 594.59it/s]\n"
     ]
    },
    {
     "name": "stdout",
     "output_type": "stream",
     "text": [
      "F1: 0.7260579064587973 | ROC/AUC: 0.7320891924467658 | RECALL: 0.6863157894736842 | PRECISION: 0.7706855791962175 | ACCURACY: 0.7301645338208409\n",
      "Mean val loss: 0.534\n",
      "\n",
      "Epoch 46\n"
     ]
    },
    {
     "name": "stderr",
     "output_type": "stream",
     "text": [
      "Training: 100%|██████████| 303/303 [00:00<00:00, 633.89it/s]\n"
     ]
    },
    {
     "name": "stdout",
     "output_type": "stream",
     "text": [
      "Mean train loss: 0.525\n"
     ]
    },
    {
     "name": "stderr",
     "output_type": "stream",
     "text": [
      "Evaluating: 100%|██████████| 22/22 [00:00<00:00, 611.11it/s]\n"
     ]
    },
    {
     "name": "stdout",
     "output_type": "stream",
     "text": [
      "F1: 0.7435618425825172 | ROC/AUC: 0.7424735502879336 | RECALL: 0.7192982456140351 | PRECISION: 0.7695195195195195 | ACCURACY: 0.7414990859232176\n",
      "Mean val loss: 0.531\n",
      "\n",
      "Epoch 47\n"
     ]
    },
    {
     "name": "stderr",
     "output_type": "stream",
     "text": [
      "Training: 100%|██████████| 303/303 [00:00<00:00, 673.34it/s]\n"
     ]
    },
    {
     "name": "stdout",
     "output_type": "stream",
     "text": [
      "Mean train loss: 0.520\n"
     ]
    },
    {
     "name": "stderr",
     "output_type": "stream",
     "text": [
      "Evaluating: 100%|██████████| 22/22 [00:00<00:00, 611.11it/s]\n"
     ]
    },
    {
     "name": "stdout",
     "output_type": "stream",
     "text": [
      "F1: 0.7511343804537521 | ROC/AUC: 0.7386125619391991 | RECALL: 0.7550877192982456 | PRECISION: 0.7472222222222222 | ACCURACY: 0.7393053016453383\n",
      "Mean val loss: 0.527\n",
      "\n",
      "Epoch 48\n"
     ]
    },
    {
     "name": "stderr",
     "output_type": "stream",
     "text": [
      "Training: 100%|██████████| 303/303 [00:00<00:00, 690.21it/s]\n"
     ]
    },
    {
     "name": "stdout",
     "output_type": "stream",
     "text": [
      "Mean train loss: 0.521\n"
     ]
    },
    {
     "name": "stderr",
     "output_type": "stream",
     "text": [
      "Evaluating: 100%|██████████| 22/22 [00:00<00:00, 578.96it/s]\n"
     ]
    },
    {
     "name": "stdout",
     "output_type": "stream",
     "text": [
      "F1: 0.7128790862544309 | ROC/AUC: 0.7377728672827105 | RECALL: 0.6350877192982456 | PRECISION: 0.8123877917414721 | ACCURACY: 0.7334552102376599\n",
      "Mean val loss: 0.541\n",
      "\n",
      "Epoch 49\n"
     ]
    },
    {
     "name": "stderr",
     "output_type": "stream",
     "text": [
      "Training: 100%|██████████| 303/303 [00:00<00:00, 673.33it/s]\n"
     ]
    },
    {
     "name": "stdout",
     "output_type": "stream",
     "text": [
      "Mean train loss: 0.521\n"
     ]
    },
    {
     "name": "stderr",
     "output_type": "stream",
     "text": [
      "Evaluating: 100%|██████████| 22/22 [00:00<00:00, 578.95it/s]\n"
     ]
    },
    {
     "name": "stdout",
     "output_type": "stream",
     "text": [
      "F1: 0.747180793015642 | ROC/AUC: 0.7469920985670282 | RECALL: 0.720701754385965 | PRECISION: 0.775679758308157 | ACCURACY: 0.7458866544789763\n",
      "Mean val loss: 0.530\n",
      "\n",
      "Epoch 50\n"
     ]
    },
    {
     "name": "stderr",
     "output_type": "stream",
     "text": [
      "Training: 100%|██████████| 303/303 [00:00<00:00, 680.90it/s]\n"
     ]
    },
    {
     "name": "stdout",
     "output_type": "stream",
     "text": [
      "Mean train loss: 0.514\n"
     ]
    },
    {
     "name": "stderr",
     "output_type": "stream",
     "text": [
      "Evaluating: 100%|██████████| 22/22 [00:00<00:00, 628.43it/s]\n"
     ]
    },
    {
     "name": "stdout",
     "output_type": "stream",
     "text": [
      "F1: 0.7595183859420761 | ROC/AUC: 0.7258858979509843 | RECALL: 0.8189473684210526 | PRECISION: 0.7081310679611651 | ACCURACY: 0.7297989031078611\n",
      "Mean val loss: 0.535\n",
      "\n",
      "Epoch 51\n"
     ]
    },
    {
     "name": "stderr",
     "output_type": "stream",
     "text": [
      "Training: 100%|██████████| 303/303 [00:00<00:00, 673.34it/s]\n"
     ]
    },
    {
     "name": "stdout",
     "output_type": "stream",
     "text": [
      "Mean train loss: 0.518\n"
     ]
    },
    {
     "name": "stderr",
     "output_type": "stream",
     "text": [
      "Evaluating: 100%|██████████| 22/22 [00:00<00:00, 578.95it/s]\n"
     ]
    },
    {
     "name": "stdout",
     "output_type": "stream",
     "text": [
      "F1: 0.7517128874388255 | ROC/AUC: 0.7179509843310566 | RECALL: 0.8084210526315789 | PRECISION: 0.7024390243902439 | ACCURACY: 0.7217550274223035\n",
      "Mean val loss: 0.537\n",
      "\n",
      "Epoch 52\n"
     ]
    },
    {
     "name": "stderr",
     "output_type": "stream",
     "text": [
      "Training: 100%|██████████| 303/303 [00:00<00:00, 691.78it/s]\n"
     ]
    },
    {
     "name": "stdout",
     "output_type": "stream",
     "text": [
      "Mean train loss: 0.517\n"
     ]
    },
    {
     "name": "stderr",
     "output_type": "stream",
     "text": [
      "Evaluating: 100%|██████████| 22/22 [00:00<00:00, 594.59it/s]\n"
     ]
    },
    {
     "name": "stdout",
     "output_type": "stream",
     "text": [
      "F1: 0.7554782608695653 | ROC/AUC: 0.7421213338690237 | RECALL: 0.7621052631578947 | PRECISION: 0.7489655172413793 | ACCURACY: 0.7429616087751371\n",
      "Mean val loss: 0.528\n",
      "\n",
      "Epoch 53\n"
     ]
    },
    {
     "name": "stderr",
     "output_type": "stream",
     "text": [
      "Training: 100%|██████████| 303/303 [00:00<00:00, 663.02it/s]\n"
     ]
    },
    {
     "name": "stdout",
     "output_type": "stream",
     "text": [
      "Mean train loss: 0.513\n"
     ]
    },
    {
     "name": "stderr",
     "output_type": "stream",
     "text": [
      "Evaluating: 100%|██████████| 22/22 [00:00<00:00, 628.57it/s]\n"
     ]
    },
    {
     "name": "stdout",
     "output_type": "stream",
     "text": [
      "F1: 0.7308567096285065 | ROC/AUC: 0.7432074460961565 | RECALL: 0.6764912280701755 | PRECISION: 0.7947238252267106 | ACCURACY: 0.7404021937842779\n",
      "Mean val loss: 0.526\n",
      "\n",
      "Epoch 54\n"
     ]
    },
    {
     "name": "stderr",
     "output_type": "stream",
     "text": [
      "Training: 100%|██████████| 303/303 [00:00<00:00, 688.70it/s]\n"
     ]
    },
    {
     "name": "stdout",
     "output_type": "stream",
     "text": [
      "Mean train loss: 0.512\n"
     ]
    },
    {
     "name": "stderr",
     "output_type": "stream",
     "text": [
      "Evaluating: 100%|██████████| 22/22 [00:00<00:00, 647.07it/s]\n"
     ]
    },
    {
     "name": "stdout",
     "output_type": "stream",
     "text": [
      "F1: 0.7387061799783159 | ROC/AUC: 0.7364590866479175 | RECALL: 0.7171929824561404 | PRECISION: 0.7615499254843517 | ACCURACY: 0.7356489945155393\n",
      "Mean val loss: 0.531\n",
      "\n",
      "Epoch 55\n"
     ]
    },
    {
     "name": "stderr",
     "output_type": "stream",
     "text": [
      "Training: 100%|██████████| 303/303 [00:00<00:00, 644.25it/s]\n"
     ]
    },
    {
     "name": "stdout",
     "output_type": "stream",
     "text": [
      "Mean train loss: 0.508\n"
     ]
    },
    {
     "name": "stderr",
     "output_type": "stream",
     "text": [
      "Evaluating: 100%|██████████| 22/22 [00:00<00:00, 536.59it/s]\n"
     ]
    },
    {
     "name": "stdout",
     "output_type": "stream",
     "text": [
      "F1: 0.757162346521146 | ROC/AUC: 0.7379469666532744 | RECALL: 0.7789473684210526 | PRECISION: 0.7365627073656271 | ACCURACY: 0.739670932358318\n",
      "Mean val loss: 0.523\n",
      "\n",
      "Epoch 56\n"
     ]
    },
    {
     "name": "stderr",
     "output_type": "stream",
     "text": [
      "Training: 100%|██████████| 303/303 [00:00<00:00, 636.76it/s]\n"
     ]
    },
    {
     "name": "stdout",
     "output_type": "stream",
     "text": [
      "Mean train loss: 0.507\n"
     ]
    },
    {
     "name": "stderr",
     "output_type": "stream",
     "text": [
      "Evaluating: 100%|██████████| 22/22 [00:00<00:00, 611.12it/s]\n"
     ]
    },
    {
     "name": "stdout",
     "output_type": "stream",
     "text": [
      "F1: 0.72556684910086 | ROC/AUC: 0.747369760278559 | RECALL: 0.6512280701754386 | PRECISION: 0.8190644307149162 | ACCURACY: 0.743327239488117\n",
      "Mean val loss: 0.525\n",
      "\n",
      "Epoch 57\n"
     ]
    },
    {
     "name": "stderr",
     "output_type": "stream",
     "text": [
      "Training: 100%|██████████| 303/303 [00:00<00:00, 582.69it/s]\n"
     ]
    },
    {
     "name": "stdout",
     "output_type": "stream",
     "text": [
      "Mean train loss: 0.508\n"
     ]
    },
    {
     "name": "stderr",
     "output_type": "stream",
     "text": [
      "Evaluating: 100%|██████████| 22/22 [00:00<00:00, 564.12it/s]\n"
     ]
    },
    {
     "name": "stdout",
     "output_type": "stream",
     "text": [
      "F1: 0.7644263408010862 | ROC/AUC: 0.7443243605196197 | RECALL: 0.7901754385964912 | PRECISION: 0.740302432610125 | ACCURACY: 0.7462522851919561\n",
      "Mean val loss: 0.523\n",
      "\n",
      "Epoch 58\n"
     ]
    },
    {
     "name": "stderr",
     "output_type": "stream",
     "text": [
      "Training: 100%|██████████| 303/303 [00:00<00:00, 573.86it/s]\n"
     ]
    },
    {
     "name": "stdout",
     "output_type": "stream",
     "text": [
      "Mean train loss: 0.508\n"
     ]
    },
    {
     "name": "stderr",
     "output_type": "stream",
     "text": [
      "Evaluating: 100%|██████████| 22/22 [00:00<00:00, 564.12it/s]\n"
     ]
    },
    {
     "name": "stdout",
     "output_type": "stream",
     "text": [
      "F1: 0.7413984461709212 | ROC/AUC: 0.7462354359180394 | RECALL: 0.7031578947368421 | PRECISION: 0.784037558685446 | ACCURACY: 0.7444241316270567\n",
      "Mean val loss: 0.523\n",
      "\n",
      "Epoch 59\n"
     ]
    },
    {
     "name": "stderr",
     "output_type": "stream",
     "text": [
      "Training: 100%|██████████| 303/303 [00:00<00:00, 576.05it/s]\n"
     ]
    },
    {
     "name": "stdout",
     "output_type": "stream",
     "text": [
      "Mean train loss: 0.503\n"
     ]
    },
    {
     "name": "stderr",
     "output_type": "stream",
     "text": [
      "Evaluating: 100%|██████████| 22/22 [00:00<00:00, 536.61it/s]\n"
     ]
    },
    {
     "name": "stdout",
     "output_type": "stream",
     "text": [
      "F1: 0.7551219512195122 | ROC/AUC: 0.7207271996785858 | RECALL: 0.8147368421052632 | PRECISION: 0.7036363636363636 | ACCURACY: 0.7246800731261426\n",
      "Mean val loss: 0.535\n",
      "\n",
      "Epoch 60\n"
     ]
    },
    {
     "name": "stderr",
     "output_type": "stream",
     "text": [
      "Training: 100%|██████████| 303/303 [00:00<00:00, 572.78it/s]\n"
     ]
    },
    {
     "name": "stdout",
     "output_type": "stream",
     "text": [
      "Mean train loss: 0.505\n"
     ]
    },
    {
     "name": "stderr",
     "output_type": "stream",
     "text": [
      "Evaluating: 100%|██████████| 22/22 [00:00<00:00, 578.95it/s]\n"
     ]
    },
    {
     "name": "stdout",
     "output_type": "stream",
     "text": [
      "F1: 0.7424876378851274 | ROC/AUC: 0.7554332395875185 | RECALL: 0.6849122807017544 | PRECISION: 0.8106312292358804 | ACCURACY: 0.7524680073126142\n",
      "Mean val loss: 0.521\n",
      "\n",
      "Epoch 61\n"
     ]
    },
    {
     "name": "stderr",
     "output_type": "stream",
     "text": [
      "Training: 100%|██████████| 303/303 [00:00<00:00, 598.82it/s]\n"
     ]
    },
    {
     "name": "stdout",
     "output_type": "stream",
     "text": [
      "Mean train loss: 0.499\n"
     ]
    },
    {
     "name": "stderr",
     "output_type": "stream",
     "text": [
      "Evaluating: 100%|██████████| 22/22 [00:00<00:00, 594.61it/s]\n"
     ]
    },
    {
     "name": "stdout",
     "output_type": "stream",
     "text": [
      "F1: 0.7647654404319946 | ROC/AUC: 0.742963706977367 | RECALL: 0.7950877192982456 | PRECISION: 0.7366710013003901 | ACCURACY: 0.7451553930530165\n",
      "Mean val loss: 0.522\n",
      "\n",
      "Epoch 62\n"
     ]
    },
    {
     "name": "stderr",
     "output_type": "stream",
     "text": [
      "Training: 100%|██████████| 303/303 [00:00<00:00, 590.65it/s]\n"
     ]
    },
    {
     "name": "stdout",
     "output_type": "stream",
     "text": [
      "Mean train loss: 0.501\n"
     ]
    },
    {
     "name": "stderr",
     "output_type": "stream",
     "text": [
      "Evaluating: 100%|██████████| 22/22 [00:00<00:00, 511.64it/s]\n"
     ]
    },
    {
     "name": "stdout",
     "output_type": "stream",
     "text": [
      "F1: 0.7529498525073747 | ROC/AUC: 0.7567188964778359 | RECALL: 0.7164912280701754 | PRECISION: 0.7933177933177933 | ACCURACY: 0.7550274223034735\n",
      "Mean val loss: 0.516\n",
      "\n",
      "Epoch 63\n"
     ]
    },
    {
     "name": "stderr",
     "output_type": "stream",
     "text": [
      "Training: 100%|██████████| 303/303 [00:00<00:00, 569.55it/s]\n"
     ]
    },
    {
     "name": "stdout",
     "output_type": "stream",
     "text": [
      "Mean train loss: 0.499\n"
     ]
    },
    {
     "name": "stderr",
     "output_type": "stream",
     "text": [
      "Evaluating: 100%|██████████| 22/22 [00:00<00:00, 354.84it/s]\n"
     ]
    },
    {
     "name": "stdout",
     "output_type": "stream",
     "text": [
      "F1: 0.7658688865764828 | ROC/AUC: 0.7522539172358377 | RECALL: 0.7747368421052632 | PRECISION: 0.757201646090535 | ACCURACY: 0.753199268738574\n",
      "Mean val loss: 0.512\n",
      "\n",
      "Epoch 64\n"
     ]
    },
    {
     "name": "stderr",
     "output_type": "stream",
     "text": [
      "Training: 100%|██████████| 303/303 [00:00<00:00, 671.84it/s]\n"
     ]
    },
    {
     "name": "stdout",
     "output_type": "stream",
     "text": [
      "Mean train loss: 0.494\n"
     ]
    },
    {
     "name": "stderr",
     "output_type": "stream",
     "text": [
      "Evaluating: 100%|██████████| 22/22 [00:00<00:00, 550.01it/s]\n"
     ]
    },
    {
     "name": "stdout",
     "output_type": "stream",
     "text": [
      "F1: 0.755192878338279 | ROC/AUC: 0.7606280969599571 | RECALL: 0.7143859649122807 | PRECISION: 0.8009441384736428 | ACCURACY: 0.7586837294332724\n",
      "Mean val loss: 0.516\n",
      "\n",
      "Epoch 65\n"
     ]
    },
    {
     "name": "stderr",
     "output_type": "stream",
     "text": [
      "Training: 100%|██████████| 303/303 [00:00<00:00, 643.31it/s]\n"
     ]
    },
    {
     "name": "stdout",
     "output_type": "stream",
     "text": [
      "Mean train loss: 0.497\n"
     ]
    },
    {
     "name": "stderr",
     "output_type": "stream",
     "text": [
      "Evaluating: 100%|██████████| 22/22 [00:00<00:00, 578.96it/s]\n"
     ]
    },
    {
     "name": "stdout",
     "output_type": "stream",
     "text": [
      "F1: 0.7573449401523396 | ROC/AUC: 0.7563921253515468 | RECALL: 0.7326315789473684 | PRECISION: 0.7837837837837838 | ACCURACY: 0.7553930530164534\n",
      "Mean val loss: 0.515\n",
      "\n",
      "Epoch 66\n"
     ]
    },
    {
     "name": "stderr",
     "output_type": "stream",
     "text": [
      "Training: 100%|██████████| 303/303 [00:00<00:00, 578.24it/s]\n"
     ]
    },
    {
     "name": "stdout",
     "output_type": "stream",
     "text": [
      "Mean train loss: 0.490\n"
     ]
    },
    {
     "name": "stderr",
     "output_type": "stream",
     "text": [
      "Evaluating: 100%|██████████| 22/22 [00:00<00:00, 594.61it/s]\n"
     ]
    },
    {
     "name": "stdout",
     "output_type": "stream",
     "text": [
      "F1: 0.7705903145987981 | ROC/AUC: 0.7626088121066025 | RECALL: 0.7649122807017544 | PRECISION: 0.7763532763532763 | ACCURACY: 0.7627056672760512\n",
      "Mean val loss: 0.508\n",
      "\n",
      "Epoch 67\n"
     ]
    },
    {
     "name": "stderr",
     "output_type": "stream",
     "text": [
      "Training: 100%|██████████| 303/303 [00:00<00:00, 604.79it/s]\n"
     ]
    },
    {
     "name": "stdout",
     "output_type": "stream",
     "text": [
      "Mean train loss: 0.493\n"
     ]
    },
    {
     "name": "stderr",
     "output_type": "stream",
     "text": [
      "Evaluating: 100%|██████████| 22/22 [00:00<00:00, 550.01it/s]\n"
     ]
    },
    {
     "name": "stdout",
     "output_type": "stream",
     "text": [
      "F1: 0.7697795071335928 | ROC/AUC: 0.7363385563144502 | RECALL: 0.8329824561403508 | PRECISION: 0.7154912597950572 | ACCURACY: 0.7404021937842779\n",
      "Mean val loss: 0.529\n",
      "\n",
      "Epoch 68\n"
     ]
    },
    {
     "name": "stderr",
     "output_type": "stream",
     "text": [
      "Training: 100%|██████████| 303/303 [00:00<00:00, 618.03it/s]\n"
     ]
    },
    {
     "name": "stdout",
     "output_type": "stream",
     "text": [
      "Mean train loss: 0.492\n"
     ]
    },
    {
     "name": "stderr",
     "output_type": "stream",
     "text": [
      "Evaluating: 100%|██████████| 22/22 [00:00<00:00, 666.69it/s]\n"
     ]
    },
    {
     "name": "stdout",
     "output_type": "stream",
     "text": [
      "F1: 0.7692842251563586 | ROC/AUC: 0.7563599839292889 | RECALL: 0.7768421052631579 | PRECISION: 0.7618719889883001 | ACCURACY: 0.7572212065813528\n",
      "Mean val loss: 0.511\n",
      "\n",
      "Epoch 69\n"
     ]
    },
    {
     "name": "stderr",
     "output_type": "stream",
     "text": [
      "Training: 100%|██████████| 303/303 [00:00<00:00, 608.43it/s]\n"
     ]
    },
    {
     "name": "stdout",
     "output_type": "stream",
     "text": [
      "Mean train loss: 0.490\n"
     ]
    },
    {
     "name": "stderr",
     "output_type": "stream",
     "text": [
      "Evaluating: 100%|██████████| 22/22 [00:00<00:00, 628.57it/s]\n"
     ]
    },
    {
     "name": "stdout",
     "output_type": "stream",
     "text": [
      "F1: 0.7754045307443366 | ROC/AUC: 0.7421066023838223 | RECALL: 0.840701754385965 | PRECISION: 0.7195195195195195 | ACCURACY: 0.7462522851919561\n",
      "Mean val loss: 0.516\n",
      "\n",
      "Epoch 70\n"
     ]
    },
    {
     "name": "stderr",
     "output_type": "stream",
     "text": [
      "Training: 100%|██████████| 303/303 [00:00<00:00, 608.43it/s]\n"
     ]
    },
    {
     "name": "stdout",
     "output_type": "stream",
     "text": [
      "Mean train loss: 0.488\n"
     ]
    },
    {
     "name": "stderr",
     "output_type": "stream",
     "text": [
      "Evaluating: 100%|██████████| 22/22 [00:00<00:00, 611.11it/s]\n"
     ]
    },
    {
     "name": "stdout",
     "output_type": "stream",
     "text": [
      "F1: 0.7733050847457628 | ROC/AUC: 0.7651265568501406 | RECALL: 0.7684210526315789 | PRECISION: 0.7782515991471215 | ACCURACY: 0.7652650822669104\n",
      "Mean val loss: 0.505\n",
      "\n",
      "Epoch 71\n"
     ]
    },
    {
     "name": "stderr",
     "output_type": "stream",
     "text": [
      "Training: 100%|██████████| 303/303 [00:00<00:00, 600.00it/s]\n"
     ]
    },
    {
     "name": "stdout",
     "output_type": "stream",
     "text": [
      "Mean train loss: 0.485\n"
     ]
    },
    {
     "name": "stderr",
     "output_type": "stream",
     "text": [
      "Evaluating: 100%|██████████| 22/22 [00:00<00:00, 594.56it/s]\n"
     ]
    },
    {
     "name": "stdout",
     "output_type": "stream",
     "text": [
      "F1: 0.7745583038869258 | ROC/AUC: 0.766622472211062 | RECALL: 0.7691228070175439 | PRECISION: 0.7800711743772242 | ACCURACY: 0.76672760511883\n",
      "Mean val loss: 0.504\n",
      "\n",
      "Epoch 72\n"
     ]
    },
    {
     "name": "stderr",
     "output_type": "stream",
     "text": [
      "Training: 100%|██████████| 303/303 [00:00<00:00, 597.18it/s]\n"
     ]
    },
    {
     "name": "stdout",
     "output_type": "stream",
     "text": [
      "Mean train loss: 0.487\n"
     ]
    },
    {
     "name": "stderr",
     "output_type": "stream",
     "text": [
      "Evaluating: 100%|██████████| 22/22 [00:00<00:00, 611.11it/s]\n"
     ]
    },
    {
     "name": "stdout",
     "output_type": "stream",
     "text": [
      "F1: 0.7611009174311927 | ROC/AUC: 0.763477969733494 | RECALL: 0.727719298245614 | PRECISION: 0.7976923076923077 | ACCURACY: 0.7619744058500915\n",
      "Mean val loss: 0.506\n",
      "\n",
      "Epoch 73\n"
     ]
    },
    {
     "name": "stderr",
     "output_type": "stream",
     "text": [
      "Training: 100%|██████████| 303/303 [00:00<00:00, 615.86it/s]\n"
     ]
    },
    {
     "name": "stdout",
     "output_type": "stream",
     "text": [
      "Mean train loss: 0.484\n"
     ]
    },
    {
     "name": "stderr",
     "output_type": "stream",
     "text": [
      "Evaluating: 100%|██████████| 22/22 [00:00<00:00, 611.11it/s]\n"
     ]
    },
    {
     "name": "stdout",
     "output_type": "stream",
     "text": [
      "F1: 0.7801980198019802 | ROC/AUC: 0.7532864604258739 | RECALL: 0.8294736842105264 | PRECISION: 0.7364485981308411 | ACCURACY: 0.756489945155393\n",
      "Mean val loss: 0.512\n",
      "\n",
      "Epoch 74\n"
     ]
    },
    {
     "name": "stderr",
     "output_type": "stream",
     "text": [
      "Training: 100%|██████████| 303/303 [00:00<00:00, 608.44it/s]\n"
     ]
    },
    {
     "name": "stdout",
     "output_type": "stream",
     "text": [
      "Mean train loss: 0.481\n"
     ]
    },
    {
     "name": "stderr",
     "output_type": "stream",
     "text": [
      "Evaluating: 100%|██████████| 22/22 [00:00<00:00, 564.10it/s]\n"
     ]
    },
    {
     "name": "stdout",
     "output_type": "stream",
     "text": [
      "F1: 0.7165644171779141 | ROC/AUC: 0.7524065889915629 | RECALL: 0.6147368421052631 | PRECISION: 0.8588235294117647 | ACCURACY: 0.746617915904936\n",
      "Mean val loss: 0.521\n",
      "\n",
      "Epoch 75\n"
     ]
    },
    {
     "name": "stderr",
     "output_type": "stream",
     "text": [
      "Training: 100%|██████████| 303/303 [00:00<00:00, 643.31it/s]\n"
     ]
    },
    {
     "name": "stdout",
     "output_type": "stream",
     "text": [
      "Mean train loss: 0.477\n"
     ]
    },
    {
     "name": "stderr",
     "output_type": "stream",
     "text": [
      "Evaluating: 100%|██████████| 22/22 [00:00<00:00, 611.11it/s]\n"
     ]
    },
    {
     "name": "stdout",
     "output_type": "stream",
     "text": [
      "F1: 0.7760989010989011 | ROC/AUC: 0.7602316860854426 | RECALL: 0.7929824561403509 | PRECISION: 0.7599193006052455 | ACCURACY: 0.7616087751371116\n",
      "Mean val loss: 0.504\n",
      "\n",
      "Epoch 76\n"
     ]
    },
    {
     "name": "stderr",
     "output_type": "stream",
     "text": [
      "Training: 100%|██████████| 303/303 [00:00<00:00, 606.00it/s]\n"
     ]
    },
    {
     "name": "stdout",
     "output_type": "stream",
     "text": [
      "Mean train loss: 0.474\n"
     ]
    },
    {
     "name": "stderr",
     "output_type": "stream",
     "text": [
      "Evaluating: 100%|██████████| 22/22 [00:00<00:00, 564.10it/s]\n"
     ]
    },
    {
     "name": "stdout",
     "output_type": "stream",
     "text": [
      "F1: 0.7732418524871355 | ROC/AUC: 0.7568889781706175 | RECALL: 0.7908771929824562 | PRECISION: 0.7563758389261745 | ACCURACY: 0.7583180987202925\n",
      "Mean val loss: 0.501\n",
      "\n",
      "Epoch 77\n"
     ]
    },
    {
     "name": "stderr",
     "output_type": "stream",
     "text": [
      "Training: 100%|██████████| 303/303 [00:00<00:00, 612.12it/s]\n"
     ]
    },
    {
     "name": "stdout",
     "output_type": "stream",
     "text": [
      "Mean train loss: 0.480\n"
     ]
    },
    {
     "name": "stderr",
     "output_type": "stream",
     "text": [
      "Evaluating: 100%|██████████| 22/22 [00:00<00:00, 523.87it/s]\n"
     ]
    },
    {
     "name": "stdout",
     "output_type": "stream",
     "text": [
      "F1: 0.776338816940847 | ROC/AUC: 0.7658403642694521 | RECALL: 0.7782456140350877 | PRECISION: 0.7744413407821229 | ACCURACY: 0.7663619744058501\n",
      "Mean val loss: 0.500\n",
      "\n",
      "Epoch 78\n"
     ]
    },
    {
     "name": "stderr",
     "output_type": "stream",
     "text": [
      "Training: 100%|██████████| 303/303 [00:00<00:00, 615.85it/s]\n"
     ]
    },
    {
     "name": "stdout",
     "output_type": "stream",
     "text": [
      "Mean train loss: 0.474\n"
     ]
    },
    {
     "name": "stderr",
     "output_type": "stream",
     "text": [
      "Evaluating: 100%|██████████| 22/22 [00:00<00:00, 594.62it/s]\n"
     ]
    },
    {
     "name": "stdout",
     "output_type": "stream",
     "text": [
      "F1: 0.7436199450333726 | ROC/AUC: 0.7654868086246149 | RECALL: 0.6645614035087719 | PRECISION: 0.8440285204991087 | ACCURACY: 0.7612431444241317\n",
      "Mean val loss: 0.511\n",
      "\n",
      "Epoch 79\n"
     ]
    },
    {
     "name": "stderr",
     "output_type": "stream",
     "text": [
      "Training: 100%|██████████| 303/303 [00:00<00:00, 617.11it/s]\n"
     ]
    },
    {
     "name": "stdout",
     "output_type": "stream",
     "text": [
      "Mean train loss: 0.476\n"
     ]
    },
    {
     "name": "stderr",
     "output_type": "stream",
     "text": [
      "Evaluating: 100%|██████████| 22/22 [00:00<00:00, 628.58it/s]\n"
     ]
    },
    {
     "name": "stdout",
     "output_type": "stream",
     "text": [
      "F1: 0.7839831401475237 | ROC/AUC: 0.77478505423865 | RECALL: 0.783157894736842 | PRECISION: 0.7848101265822784 | ACCURACY: 0.7751371115173674\n",
      "Mean val loss: 0.500\n",
      "\n",
      "Epoch 80\n"
     ]
    },
    {
     "name": "stderr",
     "output_type": "stream",
     "text": [
      "Training: 100%|██████████| 303/303 [00:00<00:00, 633.89it/s]\n"
     ]
    },
    {
     "name": "stdout",
     "output_type": "stream",
     "text": [
      "Mean train loss: 0.475\n"
     ]
    },
    {
     "name": "stderr",
     "output_type": "stream",
     "text": [
      "Evaluating: 100%|██████████| 22/22 [00:00<00:00, 415.09it/s]\n"
     ]
    },
    {
     "name": "stdout",
     "output_type": "stream",
     "text": [
      "F1: 0.768893756845564 | ROC/AUC: 0.7698553635998393 | RECALL: 0.7389473684210527 | PRECISION: 0.8013698630136986 | ACCURACY: 0.7685557586837294\n",
      "Mean val loss: 0.503\n",
      "\n",
      "Epoch 81\n"
     ]
    },
    {
     "name": "stderr",
     "output_type": "stream",
     "text": [
      "Training: 100%|██████████| 303/303 [00:00<00:00, 658.70it/s]\n"
     ]
    },
    {
     "name": "stdout",
     "output_type": "stream",
     "text": [
      "Mean train loss: 0.475\n"
     ]
    },
    {
     "name": "stderr",
     "output_type": "stream",
     "text": [
      "Evaluating: 100%|██████████| 22/22 [00:00<00:00, 647.05it/s]\n"
     ]
    },
    {
     "name": "stdout",
     "output_type": "stream",
     "text": [
      "F1: 0.6999161777032691 | ROC/AUC: 0.7448908530869158 | RECALL: 0.5859649122807018 | PRECISION: 0.8688865764828304 | ACCURACY: 0.7382084095063985\n",
      "Mean val loss: 0.529\n",
      "\n",
      "Epoch 82\n"
     ]
    },
    {
     "name": "stderr",
     "output_type": "stream",
     "text": [
      "Training: 100%|██████████| 303/303 [00:00<00:00, 597.63it/s]\n"
     ]
    },
    {
     "name": "stdout",
     "output_type": "stream",
     "text": [
      "Mean train loss: 0.472\n"
     ]
    },
    {
     "name": "stderr",
     "output_type": "stream",
     "text": [
      "Evaluating: 100%|██████████| 22/22 [00:00<00:00, 611.15it/s]\n"
     ]
    },
    {
     "name": "stdout",
     "output_type": "stream",
     "text": [
      "F1: 0.7649043869516311 | ROC/AUC: 0.7731619124146243 | RECALL: 0.7157894736842105 | PRECISION: 0.821256038647343 | ACCURACY: 0.7707495429616088\n",
      "Mean val loss: 0.504\n",
      "\n",
      "Epoch 83\n"
     ]
    },
    {
     "name": "stderr",
     "output_type": "stream",
     "text": [
      "Training: 100%|██████████| 303/303 [00:00<00:00, 589.49it/s]\n"
     ]
    },
    {
     "name": "stdout",
     "output_type": "stream",
     "text": [
      "Mean train loss: 0.469\n"
     ]
    },
    {
     "name": "stderr",
     "output_type": "stream",
     "text": [
      "Evaluating: 100%|██████████| 22/22 [00:00<00:00, 594.59it/s]\n"
     ]
    },
    {
     "name": "stdout",
     "output_type": "stream",
     "text": [
      "F1: 0.7748320961470484 | ROC/AUC: 0.7670041516003749 | RECALL: 0.7691228070175439 | PRECISION: 0.7806267806267806 | ACCURACY: 0.7670932358318099\n",
      "Mean val loss: 0.499\n",
      "\n",
      "Epoch 84\n"
     ]
    },
    {
     "name": "stderr",
     "output_type": "stream",
     "text": [
      "Training: 100%|██████████| 303/303 [00:00<00:00, 644.68it/s]\n"
     ]
    },
    {
     "name": "stdout",
     "output_type": "stream",
     "text": [
      "Mean train loss: 0.468\n"
     ]
    },
    {
     "name": "stderr",
     "output_type": "stream",
     "text": [
      "Evaluating: 100%|██████████| 22/22 [00:00<00:00, 550.01it/s]\n"
     ]
    },
    {
     "name": "stdout",
     "output_type": "stream",
     "text": [
      "F1: 0.7758132956152758 | ROC/AUC: 0.7681183875719834 | RECALL: 0.7698245614035087 | PRECISION: 0.781895937277263 | ACCURACY: 0.7681901279707496\n",
      "Mean val loss: 0.496\n",
      "\n",
      "Epoch 85\n"
     ]
    },
    {
     "name": "stderr",
     "output_type": "stream",
     "text": [
      "Training: 100%|██████████| 303/303 [00:00<00:00, 578.24it/s]\n"
     ]
    },
    {
     "name": "stdout",
     "output_type": "stream",
     "text": [
      "Mean train loss: 0.463\n"
     ]
    },
    {
     "name": "stderr",
     "output_type": "stream",
     "text": [
      "Evaluating: 100%|██████████| 22/22 [00:00<00:00, 611.12it/s]\n"
     ]
    },
    {
     "name": "stdout",
     "output_type": "stream",
     "text": [
      "F1: 0.7819201583635764 | ROC/AUC: 0.7551024507834472 | RECALL: 0.8315789473684211 | PRECISION: 0.7378580323785803 | ACCURACY: 0.7583180987202925\n",
      "Mean val loss: 0.499\n",
      "\n",
      "Epoch 86\n"
     ]
    },
    {
     "name": "stderr",
     "output_type": "stream",
     "text": [
      "Training: 100%|██████████| 303/303 [00:00<00:00, 586.07it/s]\n"
     ]
    },
    {
     "name": "stdout",
     "output_type": "stream",
     "text": [
      "Mean train loss: 0.468\n"
     ]
    },
    {
     "name": "stderr",
     "output_type": "stream",
     "text": [
      "Evaluating: 100%|██████████| 22/22 [00:00<00:00, 549.99it/s]\n"
     ]
    },
    {
     "name": "stdout",
     "output_type": "stream",
     "text": [
      "F1: 0.7855404935696907 | ROC/AUC: 0.7735904647113968 | RECALL: 0.7929824561403509 | PRECISION: 0.778236914600551 | ACCURACY: 0.7744058500914077\n",
      "Mean val loss: 0.494\n",
      "\n",
      "Epoch 87\n"
     ]
    },
    {
     "name": "stderr",
     "output_type": "stream",
     "text": [
      "Training: 100%|██████████| 303/303 [00:00<00:00, 658.70it/s]\n"
     ]
    },
    {
     "name": "stdout",
     "output_type": "stream",
     "text": [
      "Mean train loss: 0.465\n"
     ]
    },
    {
     "name": "stderr",
     "output_type": "stream",
     "text": [
      "Evaluating: 100%|██████████| 22/22 [00:00<00:00, 564.12it/s]\n"
     ]
    },
    {
     "name": "stdout",
     "output_type": "stream",
     "text": [
      "F1: 0.7779702112919986 | ROC/AUC: 0.764645774742199 | RECALL: 0.7880701754385965 | PRECISION: 0.7681258549931601 | ACCURACY: 0.7656307129798903\n",
      "Mean val loss: 0.496\n",
      "\n",
      "Epoch 88\n"
     ]
    },
    {
     "name": "stderr",
     "output_type": "stream",
     "text": [
      "Training: 100%|██████████| 303/303 [00:00<00:00, 591.80it/s]\n"
     ]
    },
    {
     "name": "stdout",
     "output_type": "stream",
     "text": [
      "Mean train loss: 0.471\n"
     ]
    },
    {
     "name": "stderr",
     "output_type": "stream",
     "text": [
      "Evaluating: 100%|██████████| 22/22 [00:00<00:00, 628.60it/s]\n"
     ]
    },
    {
     "name": "stdout",
     "output_type": "stream",
     "text": [
      "F1: 0.7807196198234895 | ROC/AUC: 0.7619057184947101 | RECALL: 0.8070175438596491 | PRECISION: 0.7560815253122946 | ACCURACY: 0.7638025594149909\n",
      "Mean val loss: 0.494\n",
      "\n",
      "Epoch 89\n"
     ]
    },
    {
     "name": "stderr",
     "output_type": "stream",
     "text": [
      "Training: 100%|██████████| 303/303 [00:00<00:00, 639.24it/s]\n"
     ]
    },
    {
     "name": "stdout",
     "output_type": "stream",
     "text": [
      "Mean train loss: 0.462\n"
     ]
    },
    {
     "name": "stderr",
     "output_type": "stream",
     "text": [
      "Evaluating: 100%|██████████| 22/22 [00:00<00:00, 578.97it/s]\n"
     ]
    },
    {
     "name": "stdout",
     "output_type": "stream",
     "text": [
      "F1: 0.7877591312931885 | ROC/AUC: 0.7608396946564885 | RECALL: 0.84 | PRECISION: 0.741635687732342 | ACCURACY: 0.7641681901279708\n",
      "Mean val loss: 0.499\n",
      "\n",
      "Epoch 90\n"
     ]
    },
    {
     "name": "stderr",
     "output_type": "stream",
     "text": [
      "Training: 100%|██████████| 303/303 [00:00<00:00, 600.00it/s]\n"
     ]
    },
    {
     "name": "stdout",
     "output_type": "stream",
     "text": [
      "Mean train loss: 0.462\n"
     ]
    },
    {
     "name": "stderr",
     "output_type": "stream",
     "text": [
      "Evaluating: 100%|██████████| 22/22 [00:00<00:00, 628.58it/s]\n"
     ]
    },
    {
     "name": "stdout",
     "output_type": "stream",
     "text": [
      "F1: 0.7857854533377615 | ROC/AUC: 0.7612709254051159 | RECALL: 0.8301754385964912 | PRECISION: 0.7459016393442623 | ACCURACY: 0.7641681901279708\n",
      "Mean val loss: 0.494\n",
      "\n",
      "Epoch 91\n"
     ]
    },
    {
     "name": "stderr",
     "output_type": "stream",
     "text": [
      "Training: 100%|██████████| 303/303 [00:00<00:00, 608.72it/s]\n"
     ]
    },
    {
     "name": "stdout",
     "output_type": "stream",
     "text": [
      "Mean train loss: 0.467\n"
     ]
    },
    {
     "name": "stderr",
     "output_type": "stream",
     "text": [
      "Evaluating: 100%|██████████| 22/22 [00:00<00:00, 611.13it/s]\n"
     ]
    },
    {
     "name": "stdout",
     "output_type": "stream",
     "text": [
      "F1: 0.7857911733046287 | ROC/AUC: 0.7823021293692245 | RECALL: 0.7684210526315789 | PRECISION: 0.8039647577092511 | ACCURACY: 0.7817184643510054\n",
      "Mean val loss: 0.486\n",
      "\n",
      "Epoch 92\n"
     ]
    },
    {
     "name": "stderr",
     "output_type": "stream",
     "text": [
      "Training: 100%|██████████| 303/303 [00:00<00:00, 601.19it/s]\n"
     ]
    },
    {
     "name": "stdout",
     "output_type": "stream",
     "text": [
      "Mean train loss: 0.458\n"
     ]
    },
    {
     "name": "stderr",
     "output_type": "stream",
     "text": [
      "Evaluating: 100%|██████████| 22/22 [00:00<00:00, 594.61it/s]\n"
     ]
    },
    {
     "name": "stdout",
     "output_type": "stream",
     "text": [
      "F1: 0.7883263009845288 | ROC/AUC: 0.7795928753180662 | RECALL: 0.7866666666666666 | PRECISION: 0.7899929527836504 | ACCURACY: 0.779890310786106\n",
      "Mean val loss: 0.487\n",
      "\n",
      "Epoch 93\n"
     ]
    },
    {
     "name": "stderr",
     "output_type": "stream",
     "text": [
      "Training: 100%|██████████| 303/303 [00:00<00:00, 609.66it/s]\n"
     ]
    },
    {
     "name": "stdout",
     "output_type": "stream",
     "text": [
      "Mean train loss: 0.459\n"
     ]
    },
    {
     "name": "stderr",
     "output_type": "stream",
     "text": [
      "Evaluating: 100%|██████████| 22/22 [00:00<00:00, 564.10it/s]\n"
     ]
    },
    {
     "name": "stdout",
     "output_type": "stream",
     "text": [
      "F1: 0.7591960561243838 | ROC/AUC: 0.7706937190304005 | RECALL: 0.7024561403508772 | PRECISION: 0.8259075907590759 | ACCURACY: 0.7678244972577697\n",
      "Mean val loss: 0.495\n",
      "\n",
      "Epoch 94\n"
     ]
    },
    {
     "name": "stderr",
     "output_type": "stream",
     "text": [
      "Training: 100%|██████████| 303/303 [00:00<00:00, 674.83it/s]\n"
     ]
    },
    {
     "name": "stdout",
     "output_type": "stream",
     "text": [
      "Mean train loss: 0.453\n"
     ]
    },
    {
     "name": "stderr",
     "output_type": "stream",
     "text": [
      "Evaluating: 100%|██████████| 22/22 [00:00<00:00, 578.96it/s]\n"
     ]
    },
    {
     "name": "stdout",
     "output_type": "stream",
     "text": [
      "F1: 0.7786798446876103 | ROC/AUC: 0.7706053301191912 | RECALL: 0.7740350877192983 | PRECISION: 0.7833806818181818 | ACCURACY: 0.7707495429616088\n",
      "Mean val loss: 0.494\n",
      "\n",
      "Epoch 95\n"
     ]
    },
    {
     "name": "stderr",
     "output_type": "stream",
     "text": [
      "Training: 100%|██████████| 303/303 [00:00<00:00, 648.82it/s]\n"
     ]
    },
    {
     "name": "stdout",
     "output_type": "stream",
     "text": [
      "Mean train loss: 0.463\n"
     ]
    },
    {
     "name": "stderr",
     "output_type": "stream",
     "text": [
      "Evaluating: 100%|██████████| 22/22 [00:00<00:00, 628.56it/s]\n"
     ]
    },
    {
     "name": "stdout",
     "output_type": "stream",
     "text": [
      "F1: 0.7873848334514528 | ROC/AUC: 0.7806642560599972 | RECALL: 0.7796491228070176 | PRECISION: 0.7952755905511811 | ACCURACY: 0.7806215722120659\n",
      "Mean val loss: 0.493\n",
      "\n",
      "Epoch 96\n"
     ]
    },
    {
     "name": "stderr",
     "output_type": "stream",
     "text": [
      "Training: 100%|██████████| 303/303 [00:00<00:00, 623.46it/s]\n"
     ]
    },
    {
     "name": "stdout",
     "output_type": "stream",
     "text": [
      "Mean train loss: 0.455\n"
     ]
    },
    {
     "name": "stderr",
     "output_type": "stream",
     "text": [
      "Evaluating: 100%|██████████| 22/22 [00:00<00:00, 611.12it/s]\n"
     ]
    },
    {
     "name": "stdout",
     "output_type": "stream",
     "text": [
      "F1: 0.7813750454710804 | ROC/AUC: 0.7814222579349136 | RECALL: 0.7536842105263157 | PRECISION: 0.8111782477341389 | ACCURACY: 0.780255941499086\n",
      "Mean val loss: 0.486\n",
      "\n",
      "Epoch 97\n"
     ]
    },
    {
     "name": "stderr",
     "output_type": "stream",
     "text": [
      "Training: 100%|██████████| 303/303 [00:00<00:00, 633.89it/s]\n"
     ]
    },
    {
     "name": "stdout",
     "output_type": "stream",
     "text": [
      "Mean train loss: 0.459\n"
     ]
    },
    {
     "name": "stderr",
     "output_type": "stream",
     "text": [
      "Evaluating: 100%|██████████| 22/22 [00:00<00:00, 564.12it/s]\n"
     ]
    },
    {
     "name": "stdout",
     "output_type": "stream",
     "text": [
      "F1: 0.7898916967509025 | ROC/AUC: 0.7880581224052498 | RECALL: 0.767719298245614 | PRECISION: 0.8133828996282528 | ACCURACY: 0.7872029250457039\n",
      "Mean val loss: 0.492\n",
      "\n",
      "Epoch 98\n"
     ]
    },
    {
     "name": "stderr",
     "output_type": "stream",
     "text": [
      "Training: 100%|██████████| 303/303 [00:00<00:00, 614.61it/s]\n"
     ]
    },
    {
     "name": "stdout",
     "output_type": "stream",
     "text": [
      "Mean train loss: 0.457\n"
     ]
    },
    {
     "name": "stderr",
     "output_type": "stream",
     "text": [
      "Evaluating: 100%|██████████| 22/22 [00:00<00:00, 628.57it/s]\n"
     ]
    },
    {
     "name": "stdout",
     "output_type": "stream",
     "text": [
      "F1: 0.7798922800718133 | ROC/AUC: 0.7764724789071915 | RECALL: 0.7621052631578947 | PRECISION: 0.7985294117647059 | ACCURACY: 0.7758683729433272\n",
      "Mean val loss: 0.488\n",
      "\n",
      "Epoch 99\n"
     ]
    },
    {
     "name": "stderr",
     "output_type": "stream",
     "text": [
      "Training: 100%|██████████| 303/303 [00:00<00:00, 609.66it/s]\n"
     ]
    },
    {
     "name": "stdout",
     "output_type": "stream",
     "text": [
      "Mean train loss: 0.453\n"
     ]
    },
    {
     "name": "stderr",
     "output_type": "stream",
     "text": [
      "Evaluating: 100%|██████████| 22/22 [00:00<00:00, 611.09it/s]\n"
     ]
    },
    {
     "name": "stdout",
     "output_type": "stream",
     "text": [
      "F1: 0.7567981616238989 | ROC/AUC: 0.7710941475826972 | RECALL: 0.6933333333333334 | PRECISION: 0.8330522765598651 | ACCURACY: 0.7678244972577697\n",
      "Mean val loss: 0.509\n",
      "\n",
      "Epoch 100\n"
     ]
    },
    {
     "name": "stderr",
     "output_type": "stream",
     "text": [
      "Training: 100%|██████████| 303/303 [00:00<00:00, 613.36it/s]\n"
     ]
    },
    {
     "name": "stdout",
     "output_type": "stream",
     "text": [
      "Mean train loss: 0.457\n"
     ]
    },
    {
     "name": "stderr",
     "output_type": "stream",
     "text": [
      "Evaluating: 100%|██████████| 22/22 [00:00<00:00, 611.11it/s]"
     ]
    },
    {
     "name": "stdout",
     "output_type": "stream",
     "text": [
      "F1: 0.7827042872847196 | ROC/AUC: 0.7846605062274007 | RECALL: 0.7494736842105263 | PRECISION: 0.8190184049079755 | ACCURACY: 0.7831809872029251\n",
      "Mean val loss: 0.485\n"
     ]
    },
    {
     "name": "stderr",
     "output_type": "stream",
     "text": [
      "\n"
     ]
    }
   ],
   "source": [
    "model = BinaryClassifier(input_dim=len(node_types)).to(DEVICE)\n",
    "criterion = nn.BCELoss()\n",
    "optimizer = optim.Adam(model.parameters(), lr=5e-4)\n",
    "\n",
    "\n",
    "best_recall = 0\n",
    "epochs = 100\n",
    "early_stopping = 20\n",
    "es_index = 0\n",
    "for epoch in range(1, epochs + 1):\n",
    "    print(f\"\\nEpoch {epoch}\")\n",
    "    train_loss = train_model(train_loader, model, optimizer, criterion)\n",
    "    print(f\"Mean train loss: {train_loss:.3f}\")\n",
    "    eval_loss, recall = eval_model(val_loader, model, criterion)\n",
    "    print(f\"Mean val loss: {eval_loss:.3f}\")\n",
    "\n",
    "    if recall > best_recall:\n",
    "        best_recall = recall\n",
    "        torch.save(model.state_dict(), \"../../data/generated/best_nn_ast.pth\")\n",
    "        es_index = 0\n",
    "\n",
    "    else:\n",
    "        es_index += 1\n",
    "\n",
    "    if es_index > early_stopping:\n",
    "        break"
   ]
  },
  {
   "cell_type": "markdown",
   "id": "43998d70",
   "metadata": {},
   "source": [
    "## Testing"
   ]
  },
  {
   "cell_type": "code",
   "execution_count": 162,
   "id": "aee5a58c",
   "metadata": {},
   "outputs": [
    {
     "name": "stderr",
     "output_type": "stream",
     "text": [
      "Evaluating: 100%|██████████| 20/20 [00:00<00:00, 487.79it/s]"
     ]
    },
    {
     "name": "stdout",
     "output_type": "stream",
     "text": [
      "F1: 0.7873267326732674 | ROC/AUC: 0.7847481585226683 | RECALL: 0.7669753086419753 | PRECISION: 0.8087876322213181 | ACCURACY: 0.7839903459372486\n"
     ]
    },
    {
     "name": "stderr",
     "output_type": "stream",
     "text": [
      "\n"
     ]
    },
    {
     "data": {
      "text/plain": [
       "(0.4990876778960228, 0.7873267326732674)"
      ]
     },
     "execution_count": 162,
     "metadata": {},
     "output_type": "execute_result"
    }
   ],
   "source": [
    "best_model = BinaryClassifier(input_dim=len(node_types)).to(DEVICE)\n",
    "best_model.load_state_dict(torch.load(\"../../data/generated/best_nn_ast.pth\"))\n",
    "\n",
    "\n",
    "eval_model(test_loader, best_model, criterion)"
   ]
  }
 ],
 "metadata": {
  "kernelspec": {
   "display_name": ".venv",
   "language": "python",
   "name": "python3"
  },
  "language_info": {
   "codemirror_mode": {
    "name": "ipython",
    "version": 3
   },
   "file_extension": ".py",
   "mimetype": "text/x-python",
   "name": "python",
   "nbconvert_exporter": "python",
   "pygments_lexer": "ipython3",
   "version": "3.12.2"
  }
 },
 "nbformat": 4,
 "nbformat_minor": 5
}
